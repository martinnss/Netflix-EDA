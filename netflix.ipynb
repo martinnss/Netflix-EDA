{
 "metadata": {
  "language_info": {
   "codemirror_mode": {
    "name": "ipython",
    "version": 3
   },
   "file_extension": ".py",
   "mimetype": "text/x-python",
   "name": "python",
   "nbconvert_exporter": "python",
   "pygments_lexer": "ipython3",
   "version": "3.9.5"
  },
  "orig_nbformat": 4,
  "kernelspec": {
   "name": "python3",
   "display_name": "Python 3.9.5 64-bit"
  },
  "interpreter": {
   "hash": "63fd5069d213b44bf678585dea6b12cceca9941eaf7f819626cde1f2670de90d"
  }
 },
 "nbformat": 4,
 "nbformat_minor": 2,
 "cells": [
  {
   "source": [
    "## NETFLIX EDA\n",
    "Hi! I'm Martín and this is my first EDA from a netflix movies dataset\n",
    "\n",
    "first we're going to import the packages"
   ],
   "cell_type": "markdown",
   "metadata": {}
  },
  {
   "cell_type": "code",
   "execution_count": 1,
   "metadata": {},
   "outputs": [],
   "source": [
    "import pandas as pd\n",
    "import matplotlib.pyplot as plt\n",
    "import missingno as msno\n",
    "import seaborn as sns\n",
    "import plotly.graph_objs as go \n",
    "import plotly.express as px\n",
    "from plotly.offline import init_notebook_mode,iplot,plot"
   ]
  },
  {
   "source": [
    "### 2)Load the data and study the dimensions"
   ],
   "cell_type": "markdown",
   "metadata": {}
  },
  {
   "cell_type": "code",
   "execution_count": 2,
   "metadata": {},
   "outputs": [
    {
     "output_type": "stream",
     "name": "stdout",
     "text": [
      "(7787, 12)\nIndex(['show_id', 'type', 'title', 'director', 'cast', 'country', 'date_added',\n       'release_year', 'rating', 'duration', 'listed_in', 'description'],\n      dtype='object')\n"
     ]
    }
   ],
   "source": [
    "data=pd.read_csv('titles.csv',parse_dates=['date_added','release_year'])\n",
    "print(data.shape)\n",
    "print(data.columns)"
   ]
  },
  {
   "source": [
    "As we can see we have 7787 rows and 12 columns from this netflix dataset"
   ],
   "cell_type": "markdown",
   "metadata": {}
  },
  {
   "source": [
    "### 3) Data Overview\n",
    "In this step we want to know if we have missing or duplicated values"
   ],
   "cell_type": "markdown",
   "metadata": {}
  },
  {
   "cell_type": "code",
   "execution_count": 3,
   "metadata": {},
   "outputs": [
    {
     "output_type": "stream",
     "name": "stdout",
     "text": [
      "<class 'pandas.core.frame.DataFrame'>\nRangeIndex: 7787 entries, 0 to 7786\nData columns (total 12 columns):\n #   Column        Non-Null Count  Dtype         \n---  ------        --------------  -----         \n 0   show_id       7787 non-null   object        \n 1   type          7787 non-null   object        \n 2   title         7787 non-null   object        \n 3   director      5398 non-null   object        \n 4   cast          7069 non-null   object        \n 5   country       7280 non-null   object        \n 6   date_added    7777 non-null   datetime64[ns]\n 7   release_year  7787 non-null   datetime64[ns]\n 8   rating        7780 non-null   object        \n 9   duration      7787 non-null   object        \n 10  listed_in     7787 non-null   object        \n 11  description   7787 non-null   object        \ndtypes: datetime64[ns](2), object(10)\nmemory usage: 730.2+ KB\nNone\nshow_id            0\ntype               0\ntitle              0\ndirector        2389\ncast             718\ncountry          507\ndate_added        10\nrelease_year       0\nrating             7\nduration           0\nlisted_in          0\ndescription        0\ndtype: int64\nNumber of duplicated values: 0\n"
     ]
    },
    {
     "output_type": "execute_result",
     "data": {
      "text/plain": [
       "<AxesSubplot:>"
      ]
     },
     "metadata": {},
     "execution_count": 3
    },
    {
     "output_type": "display_data",
     "data": {
      "text/plain": "<Figure size 1728x720 with 3 Axes>",
      "image/svg+xml": "<?xml version=\"1.0\" encoding=\"utf-8\" standalone=\"no\"?>\r\n<!DOCTYPE svg PUBLIC \"-//W3C//DTD SVG 1.1//EN\"\r\n  \"http://www.w3.org/Graphics/SVG/1.1/DTD/svg11.dtd\">\r\n<svg height=\"695.156788pt\" version=\"1.1\" viewBox=\"0 0 1433.765 695.156788\" width=\"1433.765pt\" xmlns=\"http://www.w3.org/2000/svg\" xmlns:xlink=\"http://www.w3.org/1999/xlink\">\r\n <metadata>\r\n  <rdf:RDF xmlns:cc=\"http://creativecommons.org/ns#\" xmlns:dc=\"http://purl.org/dc/elements/1.1/\" xmlns:rdf=\"http://www.w3.org/1999/02/22-rdf-syntax-ns#\">\r\n   <cc:Work>\r\n    <dc:type rdf:resource=\"http://purl.org/dc/dcmitype/StillImage\"/>\r\n    <dc:date>2021-07-05T19:01:22.905547</dc:date>\r\n    <dc:format>image/svg+xml</dc:format>\r\n    <dc:creator>\r\n     <cc:Agent>\r\n      <dc:title>Matplotlib v3.4.2, https://matplotlib.org/</dc:title>\r\n     </cc:Agent>\r\n    </dc:creator>\r\n   </cc:Work>\r\n  </rdf:RDF>\r\n </metadata>\r\n <defs>\r\n  <style type=\"text/css\">*{stroke-linecap:butt;stroke-linejoin:round;}</style>\r\n </defs>\r\n <g id=\"figure_1\">\r\n  <g id=\"patch_1\">\r\n   <path d=\"M 0 695.156788 \r\nL 1433.765 695.156788 \r\nL 1433.765 0 \r\nL 0 0 \r\nz\r\n\" style=\"fill:none;\"/>\r\n  </g>\r\n  <g id=\"axes_1\">\r\n   <g id=\"patch_2\">\r\n    <path d=\"M 39.645 597.542937 \r\nL 1378.845 597.542937 \r\nL 1378.845 53.942937 \r\nL 39.645 53.942937 \r\nz\r\n\" style=\"fill:#ffffff;\"/>\r\n   </g>\r\n   <g id=\"patch_3\">\r\n    <path clip-path=\"url(#p50e1a626e8)\" d=\"M 67.545 597.542937 \r\nL 123.345 597.542937 \r\nL 123.345 53.942937 \r\nL 67.545 53.942937 \r\nz\r\n\" style=\"fill:#696969;\"/>\r\n   </g>\r\n   <g id=\"patch_4\">\r\n    <path clip-path=\"url(#p50e1a626e8)\" d=\"M 179.145 597.542937 \r\nL 234.945 597.542937 \r\nL 234.945 53.942937 \r\nL 179.145 53.942937 \r\nz\r\n\" style=\"fill:#696969;\"/>\r\n   </g>\r\n   <g id=\"patch_5\">\r\n    <path clip-path=\"url(#p50e1a626e8)\" d=\"M 290.745 597.542937 \r\nL 346.545 597.542937 \r\nL 346.545 53.942937 \r\nL 290.745 53.942937 \r\nz\r\n\" style=\"fill:#696969;\"/>\r\n   </g>\r\n   <g id=\"patch_6\">\r\n    <path clip-path=\"url(#p50e1a626e8)\" d=\"M 402.345 597.542937 \r\nL 458.145 597.542937 \r\nL 458.145 220.715815 \r\nL 402.345 220.715815 \r\nz\r\n\" style=\"fill:#696969;\"/>\r\n   </g>\r\n   <g id=\"patch_7\">\r\n    <path clip-path=\"url(#p50e1a626e8)\" d=\"M 513.945 597.542937 \r\nL 569.745 597.542937 \r\nL 569.745 104.065551 \r\nL 513.945 104.065551 \r\nz\r\n\" style=\"fill:#696969;\"/>\r\n   </g>\r\n   <g id=\"patch_8\">\r\n    <path clip-path=\"url(#p50e1a626e8)\" d=\"M 625.545 597.542937 \r\nL 681.345 597.542937 \r\nL 681.345 89.335925 \r\nL 625.545 89.335925 \r\nz\r\n\" style=\"fill:#696969;\"/>\r\n   </g>\r\n   <g id=\"patch_9\">\r\n    <path clip-path=\"url(#p50e1a626e8)\" d=\"M 737.145 597.542937 \r\nL 792.945 597.542937 \r\nL 792.945 54.641023 \r\nL 737.145 54.641023 \r\nz\r\n\" style=\"fill:#696969;\"/>\r\n   </g>\r\n   <g id=\"patch_10\">\r\n    <path clip-path=\"url(#p50e1a626e8)\" d=\"M 848.745 597.542937 \r\nL 904.545 597.542937 \r\nL 904.545 53.942937 \r\nL 848.745 53.942937 \r\nz\r\n\" style=\"fill:#696969;\"/>\r\n   </g>\r\n   <g id=\"patch_11\">\r\n    <path clip-path=\"url(#p50e1a626e8)\" d=\"M 960.345 597.542937 \r\nL 1016.145 597.542937 \r\nL 1016.145 54.431597 \r\nL 960.345 54.431597 \r\nz\r\n\" style=\"fill:#696969;\"/>\r\n   </g>\r\n   <g id=\"patch_12\">\r\n    <path clip-path=\"url(#p50e1a626e8)\" d=\"M 1071.945 597.542937 \r\nL 1127.745 597.542937 \r\nL 1127.745 53.942937 \r\nL 1071.945 53.942937 \r\nz\r\n\" style=\"fill:#696969;\"/>\r\n   </g>\r\n   <g id=\"patch_13\">\r\n    <path clip-path=\"url(#p50e1a626e8)\" d=\"M 1183.545 597.542937 \r\nL 1239.345 597.542937 \r\nL 1239.345 53.942937 \r\nL 1183.545 53.942937 \r\nz\r\n\" style=\"fill:#696969;\"/>\r\n   </g>\r\n   <g id=\"patch_14\">\r\n    <path clip-path=\"url(#p50e1a626e8)\" d=\"M 1295.145 597.542937 \r\nL 1350.945 597.542937 \r\nL 1350.945 53.942937 \r\nL 1295.145 53.942937 \r\nz\r\n\" style=\"fill:#696969;\"/>\r\n   </g>\r\n   <g id=\"matplotlib.axis_1\">\r\n    <g id=\"xtick_1\">\r\n     <g id=\"text_1\">\r\n      <!-- show_id -->\r\n      <g transform=\"translate(47.556193 658.360834)rotate(-45)scale(0.16 -0.16)\">\r\n       <defs>\r\n        <path d=\"M 2834 3397 \r\nL 2834 2853 \r\nQ 2591 2978 2328 3040 \r\nQ 2066 3103 1784 3103 \r\nQ 1356 3103 1142 2972 \r\nQ 928 2841 928 2578 \r\nQ 928 2378 1081 2264 \r\nQ 1234 2150 1697 2047 \r\nL 1894 2003 \r\nQ 2506 1872 2764 1633 \r\nQ 3022 1394 3022 966 \r\nQ 3022 478 2636 193 \r\nQ 2250 -91 1575 -91 \r\nQ 1294 -91 989 -36 \r\nQ 684 19 347 128 \r\nL 347 722 \r\nQ 666 556 975 473 \r\nQ 1284 391 1588 391 \r\nQ 1994 391 2212 530 \r\nQ 2431 669 2431 922 \r\nQ 2431 1156 2273 1281 \r\nQ 2116 1406 1581 1522 \r\nL 1381 1569 \r\nQ 847 1681 609 1914 \r\nQ 372 2147 372 2553 \r\nQ 372 3047 722 3315 \r\nQ 1072 3584 1716 3584 \r\nQ 2034 3584 2315 3537 \r\nQ 2597 3491 2834 3397 \r\nz\r\n\" id=\"DejaVuSans-73\" transform=\"scale(0.015625)\"/>\r\n        <path d=\"M 3513 2113 \r\nL 3513 0 \r\nL 2938 0 \r\nL 2938 2094 \r\nQ 2938 2591 2744 2837 \r\nQ 2550 3084 2163 3084 \r\nQ 1697 3084 1428 2787 \r\nQ 1159 2491 1159 1978 \r\nL 1159 0 \r\nL 581 0 \r\nL 581 4863 \r\nL 1159 4863 \r\nL 1159 2956 \r\nQ 1366 3272 1645 3428 \r\nQ 1925 3584 2291 3584 \r\nQ 2894 3584 3203 3211 \r\nQ 3513 2838 3513 2113 \r\nz\r\n\" id=\"DejaVuSans-68\" transform=\"scale(0.015625)\"/>\r\n        <path d=\"M 1959 3097 \r\nQ 1497 3097 1228 2736 \r\nQ 959 2375 959 1747 \r\nQ 959 1119 1226 758 \r\nQ 1494 397 1959 397 \r\nQ 2419 397 2687 759 \r\nQ 2956 1122 2956 1747 \r\nQ 2956 2369 2687 2733 \r\nQ 2419 3097 1959 3097 \r\nz\r\nM 1959 3584 \r\nQ 2709 3584 3137 3096 \r\nQ 3566 2609 3566 1747 \r\nQ 3566 888 3137 398 \r\nQ 2709 -91 1959 -91 \r\nQ 1206 -91 779 398 \r\nQ 353 888 353 1747 \r\nQ 353 2609 779 3096 \r\nQ 1206 3584 1959 3584 \r\nz\r\n\" id=\"DejaVuSans-6f\" transform=\"scale(0.015625)\"/>\r\n        <path d=\"M 269 3500 \r\nL 844 3500 \r\nL 1563 769 \r\nL 2278 3500 \r\nL 2956 3500 \r\nL 3675 769 \r\nL 4391 3500 \r\nL 4966 3500 \r\nL 4050 0 \r\nL 3372 0 \r\nL 2619 2869 \r\nL 1863 0 \r\nL 1184 0 \r\nL 269 3500 \r\nz\r\n\" id=\"DejaVuSans-77\" transform=\"scale(0.015625)\"/>\r\n        <path d=\"M 3263 -1063 \r\nL 3263 -1509 \r\nL -63 -1509 \r\nL -63 -1063 \r\nL 3263 -1063 \r\nz\r\n\" id=\"DejaVuSans-5f\" transform=\"scale(0.015625)\"/>\r\n        <path d=\"M 603 3500 \r\nL 1178 3500 \r\nL 1178 0 \r\nL 603 0 \r\nL 603 3500 \r\nz\r\nM 603 4863 \r\nL 1178 4863 \r\nL 1178 4134 \r\nL 603 4134 \r\nL 603 4863 \r\nz\r\n\" id=\"DejaVuSans-69\" transform=\"scale(0.015625)\"/>\r\n        <path d=\"M 2906 2969 \r\nL 2906 4863 \r\nL 3481 4863 \r\nL 3481 0 \r\nL 2906 0 \r\nL 2906 525 \r\nQ 2725 213 2448 61 \r\nQ 2172 -91 1784 -91 \r\nQ 1150 -91 751 415 \r\nQ 353 922 353 1747 \r\nQ 353 2572 751 3078 \r\nQ 1150 3584 1784 3584 \r\nQ 2172 3584 2448 3432 \r\nQ 2725 3281 2906 2969 \r\nz\r\nM 947 1747 \r\nQ 947 1113 1208 752 \r\nQ 1469 391 1925 391 \r\nQ 2381 391 2643 752 \r\nQ 2906 1113 2906 1747 \r\nQ 2906 2381 2643 2742 \r\nQ 2381 3103 1925 3103 \r\nQ 1469 3103 1208 2742 \r\nQ 947 2381 947 1747 \r\nz\r\n\" id=\"DejaVuSans-64\" transform=\"scale(0.015625)\"/>\r\n       </defs>\r\n       <use xlink:href=\"#DejaVuSans-73\"/>\r\n       <use x=\"52.099609\" xlink:href=\"#DejaVuSans-68\"/>\r\n       <use x=\"115.478516\" xlink:href=\"#DejaVuSans-6f\"/>\r\n       <use x=\"176.660156\" xlink:href=\"#DejaVuSans-77\"/>\r\n       <use x=\"258.447266\" xlink:href=\"#DejaVuSans-5f\"/>\r\n       <use x=\"308.447266\" xlink:href=\"#DejaVuSans-69\"/>\r\n       <use x=\"336.230469\" xlink:href=\"#DejaVuSans-64\"/>\r\n      </g>\r\n     </g>\r\n    </g>\r\n    <g id=\"xtick_2\">\r\n     <g id=\"text_2\">\r\n      <!-- type -->\r\n      <g transform=\"translate(179.41657 638.415119)rotate(-45)scale(0.16 -0.16)\">\r\n       <defs>\r\n        <path d=\"M 1172 4494 \r\nL 1172 3500 \r\nL 2356 3500 \r\nL 2356 3053 \r\nL 1172 3053 \r\nL 1172 1153 \r\nQ 1172 725 1289 603 \r\nQ 1406 481 1766 481 \r\nL 2356 481 \r\nL 2356 0 \r\nL 1766 0 \r\nQ 1100 0 847 248 \r\nQ 594 497 594 1153 \r\nL 594 3053 \r\nL 172 3053 \r\nL 172 3500 \r\nL 594 3500 \r\nL 594 4494 \r\nL 1172 4494 \r\nz\r\n\" id=\"DejaVuSans-74\" transform=\"scale(0.015625)\"/>\r\n        <path d=\"M 2059 -325 \r\nQ 1816 -950 1584 -1140 \r\nQ 1353 -1331 966 -1331 \r\nL 506 -1331 \r\nL 506 -850 \r\nL 844 -850 \r\nQ 1081 -850 1212 -737 \r\nQ 1344 -625 1503 -206 \r\nL 1606 56 \r\nL 191 3500 \r\nL 800 3500 \r\nL 1894 763 \r\nL 2988 3500 \r\nL 3597 3500 \r\nL 2059 -325 \r\nz\r\n\" id=\"DejaVuSans-79\" transform=\"scale(0.015625)\"/>\r\n        <path d=\"M 1159 525 \r\nL 1159 -1331 \r\nL 581 -1331 \r\nL 581 3500 \r\nL 1159 3500 \r\nL 1159 2969 \r\nQ 1341 3281 1617 3432 \r\nQ 1894 3584 2278 3584 \r\nQ 2916 3584 3314 3078 \r\nQ 3713 2572 3713 1747 \r\nQ 3713 922 3314 415 \r\nQ 2916 -91 2278 -91 \r\nQ 1894 -91 1617 61 \r\nQ 1341 213 1159 525 \r\nz\r\nM 3116 1747 \r\nQ 3116 2381 2855 2742 \r\nQ 2594 3103 2138 3103 \r\nQ 1681 3103 1420 2742 \r\nQ 1159 2381 1159 1747 \r\nQ 1159 1113 1420 752 \r\nQ 1681 391 2138 391 \r\nQ 2594 391 2855 752 \r\nQ 3116 1113 3116 1747 \r\nz\r\n\" id=\"DejaVuSans-70\" transform=\"scale(0.015625)\"/>\r\n        <path d=\"M 3597 1894 \r\nL 3597 1613 \r\nL 953 1613 \r\nQ 991 1019 1311 708 \r\nQ 1631 397 2203 397 \r\nQ 2534 397 2845 478 \r\nQ 3156 559 3463 722 \r\nL 3463 178 \r\nQ 3153 47 2828 -22 \r\nQ 2503 -91 2169 -91 \r\nQ 1331 -91 842 396 \r\nQ 353 884 353 1716 \r\nQ 353 2575 817 3079 \r\nQ 1281 3584 2069 3584 \r\nQ 2775 3584 3186 3129 \r\nQ 3597 2675 3597 1894 \r\nz\r\nM 3022 2063 \r\nQ 3016 2534 2758 2815 \r\nQ 2500 3097 2075 3097 \r\nQ 1594 3097 1305 2825 \r\nQ 1016 2553 972 2059 \r\nL 3022 2063 \r\nz\r\n\" id=\"DejaVuSans-65\" transform=\"scale(0.015625)\"/>\r\n       </defs>\r\n       <use xlink:href=\"#DejaVuSans-74\"/>\r\n       <use x=\"39.208984\" xlink:href=\"#DejaVuSans-79\"/>\r\n       <use x=\"98.388672\" xlink:href=\"#DejaVuSans-70\"/>\r\n       <use x=\"161.865234\" xlink:href=\"#DejaVuSans-65\"/>\r\n      </g>\r\n     </g>\r\n    </g>\r\n    <g id=\"xtick_3\">\r\n     <g id=\"text_3\">\r\n      <!-- title -->\r\n      <g transform=\"translate(294.173802 635.257887)rotate(-45)scale(0.16 -0.16)\">\r\n       <defs>\r\n        <path d=\"M 603 4863 \r\nL 1178 4863 \r\nL 1178 0 \r\nL 603 0 \r\nL 603 4863 \r\nz\r\n\" id=\"DejaVuSans-6c\" transform=\"scale(0.015625)\"/>\r\n       </defs>\r\n       <use xlink:href=\"#DejaVuSans-74\"/>\r\n       <use x=\"39.208984\" xlink:href=\"#DejaVuSans-69\"/>\r\n       <use x=\"66.992188\" xlink:href=\"#DejaVuSans-74\"/>\r\n       <use x=\"106.201172\" xlink:href=\"#DejaVuSans-6c\"/>\r\n       <use x=\"133.984375\" xlink:href=\"#DejaVuSans-65\"/>\r\n      </g>\r\n     </g>\r\n    </g>\r\n    <g id=\"xtick_4\">\r\n     <g id=\"text_4\">\r\n      <!-- director -->\r\n      <g transform=\"translate(383.979003 657.052686)rotate(-45)scale(0.16 -0.16)\">\r\n       <defs>\r\n        <path d=\"M 2631 2963 \r\nQ 2534 3019 2420 3045 \r\nQ 2306 3072 2169 3072 \r\nQ 1681 3072 1420 2755 \r\nQ 1159 2438 1159 1844 \r\nL 1159 0 \r\nL 581 0 \r\nL 581 3500 \r\nL 1159 3500 \r\nL 1159 2956 \r\nQ 1341 3275 1631 3429 \r\nQ 1922 3584 2338 3584 \r\nQ 2397 3584 2469 3576 \r\nQ 2541 3569 2628 3553 \r\nL 2631 2963 \r\nz\r\n\" id=\"DejaVuSans-72\" transform=\"scale(0.015625)\"/>\r\n        <path d=\"M 3122 3366 \r\nL 3122 2828 \r\nQ 2878 2963 2633 3030 \r\nQ 2388 3097 2138 3097 \r\nQ 1578 3097 1268 2742 \r\nQ 959 2388 959 1747 \r\nQ 959 1106 1268 751 \r\nQ 1578 397 2138 397 \r\nQ 2388 397 2633 464 \r\nQ 2878 531 3122 666 \r\nL 3122 134 \r\nQ 2881 22 2623 -34 \r\nQ 2366 -91 2075 -91 \r\nQ 1284 -91 818 406 \r\nQ 353 903 353 1747 \r\nQ 353 2603 823 3093 \r\nQ 1294 3584 2113 3584 \r\nQ 2378 3584 2631 3529 \r\nQ 2884 3475 3122 3366 \r\nz\r\n\" id=\"DejaVuSans-63\" transform=\"scale(0.015625)\"/>\r\n       </defs>\r\n       <use xlink:href=\"#DejaVuSans-64\"/>\r\n       <use x=\"63.476562\" xlink:href=\"#DejaVuSans-69\"/>\r\n       <use x=\"91.259766\" xlink:href=\"#DejaVuSans-72\"/>\r\n       <use x=\"130.123047\" xlink:href=\"#DejaVuSans-65\"/>\r\n       <use x=\"191.646484\" xlink:href=\"#DejaVuSans-63\"/>\r\n       <use x=\"246.626953\" xlink:href=\"#DejaVuSans-74\"/>\r\n       <use x=\"285.835938\" xlink:href=\"#DejaVuSans-6f\"/>\r\n       <use x=\"347.017578\" xlink:href=\"#DejaVuSans-72\"/>\r\n      </g>\r\n     </g>\r\n    </g>\r\n    <g id=\"xtick_5\">\r\n     <g id=\"text_5\">\r\n      <!-- cast -->\r\n      <g transform=\"translate(516.009086 636.622604)rotate(-45)scale(0.16 -0.16)\">\r\n       <defs>\r\n        <path d=\"M 2194 1759 \r\nQ 1497 1759 1228 1600 \r\nQ 959 1441 959 1056 \r\nQ 959 750 1161 570 \r\nQ 1363 391 1709 391 \r\nQ 2188 391 2477 730 \r\nQ 2766 1069 2766 1631 \r\nL 2766 1759 \r\nL 2194 1759 \r\nz\r\nM 3341 1997 \r\nL 3341 0 \r\nL 2766 0 \r\nL 2766 531 \r\nQ 2569 213 2275 61 \r\nQ 1981 -91 1556 -91 \r\nQ 1019 -91 701 211 \r\nQ 384 513 384 1019 \r\nQ 384 1609 779 1909 \r\nQ 1175 2209 1959 2209 \r\nL 2766 2209 \r\nL 2766 2266 \r\nQ 2766 2663 2505 2880 \r\nQ 2244 3097 1772 3097 \r\nQ 1472 3097 1187 3025 \r\nQ 903 2953 641 2809 \r\nL 641 3341 \r\nQ 956 3463 1253 3523 \r\nQ 1550 3584 1831 3584 \r\nQ 2591 3584 2966 3190 \r\nQ 3341 2797 3341 1997 \r\nz\r\n\" id=\"DejaVuSans-61\" transform=\"scale(0.015625)\"/>\r\n       </defs>\r\n       <use xlink:href=\"#DejaVuSans-63\"/>\r\n       <use x=\"54.980469\" xlink:href=\"#DejaVuSans-61\"/>\r\n       <use x=\"116.259766\" xlink:href=\"#DejaVuSans-73\"/>\r\n       <use x=\"168.359375\" xlink:href=\"#DejaVuSans-74\"/>\r\n      </g>\r\n     </g>\r\n    </g>\r\n    <g id=\"xtick_6\">\r\n     <g id=\"text_6\">\r\n      <!-- country -->\r\n      <g transform=\"translate(607.826006 656.405684)rotate(-45)scale(0.16 -0.16)\">\r\n       <defs>\r\n        <path d=\"M 544 1381 \r\nL 544 3500 \r\nL 1119 3500 \r\nL 1119 1403 \r\nQ 1119 906 1312 657 \r\nQ 1506 409 1894 409 \r\nQ 2359 409 2629 706 \r\nQ 2900 1003 2900 1516 \r\nL 2900 3500 \r\nL 3475 3500 \r\nL 3475 0 \r\nL 2900 0 \r\nL 2900 538 \r\nQ 2691 219 2414 64 \r\nQ 2138 -91 1772 -91 \r\nQ 1169 -91 856 284 \r\nQ 544 659 544 1381 \r\nz\r\nM 1991 3584 \r\nL 1991 3584 \r\nz\r\n\" id=\"DejaVuSans-75\" transform=\"scale(0.015625)\"/>\r\n        <path d=\"M 3513 2113 \r\nL 3513 0 \r\nL 2938 0 \r\nL 2938 2094 \r\nQ 2938 2591 2744 2837 \r\nQ 2550 3084 2163 3084 \r\nQ 1697 3084 1428 2787 \r\nQ 1159 2491 1159 1978 \r\nL 1159 0 \r\nL 581 0 \r\nL 581 3500 \r\nL 1159 3500 \r\nL 1159 2956 \r\nQ 1366 3272 1645 3428 \r\nQ 1925 3584 2291 3584 \r\nQ 2894 3584 3203 3211 \r\nQ 3513 2838 3513 2113 \r\nz\r\n\" id=\"DejaVuSans-6e\" transform=\"scale(0.015625)\"/>\r\n       </defs>\r\n       <use xlink:href=\"#DejaVuSans-63\"/>\r\n       <use x=\"54.980469\" xlink:href=\"#DejaVuSans-6f\"/>\r\n       <use x=\"116.162109\" xlink:href=\"#DejaVuSans-75\"/>\r\n       <use x=\"179.541016\" xlink:href=\"#DejaVuSans-6e\"/>\r\n       <use x=\"242.919922\" xlink:href=\"#DejaVuSans-74\"/>\r\n       <use x=\"282.128906\" xlink:href=\"#DejaVuSans-72\"/>\r\n       <use x=\"323.242188\" xlink:href=\"#DejaVuSans-79\"/>\r\n      </g>\r\n     </g>\r\n    </g>\r\n    <g id=\"xtick_7\">\r\n     <g id=\"text_7\">\r\n      <!-- date_added -->\r\n      <g transform=\"translate(695.766213 679.750814)rotate(-45)scale(0.16 -0.16)\">\r\n       <use xlink:href=\"#DejaVuSans-64\"/>\r\n       <use x=\"63.476562\" xlink:href=\"#DejaVuSans-61\"/>\r\n       <use x=\"124.755859\" xlink:href=\"#DejaVuSans-74\"/>\r\n       <use x=\"163.964844\" xlink:href=\"#DejaVuSans-65\"/>\r\n       <use x=\"225.488281\" xlink:href=\"#DejaVuSans-5f\"/>\r\n       <use x=\"275.488281\" xlink:href=\"#DejaVuSans-61\"/>\r\n       <use x=\"336.767578\" xlink:href=\"#DejaVuSans-64\"/>\r\n       <use x=\"400.244141\" xlink:href=\"#DejaVuSans-64\"/>\r\n       <use x=\"463.720703\" xlink:href=\"#DejaVuSans-65\"/>\r\n       <use x=\"525.244141\" xlink:href=\"#DejaVuSans-64\"/>\r\n      </g>\r\n     </g>\r\n    </g>\r\n    <g id=\"xtick_8\">\r\n     <g id=\"text_8\">\r\n      <!-- release_year -->\r\n      <g transform=\"translate(801.827799 685.289228)rotate(-45)scale(0.16 -0.16)\">\r\n       <use xlink:href=\"#DejaVuSans-72\"/>\r\n       <use x=\"38.863281\" xlink:href=\"#DejaVuSans-65\"/>\r\n       <use x=\"100.386719\" xlink:href=\"#DejaVuSans-6c\"/>\r\n       <use x=\"128.169922\" xlink:href=\"#DejaVuSans-65\"/>\r\n       <use x=\"189.693359\" xlink:href=\"#DejaVuSans-61\"/>\r\n       <use x=\"250.972656\" xlink:href=\"#DejaVuSans-73\"/>\r\n       <use x=\"303.072266\" xlink:href=\"#DejaVuSans-65\"/>\r\n       <use x=\"364.595703\" xlink:href=\"#DejaVuSans-5f\"/>\r\n       <use x=\"414.595703\" xlink:href=\"#DejaVuSans-79\"/>\r\n       <use x=\"473.775391\" xlink:href=\"#DejaVuSans-65\"/>\r\n       <use x=\"535.298828\" xlink:href=\"#DejaVuSans-61\"/>\r\n       <use x=\"596.578125\" xlink:href=\"#DejaVuSans-72\"/>\r\n      </g>\r\n     </g>\r\n    </g>\r\n    <g id=\"xtick_9\">\r\n     <g id=\"text_9\">\r\n      <!-- rating -->\r\n      <g transform=\"translate(952.377009 646.654681)rotate(-45)scale(0.16 -0.16)\">\r\n       <defs>\r\n        <path d=\"M 2906 1791 \r\nQ 2906 2416 2648 2759 \r\nQ 2391 3103 1925 3103 \r\nQ 1463 3103 1205 2759 \r\nQ 947 2416 947 1791 \r\nQ 947 1169 1205 825 \r\nQ 1463 481 1925 481 \r\nQ 2391 481 2648 825 \r\nQ 2906 1169 2906 1791 \r\nz\r\nM 3481 434 \r\nQ 3481 -459 3084 -895 \r\nQ 2688 -1331 1869 -1331 \r\nQ 1566 -1331 1297 -1286 \r\nQ 1028 -1241 775 -1147 \r\nL 775 -588 \r\nQ 1028 -725 1275 -790 \r\nQ 1522 -856 1778 -856 \r\nQ 2344 -856 2625 -561 \r\nQ 2906 -266 2906 331 \r\nL 2906 616 \r\nQ 2728 306 2450 153 \r\nQ 2172 0 1784 0 \r\nQ 1141 0 747 490 \r\nQ 353 981 353 1791 \r\nQ 353 2603 747 3093 \r\nQ 1141 3584 1784 3584 \r\nQ 2172 3584 2450 3431 \r\nQ 2728 3278 2906 2969 \r\nL 2906 3500 \r\nL 3481 3500 \r\nL 3481 434 \r\nz\r\n\" id=\"DejaVuSans-67\" transform=\"scale(0.015625)\"/>\r\n       </defs>\r\n       <use xlink:href=\"#DejaVuSans-72\"/>\r\n       <use x=\"41.113281\" xlink:href=\"#DejaVuSans-61\"/>\r\n       <use x=\"102.392578\" xlink:href=\"#DejaVuSans-74\"/>\r\n       <use x=\"141.601562\" xlink:href=\"#DejaVuSans-69\"/>\r\n       <use x=\"169.384766\" xlink:href=\"#DejaVuSans-6e\"/>\r\n       <use x=\"232.763672\" xlink:href=\"#DejaVuSans-67\"/>\r\n      </g>\r\n     </g>\r\n    </g>\r\n    <g id=\"xtick_10\">\r\n     <g id=\"text_10\">\r\n      <!-- duration -->\r\n      <g transform=\"translate(1049.88437 660.747319)rotate(-45)scale(0.16 -0.16)\">\r\n       <use xlink:href=\"#DejaVuSans-64\"/>\r\n       <use x=\"63.476562\" xlink:href=\"#DejaVuSans-75\"/>\r\n       <use x=\"126.855469\" xlink:href=\"#DejaVuSans-72\"/>\r\n       <use x=\"167.96875\" xlink:href=\"#DejaVuSans-61\"/>\r\n       <use x=\"229.248047\" xlink:href=\"#DejaVuSans-74\"/>\r\n       <use x=\"268.457031\" xlink:href=\"#DejaVuSans-69\"/>\r\n       <use x=\"296.240234\" xlink:href=\"#DejaVuSans-6f\"/>\r\n       <use x=\"357.421875\" xlink:href=\"#DejaVuSans-6e\"/>\r\n      </g>\r\n     </g>\r\n    </g>\r\n    <g id=\"xtick_11\">\r\n     <g id=\"text_11\">\r\n      <!-- listed_in -->\r\n      <g transform=\"translate(1162.048288 659.868739)rotate(-45)scale(0.16 -0.16)\">\r\n       <use xlink:href=\"#DejaVuSans-6c\"/>\r\n       <use x=\"27.783203\" xlink:href=\"#DejaVuSans-69\"/>\r\n       <use x=\"55.566406\" xlink:href=\"#DejaVuSans-73\"/>\r\n       <use x=\"107.666016\" xlink:href=\"#DejaVuSans-74\"/>\r\n       <use x=\"146.875\" xlink:href=\"#DejaVuSans-65\"/>\r\n       <use x=\"208.398438\" xlink:href=\"#DejaVuSans-64\"/>\r\n       <use x=\"271.875\" xlink:href=\"#DejaVuSans-5f\"/>\r\n       <use x=\"321.875\" xlink:href=\"#DejaVuSans-69\"/>\r\n       <use x=\"349.658203\" xlink:href=\"#DejaVuSans-6e\"/>\r\n      </g>\r\n     </g>\r\n    </g>\r\n    <g id=\"xtick_12\">\r\n     <g id=\"text_12\">\r\n      <!-- description -->\r\n      <g transform=\"translate(1257.786115 676.045574)rotate(-45)scale(0.16 -0.16)\">\r\n       <use xlink:href=\"#DejaVuSans-64\"/>\r\n       <use x=\"63.476562\" xlink:href=\"#DejaVuSans-65\"/>\r\n       <use x=\"125\" xlink:href=\"#DejaVuSans-73\"/>\r\n       <use x=\"177.099609\" xlink:href=\"#DejaVuSans-63\"/>\r\n       <use x=\"232.080078\" xlink:href=\"#DejaVuSans-72\"/>\r\n       <use x=\"273.193359\" xlink:href=\"#DejaVuSans-69\"/>\r\n       <use x=\"300.976562\" xlink:href=\"#DejaVuSans-70\"/>\r\n       <use x=\"364.453125\" xlink:href=\"#DejaVuSans-74\"/>\r\n       <use x=\"403.662109\" xlink:href=\"#DejaVuSans-69\"/>\r\n       <use x=\"431.445312\" xlink:href=\"#DejaVuSans-6f\"/>\r\n       <use x=\"492.626953\" xlink:href=\"#DejaVuSans-6e\"/>\r\n      </g>\r\n     </g>\r\n    </g>\r\n   </g>\r\n   <g id=\"matplotlib.axis_2\">\r\n    <g id=\"ytick_1\">\r\n     <g id=\"text_13\">\r\n      <!-- 0.0 -->\r\n      <g transform=\"translate(7.2 603.621687)scale(0.16 -0.16)\">\r\n       <defs>\r\n        <path d=\"M 2034 4250 \r\nQ 1547 4250 1301 3770 \r\nQ 1056 3291 1056 2328 \r\nQ 1056 1369 1301 889 \r\nQ 1547 409 2034 409 \r\nQ 2525 409 2770 889 \r\nQ 3016 1369 3016 2328 \r\nQ 3016 3291 2770 3770 \r\nQ 2525 4250 2034 4250 \r\nz\r\nM 2034 4750 \r\nQ 2819 4750 3233 4129 \r\nQ 3647 3509 3647 2328 \r\nQ 3647 1150 3233 529 \r\nQ 2819 -91 2034 -91 \r\nQ 1250 -91 836 529 \r\nQ 422 1150 422 2328 \r\nQ 422 3509 836 4129 \r\nQ 1250 4750 2034 4750 \r\nz\r\n\" id=\"DejaVuSans-30\" transform=\"scale(0.015625)\"/>\r\n        <path d=\"M 684 794 \r\nL 1344 794 \r\nL 1344 0 \r\nL 684 0 \r\nL 684 794 \r\nz\r\n\" id=\"DejaVuSans-2e\" transform=\"scale(0.015625)\"/>\r\n       </defs>\r\n       <use xlink:href=\"#DejaVuSans-30\"/>\r\n       <use x=\"63.623047\" xlink:href=\"#DejaVuSans-2e\"/>\r\n       <use x=\"95.410156\" xlink:href=\"#DejaVuSans-30\"/>\r\n      </g>\r\n     </g>\r\n    </g>\r\n    <g id=\"ytick_2\">\r\n     <g id=\"text_14\">\r\n      <!-- 0.2 -->\r\n      <g transform=\"translate(7.2 494.901687)scale(0.16 -0.16)\">\r\n       <defs>\r\n        <path d=\"M 1228 531 \r\nL 3431 531 \r\nL 3431 0 \r\nL 469 0 \r\nL 469 531 \r\nQ 828 903 1448 1529 \r\nQ 2069 2156 2228 2338 \r\nQ 2531 2678 2651 2914 \r\nQ 2772 3150 2772 3378 \r\nQ 2772 3750 2511 3984 \r\nQ 2250 4219 1831 4219 \r\nQ 1534 4219 1204 4116 \r\nQ 875 4013 500 3803 \r\nL 500 4441 \r\nQ 881 4594 1212 4672 \r\nQ 1544 4750 1819 4750 \r\nQ 2544 4750 2975 4387 \r\nQ 3406 4025 3406 3419 \r\nQ 3406 3131 3298 2873 \r\nQ 3191 2616 2906 2266 \r\nQ 2828 2175 2409 1742 \r\nQ 1991 1309 1228 531 \r\nz\r\n\" id=\"DejaVuSans-32\" transform=\"scale(0.015625)\"/>\r\n       </defs>\r\n       <use xlink:href=\"#DejaVuSans-30\"/>\r\n       <use x=\"63.623047\" xlink:href=\"#DejaVuSans-2e\"/>\r\n       <use x=\"95.410156\" xlink:href=\"#DejaVuSans-32\"/>\r\n      </g>\r\n     </g>\r\n    </g>\r\n    <g id=\"ytick_3\">\r\n     <g id=\"text_15\">\r\n      <!-- 0.4 -->\r\n      <g transform=\"translate(7.2 386.181687)scale(0.16 -0.16)\">\r\n       <defs>\r\n        <path d=\"M 2419 4116 \r\nL 825 1625 \r\nL 2419 1625 \r\nL 2419 4116 \r\nz\r\nM 2253 4666 \r\nL 3047 4666 \r\nL 3047 1625 \r\nL 3713 1625 \r\nL 3713 1100 \r\nL 3047 1100 \r\nL 3047 0 \r\nL 2419 0 \r\nL 2419 1100 \r\nL 313 1100 \r\nL 313 1709 \r\nL 2253 4666 \r\nz\r\n\" id=\"DejaVuSans-34\" transform=\"scale(0.015625)\"/>\r\n       </defs>\r\n       <use xlink:href=\"#DejaVuSans-30\"/>\r\n       <use x=\"63.623047\" xlink:href=\"#DejaVuSans-2e\"/>\r\n       <use x=\"95.410156\" xlink:href=\"#DejaVuSans-34\"/>\r\n      </g>\r\n     </g>\r\n    </g>\r\n    <g id=\"ytick_4\">\r\n     <g id=\"text_16\">\r\n      <!-- 0.6 -->\r\n      <g transform=\"translate(7.2 277.461687)scale(0.16 -0.16)\">\r\n       <defs>\r\n        <path d=\"M 2113 2584 \r\nQ 1688 2584 1439 2293 \r\nQ 1191 2003 1191 1497 \r\nQ 1191 994 1439 701 \r\nQ 1688 409 2113 409 \r\nQ 2538 409 2786 701 \r\nQ 3034 994 3034 1497 \r\nQ 3034 2003 2786 2293 \r\nQ 2538 2584 2113 2584 \r\nz\r\nM 3366 4563 \r\nL 3366 3988 \r\nQ 3128 4100 2886 4159 \r\nQ 2644 4219 2406 4219 \r\nQ 1781 4219 1451 3797 \r\nQ 1122 3375 1075 2522 \r\nQ 1259 2794 1537 2939 \r\nQ 1816 3084 2150 3084 \r\nQ 2853 3084 3261 2657 \r\nQ 3669 2231 3669 1497 \r\nQ 3669 778 3244 343 \r\nQ 2819 -91 2113 -91 \r\nQ 1303 -91 875 529 \r\nQ 447 1150 447 2328 \r\nQ 447 3434 972 4092 \r\nQ 1497 4750 2381 4750 \r\nQ 2619 4750 2861 4703 \r\nQ 3103 4656 3366 4563 \r\nz\r\n\" id=\"DejaVuSans-36\" transform=\"scale(0.015625)\"/>\r\n       </defs>\r\n       <use xlink:href=\"#DejaVuSans-30\"/>\r\n       <use x=\"63.623047\" xlink:href=\"#DejaVuSans-2e\"/>\r\n       <use x=\"95.410156\" xlink:href=\"#DejaVuSans-36\"/>\r\n      </g>\r\n     </g>\r\n    </g>\r\n    <g id=\"ytick_5\">\r\n     <g id=\"text_17\">\r\n      <!-- 0.8 -->\r\n      <g transform=\"translate(7.2 168.741687)scale(0.16 -0.16)\">\r\n       <defs>\r\n        <path d=\"M 2034 2216 \r\nQ 1584 2216 1326 1975 \r\nQ 1069 1734 1069 1313 \r\nQ 1069 891 1326 650 \r\nQ 1584 409 2034 409 \r\nQ 2484 409 2743 651 \r\nQ 3003 894 3003 1313 \r\nQ 3003 1734 2745 1975 \r\nQ 2488 2216 2034 2216 \r\nz\r\nM 1403 2484 \r\nQ 997 2584 770 2862 \r\nQ 544 3141 544 3541 \r\nQ 544 4100 942 4425 \r\nQ 1341 4750 2034 4750 \r\nQ 2731 4750 3128 4425 \r\nQ 3525 4100 3525 3541 \r\nQ 3525 3141 3298 2862 \r\nQ 3072 2584 2669 2484 \r\nQ 3125 2378 3379 2068 \r\nQ 3634 1759 3634 1313 \r\nQ 3634 634 3220 271 \r\nQ 2806 -91 2034 -91 \r\nQ 1263 -91 848 271 \r\nQ 434 634 434 1313 \r\nQ 434 1759 690 2068 \r\nQ 947 2378 1403 2484 \r\nz\r\nM 1172 3481 \r\nQ 1172 3119 1398 2916 \r\nQ 1625 2713 2034 2713 \r\nQ 2441 2713 2670 2916 \r\nQ 2900 3119 2900 3481 \r\nQ 2900 3844 2670 4047 \r\nQ 2441 4250 2034 4250 \r\nQ 1625 4250 1398 4047 \r\nQ 1172 3844 1172 3481 \r\nz\r\n\" id=\"DejaVuSans-38\" transform=\"scale(0.015625)\"/>\r\n       </defs>\r\n       <use xlink:href=\"#DejaVuSans-30\"/>\r\n       <use x=\"63.623047\" xlink:href=\"#DejaVuSans-2e\"/>\r\n       <use x=\"95.410156\" xlink:href=\"#DejaVuSans-38\"/>\r\n      </g>\r\n     </g>\r\n    </g>\r\n    <g id=\"ytick_6\">\r\n     <g id=\"text_18\">\r\n      <!-- 1.0 -->\r\n      <g transform=\"translate(7.2 60.021687)scale(0.16 -0.16)\">\r\n       <defs>\r\n        <path d=\"M 794 531 \r\nL 1825 531 \r\nL 1825 4091 \r\nL 703 3866 \r\nL 703 4441 \r\nL 1819 4666 \r\nL 2450 4666 \r\nL 2450 531 \r\nL 3481 531 \r\nL 3481 0 \r\nL 794 0 \r\nL 794 531 \r\nz\r\n\" id=\"DejaVuSans-31\" transform=\"scale(0.015625)\"/>\r\n       </defs>\r\n       <use xlink:href=\"#DejaVuSans-31\"/>\r\n       <use x=\"63.623047\" xlink:href=\"#DejaVuSans-2e\"/>\r\n       <use x=\"95.410156\" xlink:href=\"#DejaVuSans-30\"/>\r\n      </g>\r\n     </g>\r\n    </g>\r\n   </g>\r\n  </g>\r\n  <g id=\"axes_2\">\r\n   <g id=\"matplotlib.axis_3\">\r\n    <g id=\"ytick_7\">\r\n     <g id=\"text_19\">\r\n      <!-- 0 -->\r\n      <g transform=\"translate(1385.845 603.621687)scale(0.16 -0.16)\">\r\n       <use xlink:href=\"#DejaVuSans-30\"/>\r\n      </g>\r\n     </g>\r\n    </g>\r\n    <g id=\"ytick_8\">\r\n     <g id=\"text_20\">\r\n      <!-- 1557 -->\r\n      <g transform=\"translate(1385.845 494.901687)scale(0.16 -0.16)\">\r\n       <defs>\r\n        <path d=\"M 691 4666 \r\nL 3169 4666 \r\nL 3169 4134 \r\nL 1269 4134 \r\nL 1269 2991 \r\nQ 1406 3038 1543 3061 \r\nQ 1681 3084 1819 3084 \r\nQ 2600 3084 3056 2656 \r\nQ 3513 2228 3513 1497 \r\nQ 3513 744 3044 326 \r\nQ 2575 -91 1722 -91 \r\nQ 1428 -91 1123 -41 \r\nQ 819 9 494 109 \r\nL 494 744 \r\nQ 775 591 1075 516 \r\nQ 1375 441 1709 441 \r\nQ 2250 441 2565 725 \r\nQ 2881 1009 2881 1497 \r\nQ 2881 1984 2565 2268 \r\nQ 2250 2553 1709 2553 \r\nQ 1456 2553 1204 2497 \r\nQ 953 2441 691 2322 \r\nL 691 4666 \r\nz\r\n\" id=\"DejaVuSans-35\" transform=\"scale(0.015625)\"/>\r\n        <path d=\"M 525 4666 \r\nL 3525 4666 \r\nL 3525 4397 \r\nL 1831 0 \r\nL 1172 0 \r\nL 2766 4134 \r\nL 525 4134 \r\nL 525 4666 \r\nz\r\n\" id=\"DejaVuSans-37\" transform=\"scale(0.015625)\"/>\r\n       </defs>\r\n       <use xlink:href=\"#DejaVuSans-31\"/>\r\n       <use x=\"63.623047\" xlink:href=\"#DejaVuSans-35\"/>\r\n       <use x=\"127.246094\" xlink:href=\"#DejaVuSans-35\"/>\r\n       <use x=\"190.869141\" xlink:href=\"#DejaVuSans-37\"/>\r\n      </g>\r\n     </g>\r\n    </g>\r\n    <g id=\"ytick_9\">\r\n     <g id=\"text_21\">\r\n      <!-- 3114 -->\r\n      <g transform=\"translate(1385.845 386.181687)scale(0.16 -0.16)\">\r\n       <defs>\r\n        <path d=\"M 2597 2516 \r\nQ 3050 2419 3304 2112 \r\nQ 3559 1806 3559 1356 \r\nQ 3559 666 3084 287 \r\nQ 2609 -91 1734 -91 \r\nQ 1441 -91 1130 -33 \r\nQ 819 25 488 141 \r\nL 488 750 \r\nQ 750 597 1062 519 \r\nQ 1375 441 1716 441 \r\nQ 2309 441 2620 675 \r\nQ 2931 909 2931 1356 \r\nQ 2931 1769 2642 2001 \r\nQ 2353 2234 1838 2234 \r\nL 1294 2234 \r\nL 1294 2753 \r\nL 1863 2753 \r\nQ 2328 2753 2575 2939 \r\nQ 2822 3125 2822 3475 \r\nQ 2822 3834 2567 4026 \r\nQ 2313 4219 1838 4219 \r\nQ 1578 4219 1281 4162 \r\nQ 984 4106 628 3988 \r\nL 628 4550 \r\nQ 988 4650 1302 4700 \r\nQ 1616 4750 1894 4750 \r\nQ 2613 4750 3031 4423 \r\nQ 3450 4097 3450 3541 \r\nQ 3450 3153 3228 2886 \r\nQ 3006 2619 2597 2516 \r\nz\r\n\" id=\"DejaVuSans-33\" transform=\"scale(0.015625)\"/>\r\n       </defs>\r\n       <use xlink:href=\"#DejaVuSans-33\"/>\r\n       <use x=\"63.623047\" xlink:href=\"#DejaVuSans-31\"/>\r\n       <use x=\"127.246094\" xlink:href=\"#DejaVuSans-31\"/>\r\n       <use x=\"190.869141\" xlink:href=\"#DejaVuSans-34\"/>\r\n      </g>\r\n     </g>\r\n    </g>\r\n    <g id=\"ytick_10\">\r\n     <g id=\"text_22\">\r\n      <!-- 4672 -->\r\n      <g transform=\"translate(1385.845 277.461687)scale(0.16 -0.16)\">\r\n       <use xlink:href=\"#DejaVuSans-34\"/>\r\n       <use x=\"63.623047\" xlink:href=\"#DejaVuSans-36\"/>\r\n       <use x=\"127.246094\" xlink:href=\"#DejaVuSans-37\"/>\r\n       <use x=\"190.869141\" xlink:href=\"#DejaVuSans-32\"/>\r\n      </g>\r\n     </g>\r\n    </g>\r\n    <g id=\"ytick_11\">\r\n     <g id=\"text_23\">\r\n      <!-- 6229 -->\r\n      <g transform=\"translate(1385.845 168.741687)scale(0.16 -0.16)\">\r\n       <defs>\r\n        <path d=\"M 703 97 \r\nL 703 672 \r\nQ 941 559 1184 500 \r\nQ 1428 441 1663 441 \r\nQ 2288 441 2617 861 \r\nQ 2947 1281 2994 2138 \r\nQ 2813 1869 2534 1725 \r\nQ 2256 1581 1919 1581 \r\nQ 1219 1581 811 2004 \r\nQ 403 2428 403 3163 \r\nQ 403 3881 828 4315 \r\nQ 1253 4750 1959 4750 \r\nQ 2769 4750 3195 4129 \r\nQ 3622 3509 3622 2328 \r\nQ 3622 1225 3098 567 \r\nQ 2575 -91 1691 -91 \r\nQ 1453 -91 1209 -44 \r\nQ 966 3 703 97 \r\nz\r\nM 1959 2075 \r\nQ 2384 2075 2632 2365 \r\nQ 2881 2656 2881 3163 \r\nQ 2881 3666 2632 3958 \r\nQ 2384 4250 1959 4250 \r\nQ 1534 4250 1286 3958 \r\nQ 1038 3666 1038 3163 \r\nQ 1038 2656 1286 2365 \r\nQ 1534 2075 1959 2075 \r\nz\r\n\" id=\"DejaVuSans-39\" transform=\"scale(0.015625)\"/>\r\n       </defs>\r\n       <use xlink:href=\"#DejaVuSans-36\"/>\r\n       <use x=\"63.623047\" xlink:href=\"#DejaVuSans-32\"/>\r\n       <use x=\"127.246094\" xlink:href=\"#DejaVuSans-32\"/>\r\n       <use x=\"190.869141\" xlink:href=\"#DejaVuSans-39\"/>\r\n      </g>\r\n     </g>\r\n    </g>\r\n    <g id=\"ytick_12\">\r\n     <g id=\"text_24\">\r\n      <!-- 7787 -->\r\n      <g transform=\"translate(1385.845 60.021687)scale(0.16 -0.16)\">\r\n       <use xlink:href=\"#DejaVuSans-37\"/>\r\n       <use x=\"63.623047\" xlink:href=\"#DejaVuSans-37\"/>\r\n       <use x=\"127.246094\" xlink:href=\"#DejaVuSans-38\"/>\r\n       <use x=\"190.869141\" xlink:href=\"#DejaVuSans-37\"/>\r\n      </g>\r\n     </g>\r\n    </g>\r\n   </g>\r\n  </g>\r\n  <g id=\"axes_3\">\r\n   <g id=\"matplotlib.axis_4\">\r\n    <g id=\"xtick_13\">\r\n     <g id=\"text_25\">\r\n      <!-- 7787 -->\r\n      <g transform=\"translate(104.041651 44.590039)rotate(-45)scale(0.16 -0.16)\">\r\n       <use xlink:href=\"#DejaVuSans-37\"/>\r\n       <use x=\"63.623047\" xlink:href=\"#DejaVuSans-37\"/>\r\n       <use x=\"127.246094\" xlink:href=\"#DejaVuSans-38\"/>\r\n       <use x=\"190.869141\" xlink:href=\"#DejaVuSans-37\"/>\r\n      </g>\r\n     </g>\r\n    </g>\r\n    <g id=\"xtick_14\">\r\n     <g id=\"text_26\">\r\n      <!-- 7787 -->\r\n      <g transform=\"translate(215.641651 44.590039)rotate(-45)scale(0.16 -0.16)\">\r\n       <use xlink:href=\"#DejaVuSans-37\"/>\r\n       <use x=\"63.623047\" xlink:href=\"#DejaVuSans-37\"/>\r\n       <use x=\"127.246094\" xlink:href=\"#DejaVuSans-38\"/>\r\n       <use x=\"190.869141\" xlink:href=\"#DejaVuSans-37\"/>\r\n      </g>\r\n     </g>\r\n    </g>\r\n    <g id=\"xtick_15\">\r\n     <g id=\"text_27\">\r\n      <!-- 7787 -->\r\n      <g transform=\"translate(327.241651 44.590039)rotate(-45)scale(0.16 -0.16)\">\r\n       <use xlink:href=\"#DejaVuSans-37\"/>\r\n       <use x=\"63.623047\" xlink:href=\"#DejaVuSans-37\"/>\r\n       <use x=\"127.246094\" xlink:href=\"#DejaVuSans-38\"/>\r\n       <use x=\"190.869141\" xlink:href=\"#DejaVuSans-37\"/>\r\n      </g>\r\n     </g>\r\n    </g>\r\n    <g id=\"xtick_16\">\r\n     <g id=\"text_28\">\r\n      <!-- 5398 -->\r\n      <g transform=\"translate(438.841651 44.590039)rotate(-45)scale(0.16 -0.16)\">\r\n       <use xlink:href=\"#DejaVuSans-35\"/>\r\n       <use x=\"63.623047\" xlink:href=\"#DejaVuSans-33\"/>\r\n       <use x=\"127.246094\" xlink:href=\"#DejaVuSans-39\"/>\r\n       <use x=\"190.869141\" xlink:href=\"#DejaVuSans-38\"/>\r\n      </g>\r\n     </g>\r\n    </g>\r\n    <g id=\"xtick_17\">\r\n     <g id=\"text_29\">\r\n      <!-- 7069 -->\r\n      <g transform=\"translate(550.441651 44.590039)rotate(-45)scale(0.16 -0.16)\">\r\n       <use xlink:href=\"#DejaVuSans-37\"/>\r\n       <use x=\"63.623047\" xlink:href=\"#DejaVuSans-30\"/>\r\n       <use x=\"127.246094\" xlink:href=\"#DejaVuSans-36\"/>\r\n       <use x=\"190.869141\" xlink:href=\"#DejaVuSans-39\"/>\r\n      </g>\r\n     </g>\r\n    </g>\r\n    <g id=\"xtick_18\">\r\n     <g id=\"text_30\">\r\n      <!-- 7280 -->\r\n      <g transform=\"translate(662.041651 44.590039)rotate(-45)scale(0.16 -0.16)\">\r\n       <use xlink:href=\"#DejaVuSans-37\"/>\r\n       <use x=\"63.623047\" xlink:href=\"#DejaVuSans-32\"/>\r\n       <use x=\"127.246094\" xlink:href=\"#DejaVuSans-38\"/>\r\n       <use x=\"190.869141\" xlink:href=\"#DejaVuSans-30\"/>\r\n      </g>\r\n     </g>\r\n    </g>\r\n    <g id=\"xtick_19\">\r\n     <g id=\"text_31\">\r\n      <!-- 7777 -->\r\n      <g transform=\"translate(773.641651 44.590039)rotate(-45)scale(0.16 -0.16)\">\r\n       <use xlink:href=\"#DejaVuSans-37\"/>\r\n       <use x=\"63.623047\" xlink:href=\"#DejaVuSans-37\"/>\r\n       <use x=\"127.246094\" xlink:href=\"#DejaVuSans-37\"/>\r\n       <use x=\"190.869141\" xlink:href=\"#DejaVuSans-37\"/>\r\n      </g>\r\n     </g>\r\n    </g>\r\n    <g id=\"xtick_20\">\r\n     <g id=\"text_32\">\r\n      <!-- 7787 -->\r\n      <g transform=\"translate(885.241651 44.590039)rotate(-45)scale(0.16 -0.16)\">\r\n       <use xlink:href=\"#DejaVuSans-37\"/>\r\n       <use x=\"63.623047\" xlink:href=\"#DejaVuSans-37\"/>\r\n       <use x=\"127.246094\" xlink:href=\"#DejaVuSans-38\"/>\r\n       <use x=\"190.869141\" xlink:href=\"#DejaVuSans-37\"/>\r\n      </g>\r\n     </g>\r\n    </g>\r\n    <g id=\"xtick_21\">\r\n     <g id=\"text_33\">\r\n      <!-- 7780 -->\r\n      <g transform=\"translate(996.841651 44.590039)rotate(-45)scale(0.16 -0.16)\">\r\n       <use xlink:href=\"#DejaVuSans-37\"/>\r\n       <use x=\"63.623047\" xlink:href=\"#DejaVuSans-37\"/>\r\n       <use x=\"127.246094\" xlink:href=\"#DejaVuSans-38\"/>\r\n       <use x=\"190.869141\" xlink:href=\"#DejaVuSans-30\"/>\r\n      </g>\r\n     </g>\r\n    </g>\r\n    <g id=\"xtick_22\">\r\n     <g id=\"text_34\">\r\n      <!-- 7787 -->\r\n      <g transform=\"translate(1108.441651 44.590039)rotate(-45)scale(0.16 -0.16)\">\r\n       <use xlink:href=\"#DejaVuSans-37\"/>\r\n       <use x=\"63.623047\" xlink:href=\"#DejaVuSans-37\"/>\r\n       <use x=\"127.246094\" xlink:href=\"#DejaVuSans-38\"/>\r\n       <use x=\"190.869141\" xlink:href=\"#DejaVuSans-37\"/>\r\n      </g>\r\n     </g>\r\n    </g>\r\n    <g id=\"xtick_23\">\r\n     <g id=\"text_35\">\r\n      <!-- 7787 -->\r\n      <g transform=\"translate(1220.041651 44.590039)rotate(-45)scale(0.16 -0.16)\">\r\n       <use xlink:href=\"#DejaVuSans-37\"/>\r\n       <use x=\"63.623047\" xlink:href=\"#DejaVuSans-37\"/>\r\n       <use x=\"127.246094\" xlink:href=\"#DejaVuSans-38\"/>\r\n       <use x=\"190.869141\" xlink:href=\"#DejaVuSans-37\"/>\r\n      </g>\r\n     </g>\r\n    </g>\r\n    <g id=\"xtick_24\">\r\n     <g id=\"text_36\">\r\n      <!-- 7787 -->\r\n      <g transform=\"translate(1331.641651 44.590039)rotate(-45)scale(0.16 -0.16)\">\r\n       <use xlink:href=\"#DejaVuSans-37\"/>\r\n       <use x=\"63.623047\" xlink:href=\"#DejaVuSans-37\"/>\r\n       <use x=\"127.246094\" xlink:href=\"#DejaVuSans-38\"/>\r\n       <use x=\"190.869141\" xlink:href=\"#DejaVuSans-37\"/>\r\n      </g>\r\n     </g>\r\n    </g>\r\n   </g>\r\n  </g>\r\n </g>\r\n <defs>\r\n  <clipPath id=\"p50e1a626e8\">\r\n   <rect height=\"543.6\" width=\"1339.2\" x=\"39.645\" y=\"53.942937\"/>\r\n  </clipPath>\r\n </defs>\r\n</svg>\r\n",
      "image/png": "[encoded data removed]"
     },
     "metadata": {
      "needs_background": "light"
     }
    }
   ],
   "source": [
    "print(data.info())\n",
    "print(data.isna().sum())\n",
    "print('Number of duplicated values:',data.duplicated().sum())\n",
    "msno.bar(data)"
   ]
  },
  {
   "source": [
    "we have a large amount of missing values in director and cast columns so we delete them and we preoceed to delete the show_id column too\n",
    "\n",
    "for the country column we're going to replace the NaN's with the value that repeats the most \n",
    "\n",
    "lastly we're going to delete the rows where missing values are in date_added and rating columns because they are only 17 values"
   ],
   "cell_type": "markdown",
   "metadata": {}
  },
  {
   "cell_type": "code",
   "execution_count": 4,
   "metadata": {},
   "outputs": [
    {
     "output_type": "stream",
     "name": "stdout",
     "text": [
      "type            0\ntitle           0\ncountry         0\ndate_added      0\nrelease_year    0\nrating          0\nduration        0\nlisted_in       0\ndescription     0\ndtype: int64\n(7770, 9)\n"
     ]
    }
   ],
   "source": [
    "data.drop(columns=['director','cast','show_id'],inplace=True)\n",
    "data['country'] = data['country'].fillna(data['country'].mode()[0])\n",
    "data.dropna(how='any',subset=['rating','date_added'],inplace=True)\n",
    "print(data.isna().sum())\n",
    "print(data.shape)"
   ]
  },
  {
   "source": [
    "### 4)Data Manipulation\n"
   ],
   "cell_type": "markdown",
   "metadata": {}
  },
  {
   "source": [
    "Here we proceed to separate the duration column into two new columns. The first is duration_min where the values will be stored in minutes and the other is duration_Seassonsa and here they will be stored seasonally\n",
    "#separar la duracion en dos columnas min y Season, Seasons\n",
    "\n",
    "For the date_added column we took off all the values except the year "
   ],
   "cell_type": "markdown",
   "metadata": {}
  },
  {
   "cell_type": "code",
   "execution_count": 5,
   "metadata": {},
   "outputs": [
    {
     "output_type": "stream",
     "name": "stdout",
     "text": [
      "      type  title        country date_added release_year rating   duration  \\\n",
      "0  TV Show     3%         Brazil 2020-08-14   2020-01-01  TV-MA  4 Seasons   \n",
      "1    Movie   7:19         Mexico 2016-12-23   2016-01-01  TV-MA     93 min   \n",
      "2    Movie  23:59      Singapore 2018-12-20   2011-01-01      R     78 min   \n",
      "3    Movie      9  United States 2017-11-16   2009-01-01  PG-13     80 min   \n",
      "4    Movie     21  United States 2020-01-01   2008-01-01  PG-13    123 min   \n",
      "\n",
      "                                           listed_in  \\\n",
      "0  International TV Shows, TV Dramas, TV Sci-Fi &...   \n",
      "1                       Dramas, International Movies   \n",
      "2                Horror Movies, International Movies   \n",
      "3  Action & Adventure, Independent Movies, Sci-Fi...   \n",
      "4                                             Dramas   \n",
      "\n",
      "                                         description  \n",
      "0  In a future where the elite inhabit an island ...  \n",
      "1  After a devastating earthquake hits Mexico Cit...  \n",
      "2  When an army recruit is found dead, his fellow...  \n",
      "3  In a postapocalyptic world, rag-doll robots hi...  \n",
      "4  A brilliant group of students become card-coun...  \n",
      "5372\n",
      "2398\n"
     ]
    }
   ],
   "source": [
    "#we need to know the all de values in duration\n",
    "print(data.head(5))\n",
    "print(data.duration.str.contains('min').sum())\n",
    "print(data.duration.str.contains('Season').sum())\n",
    "\n",
    "data['date_added']=data['date_added'].dt.year"
   ]
  },
  {
   "source": [
    "### Now we're extracting the principal insights \n",
    "*graficar relacione entre dos columnas\n"
   ],
   "cell_type": "markdown",
   "metadata": {}
  },
  {
   "cell_type": "code",
   "execution_count": 6,
   "metadata": {},
   "outputs": [
    {
     "output_type": "stream",
     "name": "stdout",
     "text": [
      "Movie      5372\nTV Show    2398\nName: type, dtype: int64\n  \n\nMurder Mountain                1\nRake                           1\nHome Is Where the Killer Is    1\nThe Zoya Factor                1\nMonster High 13 Wishes         1\n                              ..\nRebecca                        1\nOur Souls at Night             1\nUntil Dawn                     1\nSuite Française                1\nS Is for Stanley               1\nName: title, Length: 7770, dtype: int64\n  \n\nUnited States                                        3051\nIndia                                                 923\nUnited Kingdom                                        396\nJapan                                                 224\nSouth Korea                                           183\n                                                     ... \nFrance, Lebanon                                         1\nUnited Kingdom, United States, Dominican Republic       1\nUnited States, Brazil                                   1\nFrance, Malta, United States                            1\nChile, Argentina, France, Spain, United States          1\nName: country, Length: 681, dtype: int64\n  \n\n2019    2153\n2020    2009\n2018    1684\n2017    1222\n2016     440\n2021     117\n2015      88\n2014      25\n2011      13\n2013      11\n2012       3\n2008       2\n2009       2\n2010       1\nName: date_added, dtype: int64\n  \n\n2018-01-01    1120\n2017-01-01    1010\n2019-01-01     996\n2016-01-01     881\n2020-01-01     868\n              ... \n1959-01-01       1\n1966-01-01       1\n1925-01-01       1\n1964-01-01       1\n1947-01-01       1\nName: release_year, Length: 73, dtype: int64\n  \n\nTV-MA       2861\nTV-14       1928\nTV-PG        804\nR            665\nPG-13        386\nTV-Y         279\nTV-Y7        270\nPG           247\nTV-G         194\nNR            83\nG             39\nTV-Y7-FV       6\nUR             5\nNC-17          3\nName: rating, dtype: int64\n  \n\n1 Season     1606\n2 Seasons     378\n3 Seasons     183\n90 min        136\n93 min        131\n             ... \n189 min         1\n205 min         1\n18 min          1\n3 min           1\n196 min         1\nName: duration, Length: 216, dtype: int64\n  \n\nDocumentaries                                       334\nStand-Up Comedy                                     321\nDramas, International Movies                        320\nComedies, Dramas, International Movies              243\nDramas, Independent Movies, International Movies    215\n                                                   ... \nAction & Adventure, Comedies, Horror Movies           1\nClassic Movies, Horror Movies, Thrillers              1\nTV Comedies, TV Dramas, TV Sci-Fi & Fantasy           1\nAction & Adventure, Dramas, Sports Movies             1\nAnime Features, Romantic Movies                       1\nName: listed_in, Length: 491, dtype: int64\n  \n\nA surly septuagenarian gets another chance at her 20s after having her photo snapped at a studio that magically takes 50 years off her life.                3\nMultiple women report their husbands as missing but when it appears they are looking for the same man, a police officer traces their cryptic connection.    3\nWhen pretty new neighbor Seema falls for their shy roommate Sid, jealous womanizers Omi and Jai plot to break up the new lovebirds.                         2\nAn affable, newly appointed college warden proves to be no ordinary man when an old enemy resurfaces and exposes his complicated, violent past.             2\nAs a series of murders hit close to home, a video game designer with post-traumatic stress must confront her demons, or risk becoming their victim.         2\n                                                                                                                                                           ..\nAmerica's king of clean comedy delivers wickedly funny jokes in his fifth hour-long special.                                                                1\nArgentine cuarteto singer Rodrigo \"El Potro\" Bueno rises to fame amid personal struggles in this dramatization of the charismatic superstar's life.         1\nWhen something's wrong in the Rainbow Kingdom, bighearted guardian True and her best friend, Bartleby, are there to grant wishes and save the day.          1\nA comedy writer for David Letterman unearths a hidden world of hilariously bizarre musicals, which turns into a toe-tapping obsession.                      1\nA millionaire opens the door to comic complications when he punishes his spoiled sons for trying to make money through shady, get-rich-quick schemes.       1\nName: description, Length: 7752, dtype: int64\n  \n\n"
     ]
    }
   ],
   "source": [
    "for i in data.columns:\n",
    "    print(data[i].value_counts())\n",
    "    print('  \\n')"
   ]
  },
  {
   "source": [
    "### now we are going to visualize the principal insights from the netflix dataset   "
   ],
   "cell_type": "markdown",
   "metadata": {}
  },
  {
   "cell_type": "code",
   "execution_count": 7,
   "metadata": {},
   "outputs": [
    {
     "output_type": "stream",
     "name": "stdout",
     "text": [
      "Values have this proportion:\n"
     ]
    },
    {
     "output_type": "execute_result",
     "data": {
      "text/plain": [
       "Movie      0.691377\n",
       "TV Show    0.308623\n",
       "Name: type, dtype: float64"
      ]
     },
     "metadata": {},
     "execution_count": 7
    },
    {
     "output_type": "display_data",
     "data": {
      "text/plain": "<Figure size 432x288 with 1 Axes>",
      "image/svg+xml": "<?xml version=\"1.0\" encoding=\"utf-8\" standalone=\"no\"?>\r\n<!DOCTYPE svg PUBLIC \"-//W3C//DTD SVG 1.1//EN\"\r\n  \"http://www.w3.org/Graphics/SVG/1.1/DTD/svg11.dtd\">\r\n<svg height=\"275.837188pt\" version=\"1.1\" viewBox=\"0 0 391.70625 275.837188\" width=\"391.70625pt\" xmlns=\"http://www.w3.org/2000/svg\" xmlns:xlink=\"http://www.w3.org/1999/xlink\">\r\n <metadata>\r\n  <rdf:RDF xmlns:cc=\"http://creativecommons.org/ns#\" xmlns:dc=\"http://purl.org/dc/elements/1.1/\" xmlns:rdf=\"http://www.w3.org/1999/02/22-rdf-syntax-ns#\">\r\n   <cc:Work>\r\n    <dc:type rdf:resource=\"http://purl.org/dc/dcmitype/StillImage\"/>\r\n    <dc:date>2021-07-05T19:01:24.751348</dc:date>\r\n    <dc:format>image/svg+xml</dc:format>\r\n    <dc:creator>\r\n     <cc:Agent>\r\n      <dc:title>Matplotlib v3.4.2, https://matplotlib.org/</dc:title>\r\n     </cc:Agent>\r\n    </dc:creator>\r\n   </cc:Work>\r\n  </rdf:RDF>\r\n </metadata>\r\n <defs>\r\n  <style type=\"text/css\">*{stroke-linecap:butt;stroke-linejoin:round;}</style>\r\n </defs>\r\n <g id=\"figure_1\">\r\n  <g id=\"patch_1\">\r\n   <path d=\"M 0 275.837188 \r\nL 391.70625 275.837188 \r\nL 391.70625 0 \r\nL 0 0 \r\nz\r\n\" style=\"fill:#ffffff;\"/>\r\n  </g>\r\n  <g id=\"axes_1\">\r\n   <g id=\"patch_2\">\r\n    <path d=\"M 49.70625 239.229375 \r\nL 384.50625 239.229375 \r\nL 384.50625 21.789375 \r\nL 49.70625 21.789375 \r\nz\r\n\" style=\"fill:#ffffff;\"/>\r\n   </g>\r\n   <g id=\"matplotlib.axis_1\">\r\n    <g id=\"xtick_1\">\r\n     <g id=\"text_1\">\r\n      <!-- TV Show -->\r\n      <g style=\"fill:#262626;\" transform=\"translate(113.121094 253.387188)scale(0.1 -0.1)\">\r\n       <defs>\r\n        <path d=\"M 1659 0 \r\nL 1659 4041 \r\nL 150 4041 \r\nL 150 4581 \r\nL 3781 4581 \r\nL 3781 4041 \r\nL 2266 4041 \r\nL 2266 0 \r\nL 1659 0 \r\nz\r\n\" id=\"ArialMT-54\" transform=\"scale(0.015625)\"/>\r\n        <path d=\"M 1803 0 \r\nL 28 4581 \r\nL 684 4581 \r\nL 1875 1253 \r\nQ 2019 853 2116 503 \r\nQ 2222 878 2363 1253 \r\nL 3600 4581 \r\nL 4219 4581 \r\nL 2425 0 \r\nL 1803 0 \r\nz\r\n\" id=\"ArialMT-56\" transform=\"scale(0.015625)\"/>\r\n        <path id=\"ArialMT-20\" transform=\"scale(0.015625)\"/>\r\n        <path d=\"M 288 1472 \r\nL 859 1522 \r\nQ 900 1178 1048 958 \r\nQ 1197 738 1509 602 \r\nQ 1822 466 2213 466 \r\nQ 2559 466 2825 569 \r\nQ 3091 672 3220 851 \r\nQ 3350 1031 3350 1244 \r\nQ 3350 1459 3225 1620 \r\nQ 3100 1781 2813 1891 \r\nQ 2628 1963 1997 2114 \r\nQ 1366 2266 1113 2400 \r\nQ 784 2572 623 2826 \r\nQ 463 3081 463 3397 \r\nQ 463 3744 659 4045 \r\nQ 856 4347 1234 4503 \r\nQ 1613 4659 2075 4659 \r\nQ 2584 4659 2973 4495 \r\nQ 3363 4331 3572 4012 \r\nQ 3781 3694 3797 3291 \r\nL 3216 3247 \r\nQ 3169 3681 2898 3903 \r\nQ 2628 4125 2100 4125 \r\nQ 1550 4125 1298 3923 \r\nQ 1047 3722 1047 3438 \r\nQ 1047 3191 1225 3031 \r\nQ 1400 2872 2139 2705 \r\nQ 2878 2538 3153 2413 \r\nQ 3553 2228 3743 1945 \r\nQ 3934 1663 3934 1294 \r\nQ 3934 928 3725 604 \r\nQ 3516 281 3123 101 \r\nQ 2731 -78 2241 -78 \r\nQ 1619 -78 1198 103 \r\nQ 778 284 539 648 \r\nQ 300 1013 288 1472 \r\nz\r\n\" id=\"ArialMT-53\" transform=\"scale(0.015625)\"/>\r\n        <path d=\"M 422 0 \r\nL 422 4581 \r\nL 984 4581 \r\nL 984 2938 \r\nQ 1378 3394 1978 3394 \r\nQ 2347 3394 2619 3248 \r\nQ 2891 3103 3008 2847 \r\nQ 3125 2591 3125 2103 \r\nL 3125 0 \r\nL 2563 0 \r\nL 2563 2103 \r\nQ 2563 2525 2380 2717 \r\nQ 2197 2909 1863 2909 \r\nQ 1613 2909 1392 2779 \r\nQ 1172 2650 1078 2428 \r\nQ 984 2206 984 1816 \r\nL 984 0 \r\nL 422 0 \r\nz\r\n\" id=\"ArialMT-68\" transform=\"scale(0.015625)\"/>\r\n        <path d=\"M 213 1659 \r\nQ 213 2581 725 3025 \r\nQ 1153 3394 1769 3394 \r\nQ 2453 3394 2887 2945 \r\nQ 3322 2497 3322 1706 \r\nQ 3322 1066 3130 698 \r\nQ 2938 331 2570 128 \r\nQ 2203 -75 1769 -75 \r\nQ 1072 -75 642 372 \r\nQ 213 819 213 1659 \r\nz\r\nM 791 1659 \r\nQ 791 1022 1069 705 \r\nQ 1347 388 1769 388 \r\nQ 2188 388 2466 706 \r\nQ 2744 1025 2744 1678 \r\nQ 2744 2294 2464 2611 \r\nQ 2184 2928 1769 2928 \r\nQ 1347 2928 1069 2612 \r\nQ 791 2297 791 1659 \r\nz\r\n\" id=\"ArialMT-6f\" transform=\"scale(0.015625)\"/>\r\n        <path d=\"M 1034 0 \r\nL 19 3319 \r\nL 600 3319 \r\nL 1128 1403 \r\nL 1325 691 \r\nQ 1338 744 1497 1375 \r\nL 2025 3319 \r\nL 2603 3319 \r\nL 3100 1394 \r\nL 3266 759 \r\nL 3456 1400 \r\nL 4025 3319 \r\nL 4572 3319 \r\nL 3534 0 \r\nL 2950 0 \r\nL 2422 1988 \r\nL 2294 2553 \r\nL 1622 0 \r\nL 1034 0 \r\nz\r\n\" id=\"ArialMT-77\" transform=\"scale(0.015625)\"/>\r\n       </defs>\r\n       <use xlink:href=\"#ArialMT-54\"/>\r\n       <use x=\"61.083984\" xlink:href=\"#ArialMT-56\"/>\r\n       <use x=\"127.783203\" xlink:href=\"#ArialMT-20\"/>\r\n       <use x=\"155.566406\" xlink:href=\"#ArialMT-53\"/>\r\n       <use x=\"222.265625\" xlink:href=\"#ArialMT-68\"/>\r\n       <use x=\"277.880859\" xlink:href=\"#ArialMT-6f\"/>\r\n       <use x=\"333.496094\" xlink:href=\"#ArialMT-77\"/>\r\n      </g>\r\n     </g>\r\n    </g>\r\n    <g id=\"xtick_2\">\r\n     <g id=\"text_2\">\r\n      <!-- Movie -->\r\n      <g style=\"fill:#262626;\" transform=\"translate(287.469531 253.387188)scale(0.1 -0.1)\">\r\n       <defs>\r\n        <path d=\"M 475 0 \r\nL 475 4581 \r\nL 1388 4581 \r\nL 2472 1338 \r\nQ 2622 884 2691 659 \r\nQ 2769 909 2934 1394 \r\nL 4031 4581 \r\nL 4847 4581 \r\nL 4847 0 \r\nL 4263 0 \r\nL 4263 3834 \r\nL 2931 0 \r\nL 2384 0 \r\nL 1059 3900 \r\nL 1059 0 \r\nL 475 0 \r\nz\r\n\" id=\"ArialMT-4d\" transform=\"scale(0.015625)\"/>\r\n        <path d=\"M 1344 0 \r\nL 81 3319 \r\nL 675 3319 \r\nL 1388 1331 \r\nQ 1503 1009 1600 663 \r\nQ 1675 925 1809 1294 \r\nL 2547 3319 \r\nL 3125 3319 \r\nL 1869 0 \r\nL 1344 0 \r\nz\r\n\" id=\"ArialMT-76\" transform=\"scale(0.015625)\"/>\r\n        <path d=\"M 425 3934 \r\nL 425 4581 \r\nL 988 4581 \r\nL 988 3934 \r\nL 425 3934 \r\nz\r\nM 425 0 \r\nL 425 3319 \r\nL 988 3319 \r\nL 988 0 \r\nL 425 0 \r\nz\r\n\" id=\"ArialMT-69\" transform=\"scale(0.015625)\"/>\r\n        <path d=\"M 2694 1069 \r\nL 3275 997 \r\nQ 3138 488 2766 206 \r\nQ 2394 -75 1816 -75 \r\nQ 1088 -75 661 373 \r\nQ 234 822 234 1631 \r\nQ 234 2469 665 2931 \r\nQ 1097 3394 1784 3394 \r\nQ 2450 3394 2872 2941 \r\nQ 3294 2488 3294 1666 \r\nQ 3294 1616 3291 1516 \r\nL 816 1516 \r\nQ 847 969 1125 678 \r\nQ 1403 388 1819 388 \r\nQ 2128 388 2347 550 \r\nQ 2566 713 2694 1069 \r\nz\r\nM 847 1978 \r\nL 2700 1978 \r\nQ 2663 2397 2488 2606 \r\nQ 2219 2931 1791 2931 \r\nQ 1403 2931 1139 2672 \r\nQ 875 2413 847 1978 \r\nz\r\n\" id=\"ArialMT-65\" transform=\"scale(0.015625)\"/>\r\n       </defs>\r\n       <use xlink:href=\"#ArialMT-4d\"/>\r\n       <use x=\"83.300781\" xlink:href=\"#ArialMT-6f\"/>\r\n       <use x=\"138.916016\" xlink:href=\"#ArialMT-76\"/>\r\n       <use x=\"188.916016\" xlink:href=\"#ArialMT-69\"/>\r\n       <use x=\"211.132812\" xlink:href=\"#ArialMT-65\"/>\r\n      </g>\r\n     </g>\r\n    </g>\r\n    <g id=\"text_3\">\r\n     <!-- Types -->\r\n     <g style=\"fill:#262626;\" transform=\"translate(203.766406 266.5325)scale(0.1 -0.1)\">\r\n      <defs>\r\n       <path d=\"M 397 -1278 \r\nL 334 -750 \r\nQ 519 -800 656 -800 \r\nQ 844 -800 956 -737 \r\nQ 1069 -675 1141 -563 \r\nQ 1194 -478 1313 -144 \r\nQ 1328 -97 1363 -6 \r\nL 103 3319 \r\nL 709 3319 \r\nL 1400 1397 \r\nQ 1534 1031 1641 628 \r\nQ 1738 1016 1872 1384 \r\nL 2581 3319 \r\nL 3144 3319 \r\nL 1881 -56 \r\nQ 1678 -603 1566 -809 \r\nQ 1416 -1088 1222 -1217 \r\nQ 1028 -1347 759 -1347 \r\nQ 597 -1347 397 -1278 \r\nz\r\n\" id=\"ArialMT-79\" transform=\"scale(0.015625)\"/>\r\n       <path d=\"M 422 -1272 \r\nL 422 3319 \r\nL 934 3319 \r\nL 934 2888 \r\nQ 1116 3141 1344 3267 \r\nQ 1572 3394 1897 3394 \r\nQ 2322 3394 2647 3175 \r\nQ 2972 2956 3137 2557 \r\nQ 3303 2159 3303 1684 \r\nQ 3303 1175 3120 767 \r\nQ 2938 359 2589 142 \r\nQ 2241 -75 1856 -75 \r\nQ 1575 -75 1351 44 \r\nQ 1128 163 984 344 \r\nL 984 -1272 \r\nL 422 -1272 \r\nz\r\nM 931 1641 \r\nQ 931 1000 1190 694 \r\nQ 1450 388 1819 388 \r\nQ 2194 388 2461 705 \r\nQ 2728 1022 2728 1688 \r\nQ 2728 2322 2467 2637 \r\nQ 2206 2953 1844 2953 \r\nQ 1484 2953 1207 2617 \r\nQ 931 2281 931 1641 \r\nz\r\n\" id=\"ArialMT-70\" transform=\"scale(0.015625)\"/>\r\n       <path d=\"M 197 991 \r\nL 753 1078 \r\nQ 800 744 1014 566 \r\nQ 1228 388 1613 388 \r\nQ 2000 388 2187 545 \r\nQ 2375 703 2375 916 \r\nQ 2375 1106 2209 1216 \r\nQ 2094 1291 1634 1406 \r\nQ 1016 1563 777 1677 \r\nQ 538 1791 414 1992 \r\nQ 291 2194 291 2438 \r\nQ 291 2659 392 2848 \r\nQ 494 3038 669 3163 \r\nQ 800 3259 1026 3326 \r\nQ 1253 3394 1513 3394 \r\nQ 1903 3394 2198 3281 \r\nQ 2494 3169 2634 2976 \r\nQ 2775 2784 2828 2463 \r\nL 2278 2388 \r\nQ 2241 2644 2061 2787 \r\nQ 1881 2931 1553 2931 \r\nQ 1166 2931 1000 2803 \r\nQ 834 2675 834 2503 \r\nQ 834 2394 903 2306 \r\nQ 972 2216 1119 2156 \r\nQ 1203 2125 1616 2013 \r\nQ 2213 1853 2448 1751 \r\nQ 2684 1650 2818 1456 \r\nQ 2953 1263 2953 975 \r\nQ 2953 694 2789 445 \r\nQ 2625 197 2315 61 \r\nQ 2006 -75 1616 -75 \r\nQ 969 -75 630 194 \r\nQ 291 463 197 991 \r\nz\r\n\" id=\"ArialMT-73\" transform=\"scale(0.015625)\"/>\r\n      </defs>\r\n      <use xlink:href=\"#ArialMT-54\"/>\r\n      <use x=\"55.583984\" xlink:href=\"#ArialMT-79\"/>\r\n      <use x=\"105.583984\" xlink:href=\"#ArialMT-70\"/>\r\n      <use x=\"161.199219\" xlink:href=\"#ArialMT-65\"/>\r\n      <use x=\"216.814453\" xlink:href=\"#ArialMT-73\"/>\r\n     </g>\r\n    </g>\r\n   </g>\r\n   <g id=\"matplotlib.axis_2\">\r\n    <g id=\"ytick_1\">\r\n     <g id=\"line2d_1\">\r\n      <path clip-path=\"url(#pd0a64318f8)\" d=\"M 49.70625 239.229375 \r\nL 384.50625 239.229375 \r\n\" style=\"fill:none;stroke:#cccccc;stroke-linecap:round;stroke-width:0.8;\"/>\r\n     </g>\r\n     <g id=\"text_4\">\r\n      <!-- 0 -->\r\n      <g style=\"fill:#262626;\" transform=\"translate(37.145313 242.808281)scale(0.1 -0.1)\">\r\n       <defs>\r\n        <path d=\"M 266 2259 \r\nQ 266 3072 433 3567 \r\nQ 600 4063 929 4331 \r\nQ 1259 4600 1759 4600 \r\nQ 2128 4600 2406 4451 \r\nQ 2684 4303 2865 4023 \r\nQ 3047 3744 3150 3342 \r\nQ 3253 2941 3253 2259 \r\nQ 3253 1453 3087 958 \r\nQ 2922 463 2592 192 \r\nQ 2263 -78 1759 -78 \r\nQ 1097 -78 719 397 \r\nQ 266 969 266 2259 \r\nz\r\nM 844 2259 \r\nQ 844 1131 1108 757 \r\nQ 1372 384 1759 384 \r\nQ 2147 384 2411 759 \r\nQ 2675 1134 2675 2259 \r\nQ 2675 3391 2411 3762 \r\nQ 2147 4134 1753 4134 \r\nQ 1366 4134 1134 3806 \r\nQ 844 3388 844 2259 \r\nz\r\n\" id=\"ArialMT-30\" transform=\"scale(0.015625)\"/>\r\n       </defs>\r\n       <use xlink:href=\"#ArialMT-30\"/>\r\n      </g>\r\n     </g>\r\n    </g>\r\n    <g id=\"ytick_2\">\r\n     <g id=\"line2d_2\">\r\n      <path clip-path=\"url(#pd0a64318f8)\" d=\"M 49.70625 200.680284 \r\nL 384.50625 200.680284 \r\n\" style=\"fill:none;stroke:#cccccc;stroke-linecap:round;stroke-width:0.8;\"/>\r\n     </g>\r\n     <g id=\"text_5\">\r\n      <!-- 1000 -->\r\n      <g style=\"fill:#262626;\" transform=\"translate(20.4625 204.259191)scale(0.1 -0.1)\">\r\n       <defs>\r\n        <path d=\"M 2384 0 \r\nL 1822 0 \r\nL 1822 3584 \r\nQ 1619 3391 1289 3197 \r\nQ 959 3003 697 2906 \r\nL 697 3450 \r\nQ 1169 3672 1522 3987 \r\nQ 1875 4303 2022 4600 \r\nL 2384 4600 \r\nL 2384 0 \r\nz\r\n\" id=\"ArialMT-31\" transform=\"scale(0.015625)\"/>\r\n       </defs>\r\n       <use xlink:href=\"#ArialMT-31\"/>\r\n       <use x=\"55.615234\" xlink:href=\"#ArialMT-30\"/>\r\n       <use x=\"111.230469\" xlink:href=\"#ArialMT-30\"/>\r\n       <use x=\"166.845703\" xlink:href=\"#ArialMT-30\"/>\r\n      </g>\r\n     </g>\r\n    </g>\r\n    <g id=\"ytick_3\">\r\n     <g id=\"line2d_3\">\r\n      <path clip-path=\"url(#pd0a64318f8)\" d=\"M 49.70625 162.131194 \r\nL 384.50625 162.131194 \r\n\" style=\"fill:none;stroke:#cccccc;stroke-linecap:round;stroke-width:0.8;\"/>\r\n     </g>\r\n     <g id=\"text_6\">\r\n      <!-- 2000 -->\r\n      <g style=\"fill:#262626;\" transform=\"translate(20.4625 165.7101)scale(0.1 -0.1)\">\r\n       <defs>\r\n        <path d=\"M 3222 541 \r\nL 3222 0 \r\nL 194 0 \r\nQ 188 203 259 391 \r\nQ 375 700 629 1000 \r\nQ 884 1300 1366 1694 \r\nQ 2113 2306 2375 2664 \r\nQ 2638 3022 2638 3341 \r\nQ 2638 3675 2398 3904 \r\nQ 2159 4134 1775 4134 \r\nQ 1369 4134 1125 3890 \r\nQ 881 3647 878 3216 \r\nL 300 3275 \r\nQ 359 3922 746 4261 \r\nQ 1134 4600 1788 4600 \r\nQ 2447 4600 2831 4234 \r\nQ 3216 3869 3216 3328 \r\nQ 3216 3053 3103 2787 \r\nQ 2991 2522 2730 2228 \r\nQ 2469 1934 1863 1422 \r\nQ 1356 997 1212 845 \r\nQ 1069 694 975 541 \r\nL 3222 541 \r\nz\r\n\" id=\"ArialMT-32\" transform=\"scale(0.015625)\"/>\r\n       </defs>\r\n       <use xlink:href=\"#ArialMT-32\"/>\r\n       <use x=\"55.615234\" xlink:href=\"#ArialMT-30\"/>\r\n       <use x=\"111.230469\" xlink:href=\"#ArialMT-30\"/>\r\n       <use x=\"166.845703\" xlink:href=\"#ArialMT-30\"/>\r\n      </g>\r\n     </g>\r\n    </g>\r\n    <g id=\"ytick_4\">\r\n     <g id=\"line2d_4\">\r\n      <path clip-path=\"url(#pd0a64318f8)\" d=\"M 49.70625 123.582103 \r\nL 384.50625 123.582103 \r\n\" style=\"fill:none;stroke:#cccccc;stroke-linecap:round;stroke-width:0.8;\"/>\r\n     </g>\r\n     <g id=\"text_7\">\r\n      <!-- 3000 -->\r\n      <g style=\"fill:#262626;\" transform=\"translate(20.4625 127.16101)scale(0.1 -0.1)\">\r\n       <defs>\r\n        <path d=\"M 269 1209 \r\nL 831 1284 \r\nQ 928 806 1161 595 \r\nQ 1394 384 1728 384 \r\nQ 2125 384 2398 659 \r\nQ 2672 934 2672 1341 \r\nQ 2672 1728 2419 1979 \r\nQ 2166 2231 1775 2231 \r\nQ 1616 2231 1378 2169 \r\nL 1441 2663 \r\nQ 1497 2656 1531 2656 \r\nQ 1891 2656 2178 2843 \r\nQ 2466 3031 2466 3422 \r\nQ 2466 3731 2256 3934 \r\nQ 2047 4138 1716 4138 \r\nQ 1388 4138 1169 3931 \r\nQ 950 3725 888 3313 \r\nL 325 3413 \r\nQ 428 3978 793 4289 \r\nQ 1159 4600 1703 4600 \r\nQ 2078 4600 2393 4439 \r\nQ 2709 4278 2876 4000 \r\nQ 3044 3722 3044 3409 \r\nQ 3044 3113 2884 2869 \r\nQ 2725 2625 2413 2481 \r\nQ 2819 2388 3044 2092 \r\nQ 3269 1797 3269 1353 \r\nQ 3269 753 2831 336 \r\nQ 2394 -81 1725 -81 \r\nQ 1122 -81 723 278 \r\nQ 325 638 269 1209 \r\nz\r\n\" id=\"ArialMT-33\" transform=\"scale(0.015625)\"/>\r\n       </defs>\r\n       <use xlink:href=\"#ArialMT-33\"/>\r\n       <use x=\"55.615234\" xlink:href=\"#ArialMT-30\"/>\r\n       <use x=\"111.230469\" xlink:href=\"#ArialMT-30\"/>\r\n       <use x=\"166.845703\" xlink:href=\"#ArialMT-30\"/>\r\n      </g>\r\n     </g>\r\n    </g>\r\n    <g id=\"ytick_5\">\r\n     <g id=\"line2d_5\">\r\n      <path clip-path=\"url(#pd0a64318f8)\" d=\"M 49.70625 85.033013 \r\nL 384.50625 85.033013 \r\n\" style=\"fill:none;stroke:#cccccc;stroke-linecap:round;stroke-width:0.8;\"/>\r\n     </g>\r\n     <g id=\"text_8\">\r\n      <!-- 4000 -->\r\n      <g style=\"fill:#262626;\" transform=\"translate(20.4625 88.611919)scale(0.1 -0.1)\">\r\n       <defs>\r\n        <path d=\"M 2069 0 \r\nL 2069 1097 \r\nL 81 1097 \r\nL 81 1613 \r\nL 2172 4581 \r\nL 2631 4581 \r\nL 2631 1613 \r\nL 3250 1613 \r\nL 3250 1097 \r\nL 2631 1097 \r\nL 2631 0 \r\nL 2069 0 \r\nz\r\nM 2069 1613 \r\nL 2069 3678 \r\nL 634 1613 \r\nL 2069 1613 \r\nz\r\n\" id=\"ArialMT-34\" transform=\"scale(0.015625)\"/>\r\n       </defs>\r\n       <use xlink:href=\"#ArialMT-34\"/>\r\n       <use x=\"55.615234\" xlink:href=\"#ArialMT-30\"/>\r\n       <use x=\"111.230469\" xlink:href=\"#ArialMT-30\"/>\r\n       <use x=\"166.845703\" xlink:href=\"#ArialMT-30\"/>\r\n      </g>\r\n     </g>\r\n    </g>\r\n    <g id=\"ytick_6\">\r\n     <g id=\"line2d_6\">\r\n      <path clip-path=\"url(#pd0a64318f8)\" d=\"M 49.70625 46.483922 \r\nL 384.50625 46.483922 \r\n\" style=\"fill:none;stroke:#cccccc;stroke-linecap:round;stroke-width:0.8;\"/>\r\n     </g>\r\n     <g id=\"text_9\">\r\n      <!-- 5000 -->\r\n      <g style=\"fill:#262626;\" transform=\"translate(20.4625 50.062829)scale(0.1 -0.1)\">\r\n       <defs>\r\n        <path d=\"M 266 1200 \r\nL 856 1250 \r\nQ 922 819 1161 601 \r\nQ 1400 384 1738 384 \r\nQ 2144 384 2425 690 \r\nQ 2706 997 2706 1503 \r\nQ 2706 1984 2436 2262 \r\nQ 2166 2541 1728 2541 \r\nQ 1456 2541 1237 2417 \r\nQ 1019 2294 894 2097 \r\nL 366 2166 \r\nL 809 4519 \r\nL 3088 4519 \r\nL 3088 3981 \r\nL 1259 3981 \r\nL 1013 2750 \r\nQ 1425 3038 1878 3038 \r\nQ 2478 3038 2890 2622 \r\nQ 3303 2206 3303 1553 \r\nQ 3303 931 2941 478 \r\nQ 2500 -78 1738 -78 \r\nQ 1113 -78 717 272 \r\nQ 322 622 266 1200 \r\nz\r\n\" id=\"ArialMT-35\" transform=\"scale(0.015625)\"/>\r\n       </defs>\r\n       <use xlink:href=\"#ArialMT-35\"/>\r\n       <use x=\"55.615234\" xlink:href=\"#ArialMT-30\"/>\r\n       <use x=\"111.230469\" xlink:href=\"#ArialMT-30\"/>\r\n       <use x=\"166.845703\" xlink:href=\"#ArialMT-30\"/>\r\n      </g>\r\n     </g>\r\n    </g>\r\n    <g id=\"text_10\">\r\n     <!-- Number per Type -->\r\n     <g style=\"fill:#262626;\" transform=\"translate(14.357812 169.047656)rotate(-90)scale(0.1 -0.1)\">\r\n      <defs>\r\n       <path d=\"M 488 0 \r\nL 488 4581 \r\nL 1109 4581 \r\nL 3516 984 \r\nL 3516 4581 \r\nL 4097 4581 \r\nL 4097 0 \r\nL 3475 0 \r\nL 1069 3600 \r\nL 1069 0 \r\nL 488 0 \r\nz\r\n\" id=\"ArialMT-4e\" transform=\"scale(0.015625)\"/>\r\n       <path d=\"M 2597 0 \r\nL 2597 488 \r\nQ 2209 -75 1544 -75 \r\nQ 1250 -75 995 37 \r\nQ 741 150 617 320 \r\nQ 494 491 444 738 \r\nQ 409 903 409 1263 \r\nL 409 3319 \r\nL 972 3319 \r\nL 972 1478 \r\nQ 972 1038 1006 884 \r\nQ 1059 663 1231 536 \r\nQ 1403 409 1656 409 \r\nQ 1909 409 2131 539 \r\nQ 2353 669 2445 892 \r\nQ 2538 1116 2538 1541 \r\nL 2538 3319 \r\nL 3100 3319 \r\nL 3100 0 \r\nL 2597 0 \r\nz\r\n\" id=\"ArialMT-75\" transform=\"scale(0.015625)\"/>\r\n       <path d=\"M 422 0 \r\nL 422 3319 \r\nL 925 3319 \r\nL 925 2853 \r\nQ 1081 3097 1340 3245 \r\nQ 1600 3394 1931 3394 \r\nQ 2300 3394 2536 3241 \r\nQ 2772 3088 2869 2813 \r\nQ 3263 3394 3894 3394 \r\nQ 4388 3394 4653 3120 \r\nQ 4919 2847 4919 2278 \r\nL 4919 0 \r\nL 4359 0 \r\nL 4359 2091 \r\nQ 4359 2428 4304 2576 \r\nQ 4250 2725 4106 2815 \r\nQ 3963 2906 3769 2906 \r\nQ 3419 2906 3187 2673 \r\nQ 2956 2441 2956 1928 \r\nL 2956 0 \r\nL 2394 0 \r\nL 2394 2156 \r\nQ 2394 2531 2256 2718 \r\nQ 2119 2906 1806 2906 \r\nQ 1569 2906 1367 2781 \r\nQ 1166 2656 1075 2415 \r\nQ 984 2175 984 1722 \r\nL 984 0 \r\nL 422 0 \r\nz\r\n\" id=\"ArialMT-6d\" transform=\"scale(0.015625)\"/>\r\n       <path d=\"M 941 0 \r\nL 419 0 \r\nL 419 4581 \r\nL 981 4581 \r\nL 981 2947 \r\nQ 1338 3394 1891 3394 \r\nQ 2197 3394 2470 3270 \r\nQ 2744 3147 2920 2923 \r\nQ 3097 2700 3197 2384 \r\nQ 3297 2069 3297 1709 \r\nQ 3297 856 2875 390 \r\nQ 2453 -75 1863 -75 \r\nQ 1275 -75 941 416 \r\nL 941 0 \r\nz\r\nM 934 1684 \r\nQ 934 1088 1097 822 \r\nQ 1363 388 1816 388 \r\nQ 2184 388 2453 708 \r\nQ 2722 1028 2722 1663 \r\nQ 2722 2313 2464 2622 \r\nQ 2206 2931 1841 2931 \r\nQ 1472 2931 1203 2611 \r\nQ 934 2291 934 1684 \r\nz\r\n\" id=\"ArialMT-62\" transform=\"scale(0.015625)\"/>\r\n       <path d=\"M 416 0 \r\nL 416 3319 \r\nL 922 3319 \r\nL 922 2816 \r\nQ 1116 3169 1280 3281 \r\nQ 1444 3394 1641 3394 \r\nQ 1925 3394 2219 3213 \r\nL 2025 2691 \r\nQ 1819 2813 1613 2813 \r\nQ 1428 2813 1281 2702 \r\nQ 1134 2591 1072 2394 \r\nQ 978 2094 978 1738 \r\nL 978 0 \r\nL 416 0 \r\nz\r\n\" id=\"ArialMT-72\" transform=\"scale(0.015625)\"/>\r\n      </defs>\r\n      <use xlink:href=\"#ArialMT-4e\"/>\r\n      <use x=\"72.216797\" xlink:href=\"#ArialMT-75\"/>\r\n      <use x=\"127.832031\" xlink:href=\"#ArialMT-6d\"/>\r\n      <use x=\"211.132812\" xlink:href=\"#ArialMT-62\"/>\r\n      <use x=\"266.748047\" xlink:href=\"#ArialMT-65\"/>\r\n      <use x=\"322.363281\" xlink:href=\"#ArialMT-72\"/>\r\n      <use x=\"355.664062\" xlink:href=\"#ArialMT-20\"/>\r\n      <use x=\"383.447266\" xlink:href=\"#ArialMT-70\"/>\r\n      <use x=\"439.0625\" xlink:href=\"#ArialMT-65\"/>\r\n      <use x=\"494.677734\" xlink:href=\"#ArialMT-72\"/>\r\n      <use x=\"527.978516\" xlink:href=\"#ArialMT-20\"/>\r\n      <use x=\"554.011719\" xlink:href=\"#ArialMT-54\"/>\r\n      <use x=\"609.595703\" xlink:href=\"#ArialMT-79\"/>\r\n      <use x=\"659.595703\" xlink:href=\"#ArialMT-70\"/>\r\n      <use x=\"715.210938\" xlink:href=\"#ArialMT-65\"/>\r\n     </g>\r\n    </g>\r\n   </g>\r\n   <g id=\"patch_3\">\r\n    <path clip-path=\"url(#pd0a64318f8)\" d=\"M 66.44625 239.229375 \r\nL 200.36625 239.229375 \r\nL 200.36625 146.788656 \r\nL 66.44625 146.788656 \r\nz\r\n\" style=\"fill:#10256f;stroke:#ffffff;stroke-linejoin:miter;\"/>\r\n   </g>\r\n   <g id=\"patch_4\">\r\n    <path clip-path=\"url(#pd0a64318f8)\" d=\"M 233.84625 239.229375 \r\nL 367.76625 239.229375 \r\nL 367.76625 32.143661 \r\nL 233.84625 32.143661 \r\nz\r\n\" style=\"fill:#9c4821;stroke:#ffffff;stroke-linejoin:miter;\"/>\r\n   </g>\r\n   <g id=\"patch_5\">\r\n    <path d=\"M 49.70625 239.229375 \r\nL 49.70625 21.789375 \r\n\" style=\"fill:none;stroke:#cccccc;stroke-linecap:square;stroke-linejoin:miter;stroke-width:0.8;\"/>\r\n   </g>\r\n   <g id=\"patch_6\">\r\n    <path d=\"M 384.50625 239.229375 \r\nL 384.50625 21.789375 \r\n\" style=\"fill:none;stroke:#cccccc;stroke-linecap:square;stroke-linejoin:miter;stroke-width:0.8;\"/>\r\n   </g>\r\n   <g id=\"patch_7\">\r\n    <path d=\"M 49.70625 239.229375 \r\nL 384.50625 239.229375 \r\n\" style=\"fill:none;stroke:#cccccc;stroke-linecap:square;stroke-linejoin:miter;stroke-width:0.8;\"/>\r\n   </g>\r\n   <g id=\"patch_8\">\r\n    <path d=\"M 49.70625 21.789375 \r\nL 384.50625 21.789375 \r\n\" style=\"fill:none;stroke:#cccccc;stroke-linecap:square;stroke-linejoin:miter;stroke-width:0.8;\"/>\r\n   </g>\r\n   <g id=\"text_11\">\r\n    <!-- Movies and TV Shows -->\r\n    <g style=\"fill:#262626;\" transform=\"translate(157.521563 15.789375)scale(0.12 -0.12)\">\r\n     <defs>\r\n      <path d=\"M 2588 409 \r\nQ 2275 144 1986 34 \r\nQ 1697 -75 1366 -75 \r\nQ 819 -75 525 192 \r\nQ 231 459 231 875 \r\nQ 231 1119 342 1320 \r\nQ 453 1522 633 1644 \r\nQ 813 1766 1038 1828 \r\nQ 1203 1872 1538 1913 \r\nQ 2219 1994 2541 2106 \r\nQ 2544 2222 2544 2253 \r\nQ 2544 2597 2384 2738 \r\nQ 2169 2928 1744 2928 \r\nQ 1347 2928 1158 2789 \r\nQ 969 2650 878 2297 \r\nL 328 2372 \r\nQ 403 2725 575 2942 \r\nQ 747 3159 1072 3276 \r\nQ 1397 3394 1825 3394 \r\nQ 2250 3394 2515 3294 \r\nQ 2781 3194 2906 3042 \r\nQ 3031 2891 3081 2659 \r\nQ 3109 2516 3109 2141 \r\nL 3109 1391 \r\nQ 3109 606 3145 398 \r\nQ 3181 191 3288 0 \r\nL 2700 0 \r\nQ 2613 175 2588 409 \r\nz\r\nM 2541 1666 \r\nQ 2234 1541 1622 1453 \r\nQ 1275 1403 1131 1340 \r\nQ 988 1278 909 1158 \r\nQ 831 1038 831 891 \r\nQ 831 666 1001 516 \r\nQ 1172 366 1500 366 \r\nQ 1825 366 2078 508 \r\nQ 2331 650 2450 897 \r\nQ 2541 1088 2541 1459 \r\nL 2541 1666 \r\nz\r\n\" id=\"ArialMT-61\" transform=\"scale(0.015625)\"/>\r\n      <path d=\"M 422 0 \r\nL 422 3319 \r\nL 928 3319 \r\nL 928 2847 \r\nQ 1294 3394 1984 3394 \r\nQ 2284 3394 2536 3286 \r\nQ 2788 3178 2913 3003 \r\nQ 3038 2828 3088 2588 \r\nQ 3119 2431 3119 2041 \r\nL 3119 0 \r\nL 2556 0 \r\nL 2556 2019 \r\nQ 2556 2363 2490 2533 \r\nQ 2425 2703 2258 2804 \r\nQ 2091 2906 1866 2906 \r\nQ 1506 2906 1245 2678 \r\nQ 984 2450 984 1813 \r\nL 984 0 \r\nL 422 0 \r\nz\r\n\" id=\"ArialMT-6e\" transform=\"scale(0.015625)\"/>\r\n      <path d=\"M 2575 0 \r\nL 2575 419 \r\nQ 2259 -75 1647 -75 \r\nQ 1250 -75 917 144 \r\nQ 584 363 401 755 \r\nQ 219 1147 219 1656 \r\nQ 219 2153 384 2558 \r\nQ 550 2963 881 3178 \r\nQ 1213 3394 1622 3394 \r\nQ 1922 3394 2156 3267 \r\nQ 2391 3141 2538 2938 \r\nL 2538 4581 \r\nL 3097 4581 \r\nL 3097 0 \r\nL 2575 0 \r\nz\r\nM 797 1656 \r\nQ 797 1019 1065 703 \r\nQ 1334 388 1700 388 \r\nQ 2069 388 2326 689 \r\nQ 2584 991 2584 1609 \r\nQ 2584 2291 2321 2609 \r\nQ 2059 2928 1675 2928 \r\nQ 1300 2928 1048 2622 \r\nQ 797 2316 797 1656 \r\nz\r\n\" id=\"ArialMT-64\" transform=\"scale(0.015625)\"/>\r\n     </defs>\r\n     <use xlink:href=\"#ArialMT-4d\"/>\r\n     <use x=\"83.300781\" xlink:href=\"#ArialMT-6f\"/>\r\n     <use x=\"138.916016\" xlink:href=\"#ArialMT-76\"/>\r\n     <use x=\"188.916016\" xlink:href=\"#ArialMT-69\"/>\r\n     <use x=\"211.132812\" xlink:href=\"#ArialMT-65\"/>\r\n     <use x=\"266.748047\" xlink:href=\"#ArialMT-73\"/>\r\n     <use x=\"316.748047\" xlink:href=\"#ArialMT-20\"/>\r\n     <use x=\"344.53125\" xlink:href=\"#ArialMT-61\"/>\r\n     <use x=\"400.146484\" xlink:href=\"#ArialMT-6e\"/>\r\n     <use x=\"455.761719\" xlink:href=\"#ArialMT-64\"/>\r\n     <use x=\"511.376953\" xlink:href=\"#ArialMT-20\"/>\r\n     <use x=\"537.410156\" xlink:href=\"#ArialMT-54\"/>\r\n     <use x=\"598.494141\" xlink:href=\"#ArialMT-56\"/>\r\n     <use x=\"665.193359\" xlink:href=\"#ArialMT-20\"/>\r\n     <use x=\"692.976562\" xlink:href=\"#ArialMT-53\"/>\r\n     <use x=\"759.675781\" xlink:href=\"#ArialMT-68\"/>\r\n     <use x=\"815.291016\" xlink:href=\"#ArialMT-6f\"/>\r\n     <use x=\"870.90625\" xlink:href=\"#ArialMT-77\"/>\r\n     <use x=\"943.123047\" xlink:href=\"#ArialMT-73\"/>\r\n    </g>\r\n   </g>\r\n  </g>\r\n </g>\r\n <defs>\r\n  <clipPath id=\"pd0a64318f8\">\r\n   <rect height=\"217.44\" width=\"334.8\" x=\"49.70625\" y=\"21.789375\"/>\r\n  </clipPath>\r\n </defs>\r\n</svg>\r\n",
      "image/png": "[encoded data removed]"
     },
     "metadata": {}
    }
   ],
   "source": [
    "#Netflix type proportion\n",
    "sns.set_style(\"whitegrid\")\n",
    "ptype=sns.countplot(data=data,x='type',palette='dark')\n",
    "plt.title('Movies and TV Shows')\n",
    "ptype.set(ylabel='Number per Type',xlabel='Types')\n",
    "\n",
    "print('Values have this proportion:')\n",
    "data.type.value_counts(normalize=True)\n",
    "\n"
   ]
  },
  {
   "cell_type": "code",
   "execution_count": 11,
   "metadata": {},
   "outputs": [
    {
     "output_type": "display_data",
     "data": {
      "application/vnd.plotly.v1+json": {
       "config": {
        "plotlyServerURL": "https://plot.ly"
       },
       "data": [
        {
         "domain": {
          "x": [
           0,
           1
          ],
          "y": [
           0,
           1
          ]
         },
         "hole": 0.25,
         "hovertemplate": "label=%{label}<br>value=%{value}<extra></extra>",
         "labels": [
          "Movie",
          "TV Show"
         ],
         "legendgroup": "",
         "name": "",
         "showlegend": true,
         "type": "pie",
         "values": [
          5372,
          2398
         ]
        }
       ],
       "layout": {
        "legend": {
         "tracegroupgap": 0
        },
        "template": {
         "data": {
          "bar": [
           {
            "error_x": {
             "color": "#2a3f5f"
            },
            "error_y": {
             "color": "#2a3f5f"
            },
            "marker": {
             "line": {
              "color": "#E5ECF6",
              "width": 0.5
             },
             "pattern": {
              "fillmode": "overlay",
              "size": 10,
              "solidity": 0.2
             }
            },
            "type": "bar"
           }
          ],
          "barpolar": [
           {
            "marker": {
             "line": {
              "color": "#E5ECF6",
              "width": 0.5
             },
             "pattern": {
              "fillmode": "overlay",
              "size": 10,
              "solidity": 0.2
             }
            },
            "type": "barpolar"
           }
          ],
          "carpet": [
           {
            "aaxis": {
             "endlinecolor": "#2a3f5f",
             "gridcolor": "white",
             "linecolor": "white",
             "minorgridcolor": "white",
             "startlinecolor": "#2a3f5f"
            },
            "baxis": {
             "endlinecolor": "#2a3f5f",
             "gridcolor": "white",
             "linecolor": "white",
             "minorgridcolor": "white",
             "startlinecolor": "#2a3f5f"
            },
            "type": "carpet"
           }
          ],
          "choropleth": [
           {
            "colorbar": {
             "outlinewidth": 0,
             "ticks": ""
            },
            "type": "choropleth"
           }
          ],
          "contour": [
           {
            "colorbar": {
             "outlinewidth": 0,
             "ticks": ""
            },
            "colorscale": [
             [
              0,
              "#0d0887"
             ],
             [
              0.1111111111111111,
              "#46039f"
             ],
             [
              0.2222222222222222,
              "#7201a8"
             ],
             [
              0.3333333333333333,
              "#9c179e"
             ],
             [
              0.4444444444444444,
              "#bd3786"
             ],
             [
              0.5555555555555556,
              "#d8576b"
             ],
             [
              0.6666666666666666,
              "#ed7953"
             ],
             [
              0.7777777777777778,
              "#fb9f3a"
             ],
             [
              0.8888888888888888,
              "#fdca26"
             ],
             [
              1,
              "#f0f921"
             ]
            ],
            "type": "contour"
           }
          ],
          "contourcarpet": [
           {
            "colorbar": {
             "outlinewidth": 0,
             "ticks": ""
            },
            "type": "contourcarpet"
           }
          ],
          "heatmap": [
           {
            "colorbar": {
             "outlinewidth": 0,
             "ticks": ""
            },
            "colorscale": [
             [
              0,
              "#0d0887"
             ],
             [
              0.1111111111111111,
              "#46039f"
             ],
             [
              0.2222222222222222,
              "#7201a8"
             ],
             [
              0.3333333333333333,
              "#9c179e"
             ],
             [
              0.4444444444444444,
              "#bd3786"
             ],
             [
              0.5555555555555556,
              "#d8576b"
             ],
             [
              0.6666666666666666,
              "#ed7953"
             ],
             [
              0.7777777777777778,
              "#fb9f3a"
             ],
             [
              0.8888888888888888,
              "#fdca26"
             ],
             [
              1,
              "#f0f921"
             ]
            ],
            "type": "heatmap"
           }
          ],
          "heatmapgl": [
           {
            "colorbar": {
             "outlinewidth": 0,
             "ticks": ""
            },
            "colorscale": [
             [
              0,
              "#0d0887"
             ],
             [
              0.1111111111111111,
              "#46039f"
             ],
             [
              0.2222222222222222,
              "#7201a8"
             ],
             [
              0.3333333333333333,
              "#9c179e"
             ],
             [
              0.4444444444444444,
              "#bd3786"
             ],
             [
              0.5555555555555556,
              "#d8576b"
             ],
             [
              0.6666666666666666,
              "#ed7953"
             ],
             [
              0.7777777777777778,
              "#fb9f3a"
             ],
             [
              0.8888888888888888,
              "#fdca26"
             ],
             [
              1,
              "#f0f921"
             ]
            ],
            "type": "heatmapgl"
           }
          ],
          "histogram": [
           {
            "marker": {
             "pattern": {
              "fillmode": "overlay",
              "size": 10,
              "solidity": 0.2
             }
            },
            "type": "histogram"
           }
          ],
          "histogram2d": [
           {
            "colorbar": {
             "outlinewidth": 0,
             "ticks": ""
            },
            "colorscale": [
             [
              0,
              "#0d0887"
             ],
             [
              0.1111111111111111,
              "#46039f"
             ],
             [
              0.2222222222222222,
              "#7201a8"
             ],
             [
              0.3333333333333333,
              "#9c179e"
             ],
             [
              0.4444444444444444,
              "#bd3786"
             ],
             [
              0.5555555555555556,
              "#d8576b"
             ],
             [
              0.6666666666666666,
              "#ed7953"
             ],
             [
              0.7777777777777778,
              "#fb9f3a"
             ],
             [
              0.8888888888888888,
              "#fdca26"
             ],
             [
              1,
              "#f0f921"
             ]
            ],
            "type": "histogram2d"
           }
          ],
          "histogram2dcontour": [
           {
            "colorbar": {
             "outlinewidth": 0,
             "ticks": ""
            },
            "colorscale": [
             [
              0,
              "#0d0887"
             ],
             [
              0.1111111111111111,
              "#46039f"
             ],
             [
              0.2222222222222222,
              "#7201a8"
             ],
             [
              0.3333333333333333,
              "#9c179e"
             ],
             [
              0.4444444444444444,
              "#bd3786"
             ],
             [
              0.5555555555555556,
              "#d8576b"
             ],
             [
              0.6666666666666666,
              "#ed7953"
             ],
             [
              0.7777777777777778,
              "#fb9f3a"
             ],
             [
              0.8888888888888888,
              "#fdca26"
             ],
             [
              1,
              "#f0f921"
             ]
            ],
            "type": "histogram2dcontour"
           }
          ],
          "mesh3d": [
           {
            "colorbar": {
             "outlinewidth": 0,
             "ticks": ""
            },
            "type": "mesh3d"
           }
          ],
          "parcoords": [
           {
            "line": {
             "colorbar": {
              "outlinewidth": 0,
              "ticks": ""
             }
            },
            "type": "parcoords"
           }
          ],
          "pie": [
           {
            "automargin": true,
            "type": "pie"
           }
          ],
          "scatter": [
           {
            "marker": {
             "colorbar": {
              "outlinewidth": 0,
              "ticks": ""
             }
            },
            "type": "scatter"
           }
          ],
          "scatter3d": [
           {
            "line": {
             "colorbar": {
              "outlinewidth": 0,
              "ticks": ""
             }
            },
            "marker": {
             "colorbar": {
              "outlinewidth": 0,
              "ticks": ""
             }
            },
            "type": "scatter3d"
           }
          ],
          "scattercarpet": [
           {
            "marker": {
             "colorbar": {
              "outlinewidth": 0,
              "ticks": ""
             }
            },
            "type": "scattercarpet"
           }
          ],
          "scattergeo": [
           {
            "marker": {
             "colorbar": {
              "outlinewidth": 0,
              "ticks": ""
             }
            },
            "type": "scattergeo"
           }
          ],
          "scattergl": [
           {
            "marker": {
             "colorbar": {
              "outlinewidth": 0,
              "ticks": ""
             }
            },
            "type": "scattergl"
           }
          ],
          "scattermapbox": [
           {
            "marker": {
             "colorbar": {
              "outlinewidth": 0,
              "ticks": ""
             }
            },
            "type": "scattermapbox"
           }
          ],
          "scatterpolar": [
           {
            "marker": {
             "colorbar": {
              "outlinewidth": 0,
              "ticks": ""
             }
            },
            "type": "scatterpolar"
           }
          ],
          "scatterpolargl": [
           {
            "marker": {
             "colorbar": {
              "outlinewidth": 0,
              "ticks": ""
             }
            },
            "type": "scatterpolargl"
           }
          ],
          "scatterternary": [
           {
            "marker": {
             "colorbar": {
              "outlinewidth": 0,
              "ticks": ""
             }
            },
            "type": "scatterternary"
           }
          ],
          "surface": [
           {
            "colorbar": {
             "outlinewidth": 0,
             "ticks": ""
            },
            "colorscale": [
             [
              0,
              "#0d0887"
             ],
             [
              0.1111111111111111,
              "#46039f"
             ],
             [
              0.2222222222222222,
              "#7201a8"
             ],
             [
              0.3333333333333333,
              "#9c179e"
             ],
             [
              0.4444444444444444,
              "#bd3786"
             ],
             [
              0.5555555555555556,
              "#d8576b"
             ],
             [
              0.6666666666666666,
              "#ed7953"
             ],
             [
              0.7777777777777778,
              "#fb9f3a"
             ],
             [
              0.8888888888888888,
              "#fdca26"
             ],
             [
              1,
              "#f0f921"
             ]
            ],
            "type": "surface"
           }
          ],
          "table": [
           {
            "cells": {
             "fill": {
              "color": "#EBF0F8"
             },
             "line": {
              "color": "white"
             }
            },
            "header": {
             "fill": {
              "color": "#C8D4E3"
             },
             "line": {
              "color": "white"
             }
            },
            "type": "table"
           }
          ]
         },
         "layout": {
          "annotationdefaults": {
           "arrowcolor": "#2a3f5f",
           "arrowhead": 0,
           "arrowwidth": 1
          },
          "autotypenumbers": "strict",
          "coloraxis": {
           "colorbar": {
            "outlinewidth": 0,
            "ticks": ""
           }
          },
          "colorscale": {
           "diverging": [
            [
             0,
             "#8e0152"
            ],
            [
             0.1,
             "#c51b7d"
            ],
            [
             0.2,
             "#de77ae"
            ],
            [
             0.3,
             "#f1b6da"
            ],
            [
             0.4,
             "#fde0ef"
            ],
            [
             0.5,
             "#f7f7f7"
            ],
            [
             0.6,
             "#e6f5d0"
            ],
            [
             0.7,
             "#b8e186"
            ],
            [
             0.8,
             "#7fbc41"
            ],
            [
             0.9,
             "#4d9221"
            ],
            [
             1,
             "#276419"
            ]
           ],
           "sequential": [
            [
             0,
             "#0d0887"
            ],
            [
             0.1111111111111111,
             "#46039f"
            ],
            [
             0.2222222222222222,
             "#7201a8"
            ],
            [
             0.3333333333333333,
             "#9c179e"
            ],
            [
             0.4444444444444444,
             "#bd3786"
            ],
            [
             0.5555555555555556,
             "#d8576b"
            ],
            [
             0.6666666666666666,
             "#ed7953"
            ],
            [
             0.7777777777777778,
             "#fb9f3a"
            ],
            [
             0.8888888888888888,
             "#fdca26"
            ],
            [
             1,
             "#f0f921"
            ]
           ],
           "sequentialminus": [
            [
             0,
             "#0d0887"
            ],
            [
             0.1111111111111111,
             "#46039f"
            ],
            [
             0.2222222222222222,
             "#7201a8"
            ],
            [
             0.3333333333333333,
             "#9c179e"
            ],
            [
             0.4444444444444444,
             "#bd3786"
            ],
            [
             0.5555555555555556,
             "#d8576b"
            ],
            [
             0.6666666666666666,
             "#ed7953"
            ],
            [
             0.7777777777777778,
             "#fb9f3a"
            ],
            [
             0.8888888888888888,
             "#fdca26"
            ],
            [
             1,
             "#f0f921"
            ]
           ]
          },
          "colorway": [
           "#636efa",
           "#EF553B",
           "#00cc96",
           "#ab63fa",
           "#FFA15A",
           "#19d3f3",
           "#FF6692",
           "#B6E880",
           "#FF97FF",
           "#FECB52"
          ],
          "font": {
           "color": "#2a3f5f"
          },
          "geo": {
           "bgcolor": "white",
           "lakecolor": "white",
           "landcolor": "#E5ECF6",
           "showlakes": true,
           "showland": true,
           "subunitcolor": "white"
          },
          "hoverlabel": {
           "align": "left"
          },
          "hovermode": "closest",
          "mapbox": {
           "style": "light"
          },
          "paper_bgcolor": "white",
          "plot_bgcolor": "#E5ECF6",
          "polar": {
           "angularaxis": {
            "gridcolor": "white",
            "linecolor": "white",
            "ticks": ""
           },
           "bgcolor": "#E5ECF6",
           "radialaxis": {
            "gridcolor": "white",
            "linecolor": "white",
            "ticks": ""
           }
          },
          "scene": {
           "xaxis": {
            "backgroundcolor": "#E5ECF6",
            "gridcolor": "white",
            "gridwidth": 2,
            "linecolor": "white",
            "showbackground": true,
            "ticks": "",
            "zerolinecolor": "white"
           },
           "yaxis": {
            "backgroundcolor": "#E5ECF6",
            "gridcolor": "white",
            "gridwidth": 2,
            "linecolor": "white",
            "showbackground": true,
            "ticks": "",
            "zerolinecolor": "white"
           },
           "zaxis": {
            "backgroundcolor": "#E5ECF6",
            "gridcolor": "white",
            "gridwidth": 2,
            "linecolor": "white",
            "showbackground": true,
            "ticks": "",
            "zerolinecolor": "white"
           }
          },
          "shapedefaults": {
           "line": {
            "color": "#2a3f5f"
           }
          },
          "ternary": {
           "aaxis": {
            "gridcolor": "white",
            "linecolor": "white",
            "ticks": ""
           },
           "baxis": {
            "gridcolor": "white",
            "linecolor": "white",
            "ticks": ""
           },
           "bgcolor": "#E5ECF6",
           "caxis": {
            "gridcolor": "white",
            "linecolor": "white",
            "ticks": ""
           }
          },
          "title": {
           "x": 0.05
          },
          "xaxis": {
           "automargin": true,
           "gridcolor": "white",
           "linecolor": "white",
           "ticks": "",
           "title": {
            "standoff": 15
           },
           "zerolinecolor": "white",
           "zerolinewidth": 2
          },
          "yaxis": {
           "automargin": true,
           "gridcolor": "white",
           "linecolor": "white",
           "ticks": "",
           "title": {
            "standoff": 15
           },
           "zerolinecolor": "white",
           "zerolinewidth": 2
          }
         }
        },
        "title": {
         "text": "Movies vs TV Show"
        }
       }
      }
     },
     "metadata": {}
    }
   ],
   "source": [
    "showtype=data.type.value_counts()\n",
    "#fig = px.pie( values=showtype.values, names=showtype.index, title='Movies vs TV Show',hole=0.25)\n",
    "#fig.show()"
   ]
  },
  {
   "source": [
    "it can be clearly seen that there are many more movies than tv shows\n",
    "\n",
    "\n",
    "\n",
    "\n",
    "the country variable will now be investigated but it has a large amount of values so we'll take the first 17 for the interactive plot and 10 for the barplot"
   ],
   "cell_type": "markdown",
   "metadata": {}
  },
  {
   "cell_type": "code",
   "execution_count": 8,
   "metadata": {},
   "outputs": [
    {
     "output_type": "display_data",
     "data": {
      "text/html": "        <script type=\"text/javascript\">\n        window.PlotlyConfig = {MathJaxConfig: 'local'};\n        if (window.MathJax) {MathJax.Hub.Config({SVG: {font: \"STIX-Web\"}});}\n        if (typeof require !== 'undefined') {\n        require.undef(\"plotly\");\n        requirejs.config({\n            paths: {\n                'plotly': ['https://cdn.plot.ly/plotly-2.2.0.min']\n            }\n        });\n        require(['plotly'], function(Plotly) {\n            window._Plotly = Plotly;\n        });\n        }\n        </script>\n        "
     },
     "metadata": {}
    },
    {
     "output_type": "display_data",
     "data": {
      "application/vnd.plotly.v1+json": {
       "config": {
        "linkText": "Export to plot.ly",
        "plotlyServerURL": "https://plot.ly",
        "showLink": false
       },
       "data": [
        {
         "colorbar": {
          "title": {
           "text": "Number of Films per Country"
          }
         },
         "colorscale": [
          [
           0,
           "rgb(243, 231, 155)"
          ],
          [
           0.16666666666666666,
           "rgb(250, 196, 132)"
          ],
          [
           0.3333333333333333,
           "rgb(248, 160, 126)"
          ],
          [
           0.5,
           "rgb(235, 127, 134)"
          ],
          [
           0.6666666666666666,
           "rgb(206, 102, 147)"
          ],
          [
           0.8333333333333334,
           "rgb(160, 89, 160)"
          ],
          [
           1,
           "rgb(92, 83, 165)"
          ]
         ],
         "locationmode": "country names",
         "locations": [
          "United States",
          "India",
          "United Kingdom",
          "Japan",
          "South Korea",
          "Canada",
          "Spain",
          "France",
          "Egypt",
          "Turkey",
          "Mexico",
          "Australia",
          "Taiwan",
          "Brazil",
          "Philippines",
          "Nigeria",
          "Indonesia"
         ],
         "text": [
          "United States",
          "India",
          "United Kingdom",
          "Japan",
          "South Korea",
          "Canada",
          "Spain",
          "France",
          "Egypt",
          "Turkey",
          "Mexico",
          "Australia",
          "Taiwan",
          "Brazil",
          "Philippines",
          "Nigeria",
          "Indonesia"
         ],
         "type": "choropleth",
         "z": [
          3051,
          923,
          396,
          224,
          183,
          177,
          134,
          115,
          101,
          100,
          100,
          81,
          78,
          72,
          71,
          70,
          70
         ]
        }
       ],
       "layout": {
        "geo": {
         "projection": {
          "type": "mercator"
         }
        },
        "template": {
         "data": {
          "bar": [
           {
            "error_x": {
             "color": "#2a3f5f"
            },
            "error_y": {
             "color": "#2a3f5f"
            },
            "marker": {
             "line": {
              "color": "#E5ECF6",
              "width": 0.5
             },
             "pattern": {
              "fillmode": "overlay",
              "size": 10,
              "solidity": 0.2
             }
            },
            "type": "bar"
           }
          ],
          "barpolar": [
           {
            "marker": {
             "line": {
              "color": "#E5ECF6",
              "width": 0.5
             },
             "pattern": {
              "fillmode": "overlay",
              "size": 10,
              "solidity": 0.2
             }
            },
            "type": "barpolar"
           }
          ],
          "carpet": [
           {
            "aaxis": {
             "endlinecolor": "#2a3f5f",
             "gridcolor": "white",
             "linecolor": "white",
             "minorgridcolor": "white",
             "startlinecolor": "#2a3f5f"
            },
            "baxis": {
             "endlinecolor": "#2a3f5f",
             "gridcolor": "white",
             "linecolor": "white",
             "minorgridcolor": "white",
             "startlinecolor": "#2a3f5f"
            },
            "type": "carpet"
           }
          ],
          "choropleth": [
           {
            "colorbar": {
             "outlinewidth": 0,
             "ticks": ""
            },
            "type": "choropleth"
           }
          ],
          "contour": [
           {
            "colorbar": {
             "outlinewidth": 0,
             "ticks": ""
            },
            "colorscale": [
             [
              0,
              "#0d0887"
             ],
             [
              0.1111111111111111,
              "#46039f"
             ],
             [
              0.2222222222222222,
              "#7201a8"
             ],
             [
              0.3333333333333333,
              "#9c179e"
             ],
             [
              0.4444444444444444,
              "#bd3786"
             ],
             [
              0.5555555555555556,
              "#d8576b"
             ],
             [
              0.6666666666666666,
              "#ed7953"
             ],
             [
              0.7777777777777778,
              "#fb9f3a"
             ],
             [
              0.8888888888888888,
              "#fdca26"
             ],
             [
              1,
              "#f0f921"
             ]
            ],
            "type": "contour"
           }
          ],
          "contourcarpet": [
           {
            "colorbar": {
             "outlinewidth": 0,
             "ticks": ""
            },
            "type": "contourcarpet"
           }
          ],
          "heatmap": [
           {
            "colorbar": {
             "outlinewidth": 0,
             "ticks": ""
            },
            "colorscale": [
             [
              0,
              "#0d0887"
             ],
             [
              0.1111111111111111,
              "#46039f"
             ],
             [
              0.2222222222222222,
              "#7201a8"
             ],
             [
              0.3333333333333333,
              "#9c179e"
             ],
             [
              0.4444444444444444,
              "#bd3786"
             ],
             [
              0.5555555555555556,
              "#d8576b"
             ],
             [
              0.6666666666666666,
              "#ed7953"
             ],
             [
              0.7777777777777778,
              "#fb9f3a"
             ],
             [
              0.8888888888888888,
              "#fdca26"
             ],
             [
              1,
              "#f0f921"
             ]
            ],
            "type": "heatmap"
           }
          ],
          "heatmapgl": [
           {
            "colorbar": {
             "outlinewidth": 0,
             "ticks": ""
            },
            "colorscale": [
             [
              0,
              "#0d0887"
             ],
             [
              0.1111111111111111,
              "#46039f"
             ],
             [
              0.2222222222222222,
              "#7201a8"
             ],
             [
              0.3333333333333333,
              "#9c179e"
             ],
             [
              0.4444444444444444,
              "#bd3786"
             ],
             [
              0.5555555555555556,
              "#d8576b"
             ],
             [
              0.6666666666666666,
              "#ed7953"
             ],
             [
              0.7777777777777778,
              "#fb9f3a"
             ],
             [
              0.8888888888888888,
              "#fdca26"
             ],
             [
              1,
              "#f0f921"
             ]
            ],
            "type": "heatmapgl"
           }
          ],
          "histogram": [
           {
            "marker": {
             "pattern": {
              "fillmode": "overlay",
              "size": 10,
              "solidity": 0.2
             }
            },
            "type": "histogram"
           }
          ],
          "histogram2d": [
           {
            "colorbar": {
             "outlinewidth": 0,
             "ticks": ""
            },
            "colorscale": [
             [
              0,
              "#0d0887"
             ],
             [
              0.1111111111111111,
              "#46039f"
             ],
             [
              0.2222222222222222,
              "#7201a8"
             ],
             [
              0.3333333333333333,
              "#9c179e"
             ],
             [
              0.4444444444444444,
              "#bd3786"
             ],
             [
              0.5555555555555556,
              "#d8576b"
             ],
             [
              0.6666666666666666,
              "#ed7953"
             ],
             [
              0.7777777777777778,
              "#fb9f3a"
             ],
             [
              0.8888888888888888,
              "#fdca26"
             ],
             [
              1,
              "#f0f921"
             ]
            ],
            "type": "histogram2d"
           }
          ],
          "histogram2dcontour": [
           {
            "colorbar": {
             "outlinewidth": 0,
             "ticks": ""
            },
            "colorscale": [
             [
              0,
              "#0d0887"
             ],
             [
              0.1111111111111111,
              "#46039f"
             ],
             [
              0.2222222222222222,
              "#7201a8"
             ],
             [
              0.3333333333333333,
              "#9c179e"
             ],
             [
              0.4444444444444444,
              "#bd3786"
             ],
             [
              0.5555555555555556,
              "#d8576b"
             ],
             [
              0.6666666666666666,
              "#ed7953"
             ],
             [
              0.7777777777777778,
              "#fb9f3a"
             ],
             [
              0.8888888888888888,
              "#fdca26"
             ],
             [
              1,
              "#f0f921"
             ]
            ],
            "type": "histogram2dcontour"
           }
          ],
          "mesh3d": [
           {
            "colorbar": {
             "outlinewidth": 0,
             "ticks": ""
            },
            "type": "mesh3d"
           }
          ],
          "parcoords": [
           {
            "line": {
             "colorbar": {
              "outlinewidth": 0,
              "ticks": ""
             }
            },
            "type": "parcoords"
           }
          ],
          "pie": [
           {
            "automargin": true,
            "type": "pie"
           }
          ],
          "scatter": [
           {
            "marker": {
             "colorbar": {
              "outlinewidth": 0,
              "ticks": ""
             }
            },
            "type": "scatter"
           }
          ],
          "scatter3d": [
           {
            "line": {
             "colorbar": {
              "outlinewidth": 0,
              "ticks": ""
             }
            },
            "marker": {
             "colorbar": {
              "outlinewidth": 0,
              "ticks": ""
             }
            },
            "type": "scatter3d"
           }
          ],
          "scattercarpet": [
           {
            "marker": {
             "colorbar": {
              "outlinewidth": 0,
              "ticks": ""
             }
            },
            "type": "scattercarpet"
           }
          ],
          "scattergeo": [
           {
            "marker": {
             "colorbar": {
              "outlinewidth": 0,
              "ticks": ""
             }
            },
            "type": "scattergeo"
           }
          ],
          "scattergl": [
           {
            "marker": {
             "colorbar": {
              "outlinewidth": 0,
              "ticks": ""
             }
            },
            "type": "scattergl"
           }
          ],
          "scattermapbox": [
           {
            "marker": {
             "colorbar": {
              "outlinewidth": 0,
              "ticks": ""
             }
            },
            "type": "scattermapbox"
           }
          ],
          "scatterpolar": [
           {
            "marker": {
             "colorbar": {
              "outlinewidth": 0,
              "ticks": ""
             }
            },
            "type": "scatterpolar"
           }
          ],
          "scatterpolargl": [
           {
            "marker": {
             "colorbar": {
              "outlinewidth": 0,
              "ticks": ""
             }
            },
            "type": "scatterpolargl"
           }
          ],
          "scatterternary": [
           {
            "marker": {
             "colorbar": {
              "outlinewidth": 0,
              "ticks": ""
             }
            },
            "type": "scatterternary"
           }
          ],
          "surface": [
           {
            "colorbar": {
             "outlinewidth": 0,
             "ticks": ""
            },
            "colorscale": [
             [
              0,
              "#0d0887"
             ],
             [
              0.1111111111111111,
              "#46039f"
             ],
             [
              0.2222222222222222,
              "#7201a8"
             ],
             [
              0.3333333333333333,
              "#9c179e"
             ],
             [
              0.4444444444444444,
              "#bd3786"
             ],
             [
              0.5555555555555556,
              "#d8576b"
             ],
             [
              0.6666666666666666,
              "#ed7953"
             ],
             [
              0.7777777777777778,
              "#fb9f3a"
             ],
             [
              0.8888888888888888,
              "#fdca26"
             ],
             [
              1,
              "#f0f921"
             ]
            ],
            "type": "surface"
           }
          ],
          "table": [
           {
            "cells": {
             "fill": {
              "color": "#EBF0F8"
             },
             "line": {
              "color": "white"
             }
            },
            "header": {
             "fill": {
              "color": "#C8D4E3"
             },
             "line": {
              "color": "white"
             }
            },
            "type": "table"
           }
          ]
         },
         "layout": {
          "annotationdefaults": {
           "arrowcolor": "#2a3f5f",
           "arrowhead": 0,
           "arrowwidth": 1
          },
          "autotypenumbers": "strict",
          "coloraxis": {
           "colorbar": {
            "outlinewidth": 0,
            "ticks": ""
           }
          },
          "colorscale": {
           "diverging": [
            [
             0,
             "#8e0152"
            ],
            [
             0.1,
             "#c51b7d"
            ],
            [
             0.2,
             "#de77ae"
            ],
            [
             0.3,
             "#f1b6da"
            ],
            [
             0.4,
             "#fde0ef"
            ],
            [
             0.5,
             "#f7f7f7"
            ],
            [
             0.6,
             "#e6f5d0"
            ],
            [
             0.7,
             "#b8e186"
            ],
            [
             0.8,
             "#7fbc41"
            ],
            [
             0.9,
             "#4d9221"
            ],
            [
             1,
             "#276419"
            ]
           ],
           "sequential": [
            [
             0,
             "#0d0887"
            ],
            [
             0.1111111111111111,
             "#46039f"
            ],
            [
             0.2222222222222222,
             "#7201a8"
            ],
            [
             0.3333333333333333,
             "#9c179e"
            ],
            [
             0.4444444444444444,
             "#bd3786"
            ],
            [
             0.5555555555555556,
             "#d8576b"
            ],
            [
             0.6666666666666666,
             "#ed7953"
            ],
            [
             0.7777777777777778,
             "#fb9f3a"
            ],
            [
             0.8888888888888888,
             "#fdca26"
            ],
            [
             1,
             "#f0f921"
            ]
           ],
           "sequentialminus": [
            [
             0,
             "#0d0887"
            ],
            [
             0.1111111111111111,
             "#46039f"
            ],
            [
             0.2222222222222222,
             "#7201a8"
            ],
            [
             0.3333333333333333,
             "#9c179e"
            ],
            [
             0.4444444444444444,
             "#bd3786"
            ],
            [
             0.5555555555555556,
             "#d8576b"
            ],
            [
             0.6666666666666666,
             "#ed7953"
            ],
            [
             0.7777777777777778,
             "#fb9f3a"
            ],
            [
             0.8888888888888888,
             "#fdca26"
            ],
            [
             1,
             "#f0f921"
            ]
           ]
          },
          "colorway": [
           "#636efa",
           "#EF553B",
           "#00cc96",
           "#ab63fa",
           "#FFA15A",
           "#19d3f3",
           "#FF6692",
           "#B6E880",
           "#FF97FF",
           "#FECB52"
          ],
          "font": {
           "color": "#2a3f5f"
          },
          "geo": {
           "bgcolor": "white",
           "lakecolor": "white",
           "landcolor": "#E5ECF6",
           "showlakes": true,
           "showland": true,
           "subunitcolor": "white"
          },
          "hoverlabel": {
           "align": "left"
          },
          "hovermode": "closest",
          "mapbox": {
           "style": "light"
          },
          "paper_bgcolor": "white",
          "plot_bgcolor": "#E5ECF6",
          "polar": {
           "angularaxis": {
            "gridcolor": "white",
            "linecolor": "white",
            "ticks": ""
           },
           "bgcolor": "#E5ECF6",
           "radialaxis": {
            "gridcolor": "white",
            "linecolor": "white",
            "ticks": ""
           }
          },
          "scene": {
           "xaxis": {
            "backgroundcolor": "#E5ECF6",
            "gridcolor": "white",
            "gridwidth": 2,
            "linecolor": "white",
            "showbackground": true,
            "ticks": "",
            "zerolinecolor": "white"
           },
           "yaxis": {
            "backgroundcolor": "#E5ECF6",
            "gridcolor": "white",
            "gridwidth": 2,
            "linecolor": "white",
            "showbackground": true,
            "ticks": "",
            "zerolinecolor": "white"
           },
           "zaxis": {
            "backgroundcolor": "#E5ECF6",
            "gridcolor": "white",
            "gridwidth": 2,
            "linecolor": "white",
            "showbackground": true,
            "ticks": "",
            "zerolinecolor": "white"
           }
          },
          "shapedefaults": {
           "line": {
            "color": "#2a3f5f"
           }
          },
          "ternary": {
           "aaxis": {
            "gridcolor": "white",
            "linecolor": "white",
            "ticks": ""
           },
           "baxis": {
            "gridcolor": "white",
            "linecolor": "white",
            "ticks": ""
           },
           "bgcolor": "#E5ECF6",
           "caxis": {
            "gridcolor": "white",
            "linecolor": "white",
            "ticks": ""
           }
          },
          "title": {
           "x": 0.05
          },
          "xaxis": {
           "automargin": true,
           "gridcolor": "white",
           "linecolor": "white",
           "ticks": "",
           "title": {
            "standoff": 15
           },
           "zerolinecolor": "white",
           "zerolinewidth": 2
          },
          "yaxis": {
           "automargin": true,
           "gridcolor": "white",
           "linecolor": "white",
           "ticks": "",
           "title": {
            "standoff": 15
           },
           "zerolinecolor": "white",
           "zerolinewidth": 2
          }
         }
        },
        "title": {
         "text": "Number of Films per Country"
        }
       }
      },
      "text/html": "<div>                            <div id=\"f00501d9-3709-4bdd-9e91-21d3ec1873db\" class=\"plotly-graph-div\" style=\"height:525px; width:100%;\"></div>            <script type=\"text/javascript\">                require([\"plotly\"], function(Plotly) {                    window.PLOTLYENV=window.PLOTLYENV || {};                                    if (document.getElementById(\"f00501d9-3709-4bdd-9e91-21d3ec1873db\")) {                    Plotly.newPlot(                        \"f00501d9-3709-4bdd-9e91-21d3ec1873db\",                        [{\"colorbar\":{\"title\":{\"text\":\"Number of Films per Country\"}},\"colorscale\":[[0.0,\"rgb(243, 231, 155)\"],[0.16666666666666666,\"rgb(250, 196, 132)\"],[0.3333333333333333,\"rgb(248, 160, 126)\"],[0.5,\"rgb(235, 127, 134)\"],[0.6666666666666666,\"rgb(206, 102, 147)\"],[0.8333333333333334,\"rgb(160, 89, 160)\"],[1.0,\"rgb(92, 83, 165)\"]],\"locationmode\":\"country names\",\"locations\":[\"United States\",\"India\",\"United Kingdom\",\"Japan\",\"South Korea\",\"Canada\",\"Spain\",\"France\",\"Egypt\",\"Turkey\",\"Mexico\",\"Australia\",\"Taiwan\",\"Brazil\",\"Philippines\",\"Nigeria\",\"Indonesia\"],\"text\":[\"United States\",\"India\",\"United Kingdom\",\"Japan\",\"South Korea\",\"Canada\",\"Spain\",\"France\",\"Egypt\",\"Turkey\",\"Mexico\",\"Australia\",\"Taiwan\",\"Brazil\",\"Philippines\",\"Nigeria\",\"Indonesia\"],\"type\":\"choropleth\",\"z\":[3051,923,396,224,183,177,134,115,101,100,100,81,78,72,71,70,70]}],                        {\"geo\":{\"projection\":{\"type\":\"mercator\"}},\"template\":{\"data\":{\"bar\":[{\"error_x\":{\"color\":\"#2a3f5f\"},\"error_y\":{\"color\":\"#2a3f5f\"},\"marker\":{\"line\":{\"color\":\"#E5ECF6\",\"width\":0.5},\"pattern\":{\"fillmode\":\"overlay\",\"size\":10,\"solidity\":0.2}},\"type\":\"bar\"}],\"barpolar\":[{\"marker\":{\"line\":{\"color\":\"#E5ECF6\",\"width\":0.5},\"pattern\":{\"fillmode\":\"overlay\",\"size\":10,\"solidity\":0.2}},\"type\":\"barpolar\"}],\"carpet\":[{\"aaxis\":{\"endlinecolor\":\"#2a3f5f\",\"gridcolor\":\"white\",\"linecolor\":\"white\",\"minorgridcolor\":\"white\",\"startlinecolor\":\"#2a3f5f\"},\"baxis\":{\"endlinecolor\":\"#2a3f5f\",\"gridcolor\":\"white\",\"linecolor\":\"white\",\"minorgridcolor\":\"white\",\"startlinecolor\":\"#2a3f5f\"},\"type\":\"carpet\"}],\"choropleth\":[{\"colorbar\":{\"outlinewidth\":0,\"ticks\":\"\"},\"type\":\"choropleth\"}],\"contour\":[{\"colorbar\":{\"outlinewidth\":0,\"ticks\":\"\"},\"colorscale\":[[0.0,\"#0d0887\"],[0.1111111111111111,\"#46039f\"],[0.2222222222222222,\"#7201a8\"],[0.3333333333333333,\"#9c179e\"],[0.4444444444444444,\"#bd3786\"],[0.5555555555555556,\"#d8576b\"],[0.6666666666666666,\"#ed7953\"],[0.7777777777777778,\"#fb9f3a\"],[0.8888888888888888,\"#fdca26\"],[1.0,\"#f0f921\"]],\"type\":\"contour\"}],\"contourcarpet\":[{\"colorbar\":{\"outlinewidth\":0,\"ticks\":\"\"},\"type\":\"contourcarpet\"}],\"heatmap\":[{\"colorbar\":{\"outlinewidth\":0,\"ticks\":\"\"},\"colorscale\":[[0.0,\"#0d0887\"],[0.1111111111111111,\"#46039f\"],[0.2222222222222222,\"#7201a8\"],[0.3333333333333333,\"#9c179e\"],[0.4444444444444444,\"#bd3786\"],[0.5555555555555556,\"#d8576b\"],[0.6666666666666666,\"#ed7953\"],[0.7777777777777778,\"#fb9f3a\"],[0.8888888888888888,\"#fdca26\"],[1.0,\"#f0f921\"]],\"type\":\"heatmap\"}],\"heatmapgl\":[{\"colorbar\":{\"outlinewidth\":0,\"ticks\":\"\"},\"colorscale\":[[0.0,\"#0d0887\"],[0.1111111111111111,\"#46039f\"],[0.2222222222222222,\"#7201a8\"],[0.3333333333333333,\"#9c179e\"],[0.4444444444444444,\"#bd3786\"],[0.5555555555555556,\"#d8576b\"],[0.6666666666666666,\"#ed7953\"],[0.7777777777777778,\"#fb9f3a\"],[0.8888888888888888,\"#fdca26\"],[1.0,\"#f0f921\"]],\"type\":\"heatmapgl\"}],\"histogram\":[{\"marker\":{\"pattern\":{\"fillmode\":\"overlay\",\"size\":10,\"solidity\":0.2}},\"type\":\"histogram\"}],\"histogram2d\":[{\"colorbar\":{\"outlinewidth\":0,\"ticks\":\"\"},\"colorscale\":[[0.0,\"#0d0887\"],[0.1111111111111111,\"#46039f\"],[0.2222222222222222,\"#7201a8\"],[0.3333333333333333,\"#9c179e\"],[0.4444444444444444,\"#bd3786\"],[0.5555555555555556,\"#d8576b\"],[0.6666666666666666,\"#ed7953\"],[0.7777777777777778,\"#fb9f3a\"],[0.8888888888888888,\"#fdca26\"],[1.0,\"#f0f921\"]],\"type\":\"histogram2d\"}],\"histogram2dcontour\":[{\"colorbar\":{\"outlinewidth\":0,\"ticks\":\"\"},\"colorscale\":[[0.0,\"#0d0887\"],[0.1111111111111111,\"#46039f\"],[0.2222222222222222,\"#7201a8\"],[0.3333333333333333,\"#9c179e\"],[0.4444444444444444,\"#bd3786\"],[0.5555555555555556,\"#d8576b\"],[0.6666666666666666,\"#ed7953\"],[0.7777777777777778,\"#fb9f3a\"],[0.8888888888888888,\"#fdca26\"],[1.0,\"#f0f921\"]],\"type\":\"histogram2dcontour\"}],\"mesh3d\":[{\"colorbar\":{\"outlinewidth\":0,\"ticks\":\"\"},\"type\":\"mesh3d\"}],\"parcoords\":[{\"line\":{\"colorbar\":{\"outlinewidth\":0,\"ticks\":\"\"}},\"type\":\"parcoords\"}],\"pie\":[{\"automargin\":true,\"type\":\"pie\"}],\"scatter\":[{\"marker\":{\"colorbar\":{\"outlinewidth\":0,\"ticks\":\"\"}},\"type\":\"scatter\"}],\"scatter3d\":[{\"line\":{\"colorbar\":{\"outlinewidth\":0,\"ticks\":\"\"}},\"marker\":{\"colorbar\":{\"outlinewidth\":0,\"ticks\":\"\"}},\"type\":\"scatter3d\"}],\"scattercarpet\":[{\"marker\":{\"colorbar\":{\"outlinewidth\":0,\"ticks\":\"\"}},\"type\":\"scattercarpet\"}],\"scattergeo\":[{\"marker\":{\"colorbar\":{\"outlinewidth\":0,\"ticks\":\"\"}},\"type\":\"scattergeo\"}],\"scattergl\":[{\"marker\":{\"colorbar\":{\"outlinewidth\":0,\"ticks\":\"\"}},\"type\":\"scattergl\"}],\"scattermapbox\":[{\"marker\":{\"colorbar\":{\"outlinewidth\":0,\"ticks\":\"\"}},\"type\":\"scattermapbox\"}],\"scatterpolar\":[{\"marker\":{\"colorbar\":{\"outlinewidth\":0,\"ticks\":\"\"}},\"type\":\"scatterpolar\"}],\"scatterpolargl\":[{\"marker\":{\"colorbar\":{\"outlinewidth\":0,\"ticks\":\"\"}},\"type\":\"scatterpolargl\"}],\"scatterternary\":[{\"marker\":{\"colorbar\":{\"outlinewidth\":0,\"ticks\":\"\"}},\"type\":\"scatterternary\"}],\"surface\":[{\"colorbar\":{\"outlinewidth\":0,\"ticks\":\"\"},\"colorscale\":[[0.0,\"#0d0887\"],[0.1111111111111111,\"#46039f\"],[0.2222222222222222,\"#7201a8\"],[0.3333333333333333,\"#9c179e\"],[0.4444444444444444,\"#bd3786\"],[0.5555555555555556,\"#d8576b\"],[0.6666666666666666,\"#ed7953\"],[0.7777777777777778,\"#fb9f3a\"],[0.8888888888888888,\"#fdca26\"],[1.0,\"#f0f921\"]],\"type\":\"surface\"}],\"table\":[{\"cells\":{\"fill\":{\"color\":\"#EBF0F8\"},\"line\":{\"color\":\"white\"}},\"header\":{\"fill\":{\"color\":\"#C8D4E3\"},\"line\":{\"color\":\"white\"}},\"type\":\"table\"}]},\"layout\":{\"annotationdefaults\":{\"arrowcolor\":\"#2a3f5f\",\"arrowhead\":0,\"arrowwidth\":1},\"autotypenumbers\":\"strict\",\"coloraxis\":{\"colorbar\":{\"outlinewidth\":0,\"ticks\":\"\"}},\"colorscale\":{\"diverging\":[[0,\"#8e0152\"],[0.1,\"#c51b7d\"],[0.2,\"#de77ae\"],[0.3,\"#f1b6da\"],[0.4,\"#fde0ef\"],[0.5,\"#f7f7f7\"],[0.6,\"#e6f5d0\"],[0.7,\"#b8e186\"],[0.8,\"#7fbc41\"],[0.9,\"#4d9221\"],[1,\"#276419\"]],\"sequential\":[[0.0,\"#0d0887\"],[0.1111111111111111,\"#46039f\"],[0.2222222222222222,\"#7201a8\"],[0.3333333333333333,\"#9c179e\"],[0.4444444444444444,\"#bd3786\"],[0.5555555555555556,\"#d8576b\"],[0.6666666666666666,\"#ed7953\"],[0.7777777777777778,\"#fb9f3a\"],[0.8888888888888888,\"#fdca26\"],[1.0,\"#f0f921\"]],\"sequentialminus\":[[0.0,\"#0d0887\"],[0.1111111111111111,\"#46039f\"],[0.2222222222222222,\"#7201a8\"],[0.3333333333333333,\"#9c179e\"],[0.4444444444444444,\"#bd3786\"],[0.5555555555555556,\"#d8576b\"],[0.6666666666666666,\"#ed7953\"],[0.7777777777777778,\"#fb9f3a\"],[0.8888888888888888,\"#fdca26\"],[1.0,\"#f0f921\"]]},\"colorway\":[\"#636efa\",\"#EF553B\",\"#00cc96\",\"#ab63fa\",\"#FFA15A\",\"#19d3f3\",\"#FF6692\",\"#B6E880\",\"#FF97FF\",\"#FECB52\"],\"font\":{\"color\":\"#2a3f5f\"},\"geo\":{\"bgcolor\":\"white\",\"lakecolor\":\"white\",\"landcolor\":\"#E5ECF6\",\"showlakes\":true,\"showland\":true,\"subunitcolor\":\"white\"},\"hoverlabel\":{\"align\":\"left\"},\"hovermode\":\"closest\",\"mapbox\":{\"style\":\"light\"},\"paper_bgcolor\":\"white\",\"plot_bgcolor\":\"#E5ECF6\",\"polar\":{\"angularaxis\":{\"gridcolor\":\"white\",\"linecolor\":\"white\",\"ticks\":\"\"},\"bgcolor\":\"#E5ECF6\",\"radialaxis\":{\"gridcolor\":\"white\",\"linecolor\":\"white\",\"ticks\":\"\"}},\"scene\":{\"xaxis\":{\"backgroundcolor\":\"#E5ECF6\",\"gridcolor\":\"white\",\"gridwidth\":2,\"linecolor\":\"white\",\"showbackground\":true,\"ticks\":\"\",\"zerolinecolor\":\"white\"},\"yaxis\":{\"backgroundcolor\":\"#E5ECF6\",\"gridcolor\":\"white\",\"gridwidth\":2,\"linecolor\":\"white\",\"showbackground\":true,\"ticks\":\"\",\"zerolinecolor\":\"white\"},\"zaxis\":{\"backgroundcolor\":\"#E5ECF6\",\"gridcolor\":\"white\",\"gridwidth\":2,\"linecolor\":\"white\",\"showbackground\":true,\"ticks\":\"\",\"zerolinecolor\":\"white\"}},\"shapedefaults\":{\"line\":{\"color\":\"#2a3f5f\"}},\"ternary\":{\"aaxis\":{\"gridcolor\":\"white\",\"linecolor\":\"white\",\"ticks\":\"\"},\"baxis\":{\"gridcolor\":\"white\",\"linecolor\":\"white\",\"ticks\":\"\"},\"bgcolor\":\"#E5ECF6\",\"caxis\":{\"gridcolor\":\"white\",\"linecolor\":\"white\",\"ticks\":\"\"}},\"title\":{\"x\":0.05},\"xaxis\":{\"automargin\":true,\"gridcolor\":\"white\",\"linecolor\":\"white\",\"ticks\":\"\",\"title\":{\"standoff\":15},\"zerolinecolor\":\"white\",\"zerolinewidth\":2},\"yaxis\":{\"automargin\":true,\"gridcolor\":\"white\",\"linecolor\":\"white\",\"ticks\":\"\",\"title\":{\"standoff\":15},\"zerolinecolor\":\"white\",\"zerolinewidth\":2}}},\"title\":{\"text\":\"Number of Films per Country\"}},                        {\"responsive\": true}                    ).then(function(){\n                            \nvar gd = document.getElementById('f00501d9-3709-4bdd-9e91-21d3ec1873db');\nvar x = new MutationObserver(function (mutations, observer) {{\n        var display = window.getComputedStyle(gd).display;\n        if (!display || display === 'none') {{\n            console.log([gd, 'removed!']);\n            Plotly.purge(gd);\n            observer.disconnect();\n        }}\n}});\n\n// Listen for the removal of the full notebook cells\nvar notebookContainer = gd.closest('#notebook-container');\nif (notebookContainer) {{\n    x.observe(notebookContainer, {childList: true});\n}}\n\n// Listen for the clearing of the current output cell\nvar outputEl = gd.closest('.output');\nif (outputEl) {{\n    x.observe(outputEl, {childList: true});\n}}\n\n                        })                };                });            </script>        </div>"
     },
     "metadata": {}
    }
   ],
   "source": [
    "\n",
    "#We need the files as a DataFrame\n",
    "countries40=data.country.value_counts().iloc[0:17]\n",
    "c40=countries40.to_frame()\n",
    "c40.reset_index(inplace=True)\n",
    "c40.rename(columns={'index': 'country1','country':'qty'},inplace=True)\n",
    "init_notebook_mode(connected=True)\n",
    "#compiling our data into dictionaries\n",
    "dict_world = dict(\n",
    "        type = 'choropleth',\n",
    "        colorscale = 'Sunset',\n",
    "        locations = c40['country1'],\n",
    "        locationmode = \"country names\",\n",
    "        z = c40['qty'],\n",
    "        text = c40['country1'],\n",
    "        colorbar = {'title' : 'Number of Films per Country'},\n",
    "      )\n",
    "\n",
    "#layout\n",
    "layout = dict(title = 'Number of Films per Country',\n",
    "              geo = dict(projection = {'type':'mercator'})\n",
    "             )\n",
    "#Iniciate the interactive plot \n",
    "choromap = go.Figure(data = [dict_world],layout = layout)\n",
    "iplot(choromap,validate=False)"
   ]
  },
  {
   "cell_type": "code",
   "execution_count": 9,
   "metadata": {},
   "outputs": [
    {
     "output_type": "display_data",
     "data": {
      "text/plain": "<Figure size 432x288 with 1 Axes>",
      "image/svg+xml": "<?xml version=\"1.0\" encoding=\"utf-8\" standalone=\"no\"?>\r\n<!DOCTYPE svg PUBLIC \"-//W3C//DTD SVG 1.1//EN\"\r\n  \"http://www.w3.org/Graphics/SVG/1.1/DTD/svg11.dtd\">\r\n<svg height=\"338.396887pt\" version=\"1.1\" viewBox=\"0 0 391.589062 338.396887\" width=\"391.589062pt\" xmlns=\"http://www.w3.org/2000/svg\" xmlns:xlink=\"http://www.w3.org/1999/xlink\">\r\n <metadata>\r\n  <rdf:RDF xmlns:cc=\"http://creativecommons.org/ns#\" xmlns:dc=\"http://purl.org/dc/elements/1.1/\" xmlns:rdf=\"http://www.w3.org/1999/02/22-rdf-syntax-ns#\">\r\n   <cc:Work>\r\n    <dc:type rdf:resource=\"http://purl.org/dc/dcmitype/StillImage\"/>\r\n    <dc:date>2021-07-05T18:51:26.535942</dc:date>\r\n    <dc:format>image/svg+xml</dc:format>\r\n    <dc:creator>\r\n     <cc:Agent>\r\n      <dc:title>Matplotlib v3.4.2, https://matplotlib.org/</dc:title>\r\n     </cc:Agent>\r\n    </dc:creator>\r\n   </cc:Work>\r\n  </rdf:RDF>\r\n </metadata>\r\n <defs>\r\n  <style type=\"text/css\">*{stroke-linecap:butt;stroke-linejoin:round;}</style>\r\n </defs>\r\n <g id=\"figure_1\">\r\n  <g id=\"patch_1\">\r\n   <path d=\"M 0 338.396887 \r\nL 391.589062 338.396887 \r\nL 391.589062 0 \r\nL 0 0 \r\nz\r\n\" style=\"fill:#ffffff;\"/>\r\n  </g>\r\n  <g id=\"axes_1\">\r\n   <g id=\"patch_2\">\r\n    <path d=\"M 49.589063 239.375625 \r\nL 384.389063 239.375625 \r\nL 384.389063 21.935625 \r\nL 49.589063 21.935625 \r\nz\r\n\" style=\"fill:#ffffff;\"/>\r\n   </g>\r\n   <g id=\"matplotlib.axis_1\">\r\n    <g id=\"xtick_1\">\r\n     <g id=\"text_1\">\r\n      <!-- United States -->\r\n      <g style=\"fill:#262626;\" transform=\"translate(63.662786 306.737807)rotate(-80)scale(0.1 -0.1)\">\r\n       <defs>\r\n        <path d=\"M 3500 4581 \r\nL 4106 4581 \r\nL 4106 1934 \r\nQ 4106 1244 3950 837 \r\nQ 3794 431 3386 176 \r\nQ 2978 -78 2316 -78 \r\nQ 1672 -78 1262 144 \r\nQ 853 366 678 786 \r\nQ 503 1206 503 1934 \r\nL 503 4581 \r\nL 1109 4581 \r\nL 1109 1938 \r\nQ 1109 1341 1220 1058 \r\nQ 1331 775 1601 622 \r\nQ 1872 469 2263 469 \r\nQ 2931 469 3215 772 \r\nQ 3500 1075 3500 1938 \r\nL 3500 4581 \r\nz\r\n\" id=\"ArialMT-55\" transform=\"scale(0.015625)\"/>\r\n        <path d=\"M 422 0 \r\nL 422 3319 \r\nL 928 3319 \r\nL 928 2847 \r\nQ 1294 3394 1984 3394 \r\nQ 2284 3394 2536 3286 \r\nQ 2788 3178 2913 3003 \r\nQ 3038 2828 3088 2588 \r\nQ 3119 2431 3119 2041 \r\nL 3119 0 \r\nL 2556 0 \r\nL 2556 2019 \r\nQ 2556 2363 2490 2533 \r\nQ 2425 2703 2258 2804 \r\nQ 2091 2906 1866 2906 \r\nQ 1506 2906 1245 2678 \r\nQ 984 2450 984 1813 \r\nL 984 0 \r\nL 422 0 \r\nz\r\n\" id=\"ArialMT-6e\" transform=\"scale(0.015625)\"/>\r\n        <path d=\"M 425 3934 \r\nL 425 4581 \r\nL 988 4581 \r\nL 988 3934 \r\nL 425 3934 \r\nz\r\nM 425 0 \r\nL 425 3319 \r\nL 988 3319 \r\nL 988 0 \r\nL 425 0 \r\nz\r\n\" id=\"ArialMT-69\" transform=\"scale(0.015625)\"/>\r\n        <path d=\"M 1650 503 \r\nL 1731 6 \r\nQ 1494 -44 1306 -44 \r\nQ 1000 -44 831 53 \r\nQ 663 150 594 308 \r\nQ 525 466 525 972 \r\nL 525 2881 \r\nL 113 2881 \r\nL 113 3319 \r\nL 525 3319 \r\nL 525 4141 \r\nL 1084 4478 \r\nL 1084 3319 \r\nL 1650 3319 \r\nL 1650 2881 \r\nL 1084 2881 \r\nL 1084 941 \r\nQ 1084 700 1114 631 \r\nQ 1144 563 1211 522 \r\nQ 1278 481 1403 481 \r\nQ 1497 481 1650 503 \r\nz\r\n\" id=\"ArialMT-74\" transform=\"scale(0.015625)\"/>\r\n        <path d=\"M 2694 1069 \r\nL 3275 997 \r\nQ 3138 488 2766 206 \r\nQ 2394 -75 1816 -75 \r\nQ 1088 -75 661 373 \r\nQ 234 822 234 1631 \r\nQ 234 2469 665 2931 \r\nQ 1097 3394 1784 3394 \r\nQ 2450 3394 2872 2941 \r\nQ 3294 2488 3294 1666 \r\nQ 3294 1616 3291 1516 \r\nL 816 1516 \r\nQ 847 969 1125 678 \r\nQ 1403 388 1819 388 \r\nQ 2128 388 2347 550 \r\nQ 2566 713 2694 1069 \r\nz\r\nM 847 1978 \r\nL 2700 1978 \r\nQ 2663 2397 2488 2606 \r\nQ 2219 2931 1791 2931 \r\nQ 1403 2931 1139 2672 \r\nQ 875 2413 847 1978 \r\nz\r\n\" id=\"ArialMT-65\" transform=\"scale(0.015625)\"/>\r\n        <path d=\"M 2575 0 \r\nL 2575 419 \r\nQ 2259 -75 1647 -75 \r\nQ 1250 -75 917 144 \r\nQ 584 363 401 755 \r\nQ 219 1147 219 1656 \r\nQ 219 2153 384 2558 \r\nQ 550 2963 881 3178 \r\nQ 1213 3394 1622 3394 \r\nQ 1922 3394 2156 3267 \r\nQ 2391 3141 2538 2938 \r\nL 2538 4581 \r\nL 3097 4581 \r\nL 3097 0 \r\nL 2575 0 \r\nz\r\nM 797 1656 \r\nQ 797 1019 1065 703 \r\nQ 1334 388 1700 388 \r\nQ 2069 388 2326 689 \r\nQ 2584 991 2584 1609 \r\nQ 2584 2291 2321 2609 \r\nQ 2059 2928 1675 2928 \r\nQ 1300 2928 1048 2622 \r\nQ 797 2316 797 1656 \r\nz\r\n\" id=\"ArialMT-64\" transform=\"scale(0.015625)\"/>\r\n        <path id=\"ArialMT-20\" transform=\"scale(0.015625)\"/>\r\n        <path d=\"M 288 1472 \r\nL 859 1522 \r\nQ 900 1178 1048 958 \r\nQ 1197 738 1509 602 \r\nQ 1822 466 2213 466 \r\nQ 2559 466 2825 569 \r\nQ 3091 672 3220 851 \r\nQ 3350 1031 3350 1244 \r\nQ 3350 1459 3225 1620 \r\nQ 3100 1781 2813 1891 \r\nQ 2628 1963 1997 2114 \r\nQ 1366 2266 1113 2400 \r\nQ 784 2572 623 2826 \r\nQ 463 3081 463 3397 \r\nQ 463 3744 659 4045 \r\nQ 856 4347 1234 4503 \r\nQ 1613 4659 2075 4659 \r\nQ 2584 4659 2973 4495 \r\nQ 3363 4331 3572 4012 \r\nQ 3781 3694 3797 3291 \r\nL 3216 3247 \r\nQ 3169 3681 2898 3903 \r\nQ 2628 4125 2100 4125 \r\nQ 1550 4125 1298 3923 \r\nQ 1047 3722 1047 3438 \r\nQ 1047 3191 1225 3031 \r\nQ 1400 2872 2139 2705 \r\nQ 2878 2538 3153 2413 \r\nQ 3553 2228 3743 1945 \r\nQ 3934 1663 3934 1294 \r\nQ 3934 928 3725 604 \r\nQ 3516 281 3123 101 \r\nQ 2731 -78 2241 -78 \r\nQ 1619 -78 1198 103 \r\nQ 778 284 539 648 \r\nQ 300 1013 288 1472 \r\nz\r\n\" id=\"ArialMT-53\" transform=\"scale(0.015625)\"/>\r\n        <path d=\"M 2588 409 \r\nQ 2275 144 1986 34 \r\nQ 1697 -75 1366 -75 \r\nQ 819 -75 525 192 \r\nQ 231 459 231 875 \r\nQ 231 1119 342 1320 \r\nQ 453 1522 633 1644 \r\nQ 813 1766 1038 1828 \r\nQ 1203 1872 1538 1913 \r\nQ 2219 1994 2541 2106 \r\nQ 2544 2222 2544 2253 \r\nQ 2544 2597 2384 2738 \r\nQ 2169 2928 1744 2928 \r\nQ 1347 2928 1158 2789 \r\nQ 969 2650 878 2297 \r\nL 328 2372 \r\nQ 403 2725 575 2942 \r\nQ 747 3159 1072 3276 \r\nQ 1397 3394 1825 3394 \r\nQ 2250 3394 2515 3294 \r\nQ 2781 3194 2906 3042 \r\nQ 3031 2891 3081 2659 \r\nQ 3109 2516 3109 2141 \r\nL 3109 1391 \r\nQ 3109 606 3145 398 \r\nQ 3181 191 3288 0 \r\nL 2700 0 \r\nQ 2613 175 2588 409 \r\nz\r\nM 2541 1666 \r\nQ 2234 1541 1622 1453 \r\nQ 1275 1403 1131 1340 \r\nQ 988 1278 909 1158 \r\nQ 831 1038 831 891 \r\nQ 831 666 1001 516 \r\nQ 1172 366 1500 366 \r\nQ 1825 366 2078 508 \r\nQ 2331 650 2450 897 \r\nQ 2541 1088 2541 1459 \r\nL 2541 1666 \r\nz\r\n\" id=\"ArialMT-61\" transform=\"scale(0.015625)\"/>\r\n        <path d=\"M 197 991 \r\nL 753 1078 \r\nQ 800 744 1014 566 \r\nQ 1228 388 1613 388 \r\nQ 2000 388 2187 545 \r\nQ 2375 703 2375 916 \r\nQ 2375 1106 2209 1216 \r\nQ 2094 1291 1634 1406 \r\nQ 1016 1563 777 1677 \r\nQ 538 1791 414 1992 \r\nQ 291 2194 291 2438 \r\nQ 291 2659 392 2848 \r\nQ 494 3038 669 3163 \r\nQ 800 3259 1026 3326 \r\nQ 1253 3394 1513 3394 \r\nQ 1903 3394 2198 3281 \r\nQ 2494 3169 2634 2976 \r\nQ 2775 2784 2828 2463 \r\nL 2278 2388 \r\nQ 2241 2644 2061 2787 \r\nQ 1881 2931 1553 2931 \r\nQ 1166 2931 1000 2803 \r\nQ 834 2675 834 2503 \r\nQ 834 2394 903 2306 \r\nQ 972 2216 1119 2156 \r\nQ 1203 2125 1616 2013 \r\nQ 2213 1853 2448 1751 \r\nQ 2684 1650 2818 1456 \r\nQ 2953 1263 2953 975 \r\nQ 2953 694 2789 445 \r\nQ 2625 197 2315 61 \r\nQ 2006 -75 1616 -75 \r\nQ 969 -75 630 194 \r\nQ 291 463 197 991 \r\nz\r\n\" id=\"ArialMT-73\" transform=\"scale(0.015625)\"/>\r\n       </defs>\r\n       <use xlink:href=\"#ArialMT-55\"/>\r\n       <use x=\"72.216797\" xlink:href=\"#ArialMT-6e\"/>\r\n       <use x=\"127.832031\" xlink:href=\"#ArialMT-69\"/>\r\n       <use x=\"150.048828\" xlink:href=\"#ArialMT-74\"/>\r\n       <use x=\"177.832031\" xlink:href=\"#ArialMT-65\"/>\r\n       <use x=\"233.447266\" xlink:href=\"#ArialMT-64\"/>\r\n       <use x=\"289.0625\" xlink:href=\"#ArialMT-20\"/>\r\n       <use x=\"316.845703\" xlink:href=\"#ArialMT-53\"/>\r\n       <use x=\"383.544922\" xlink:href=\"#ArialMT-74\"/>\r\n       <use x=\"411.328125\" xlink:href=\"#ArialMT-61\"/>\r\n       <use x=\"466.943359\" xlink:href=\"#ArialMT-74\"/>\r\n       <use x=\"494.726562\" xlink:href=\"#ArialMT-65\"/>\r\n       <use x=\"550.341797\" xlink:href=\"#ArialMT-73\"/>\r\n      </g>\r\n     </g>\r\n    </g>\r\n    <g id=\"xtick_2\">\r\n     <g id=\"text_2\">\r\n      <!-- India -->\r\n      <g style=\"fill:#262626;\" transform=\"translate(100.472354 268.971968)rotate(-80)scale(0.1 -0.1)\">\r\n       <defs>\r\n        <path d=\"M 597 0 \r\nL 597 4581 \r\nL 1203 4581 \r\nL 1203 0 \r\nL 597 0 \r\nz\r\n\" id=\"ArialMT-49\" transform=\"scale(0.015625)\"/>\r\n       </defs>\r\n       <use xlink:href=\"#ArialMT-49\"/>\r\n       <use x=\"27.783203\" xlink:href=\"#ArialMT-6e\"/>\r\n       <use x=\"83.398438\" xlink:href=\"#ArialMT-64\"/>\r\n       <use x=\"139.013672\" xlink:href=\"#ArialMT-69\"/>\r\n       <use x=\"161.230469\" xlink:href=\"#ArialMT-61\"/>\r\n      </g>\r\n     </g>\r\n    </g>\r\n    <g id=\"xtick_3\">\r\n     <g id=\"text_3\">\r\n      <!-- United Kingdom -->\r\n      <g style=\"fill:#262626;\" transform=\"translate(129.599843 317.686099)rotate(-80)scale(0.1 -0.1)\">\r\n       <defs>\r\n        <path d=\"M 469 0 \r\nL 469 4581 \r\nL 1075 4581 \r\nL 1075 2309 \r\nL 3350 4581 \r\nL 4172 4581 \r\nL 2250 2725 \r\nL 4256 0 \r\nL 3456 0 \r\nL 1825 2319 \r\nL 1075 1588 \r\nL 1075 0 \r\nL 469 0 \r\nz\r\n\" id=\"ArialMT-4b\" transform=\"scale(0.015625)\"/>\r\n        <path d=\"M 319 -275 \r\nL 866 -356 \r\nQ 900 -609 1056 -725 \r\nQ 1266 -881 1628 -881 \r\nQ 2019 -881 2231 -725 \r\nQ 2444 -569 2519 -288 \r\nQ 2563 -116 2559 434 \r\nQ 2191 0 1641 0 \r\nQ 956 0 581 494 \r\nQ 206 988 206 1678 \r\nQ 206 2153 378 2554 \r\nQ 550 2956 876 3175 \r\nQ 1203 3394 1644 3394 \r\nQ 2231 3394 2613 2919 \r\nL 2613 3319 \r\nL 3131 3319 \r\nL 3131 450 \r\nQ 3131 -325 2973 -648 \r\nQ 2816 -972 2473 -1159 \r\nQ 2131 -1347 1631 -1347 \r\nQ 1038 -1347 672 -1080 \r\nQ 306 -813 319 -275 \r\nz\r\nM 784 1719 \r\nQ 784 1066 1043 766 \r\nQ 1303 466 1694 466 \r\nQ 2081 466 2343 764 \r\nQ 2606 1063 2606 1700 \r\nQ 2606 2309 2336 2618 \r\nQ 2066 2928 1684 2928 \r\nQ 1309 2928 1046 2623 \r\nQ 784 2319 784 1719 \r\nz\r\n\" id=\"ArialMT-67\" transform=\"scale(0.015625)\"/>\r\n        <path d=\"M 213 1659 \r\nQ 213 2581 725 3025 \r\nQ 1153 3394 1769 3394 \r\nQ 2453 3394 2887 2945 \r\nQ 3322 2497 3322 1706 \r\nQ 3322 1066 3130 698 \r\nQ 2938 331 2570 128 \r\nQ 2203 -75 1769 -75 \r\nQ 1072 -75 642 372 \r\nQ 213 819 213 1659 \r\nz\r\nM 791 1659 \r\nQ 791 1022 1069 705 \r\nQ 1347 388 1769 388 \r\nQ 2188 388 2466 706 \r\nQ 2744 1025 2744 1678 \r\nQ 2744 2294 2464 2611 \r\nQ 2184 2928 1769 2928 \r\nQ 1347 2928 1069 2612 \r\nQ 791 2297 791 1659 \r\nz\r\n\" id=\"ArialMT-6f\" transform=\"scale(0.015625)\"/>\r\n        <path d=\"M 422 0 \r\nL 422 3319 \r\nL 925 3319 \r\nL 925 2853 \r\nQ 1081 3097 1340 3245 \r\nQ 1600 3394 1931 3394 \r\nQ 2300 3394 2536 3241 \r\nQ 2772 3088 2869 2813 \r\nQ 3263 3394 3894 3394 \r\nQ 4388 3394 4653 3120 \r\nQ 4919 2847 4919 2278 \r\nL 4919 0 \r\nL 4359 0 \r\nL 4359 2091 \r\nQ 4359 2428 4304 2576 \r\nQ 4250 2725 4106 2815 \r\nQ 3963 2906 3769 2906 \r\nQ 3419 2906 3187 2673 \r\nQ 2956 2441 2956 1928 \r\nL 2956 0 \r\nL 2394 0 \r\nL 2394 2156 \r\nQ 2394 2531 2256 2718 \r\nQ 2119 2906 1806 2906 \r\nQ 1569 2906 1367 2781 \r\nQ 1166 2656 1075 2415 \r\nQ 984 2175 984 1722 \r\nL 984 0 \r\nL 422 0 \r\nz\r\n\" id=\"ArialMT-6d\" transform=\"scale(0.015625)\"/>\r\n       </defs>\r\n       <use xlink:href=\"#ArialMT-55\"/>\r\n       <use x=\"72.216797\" xlink:href=\"#ArialMT-6e\"/>\r\n       <use x=\"127.832031\" xlink:href=\"#ArialMT-69\"/>\r\n       <use x=\"150.048828\" xlink:href=\"#ArialMT-74\"/>\r\n       <use x=\"177.832031\" xlink:href=\"#ArialMT-65\"/>\r\n       <use x=\"233.447266\" xlink:href=\"#ArialMT-64\"/>\r\n       <use x=\"289.0625\" xlink:href=\"#ArialMT-20\"/>\r\n       <use x=\"316.845703\" xlink:href=\"#ArialMT-4b\"/>\r\n       <use x=\"383.544922\" xlink:href=\"#ArialMT-69\"/>\r\n       <use x=\"405.761719\" xlink:href=\"#ArialMT-6e\"/>\r\n       <use x=\"461.376953\" xlink:href=\"#ArialMT-67\"/>\r\n       <use x=\"516.992188\" xlink:href=\"#ArialMT-64\"/>\r\n       <use x=\"572.607422\" xlink:href=\"#ArialMT-6f\"/>\r\n       <use x=\"628.222656\" xlink:href=\"#ArialMT-6d\"/>\r\n      </g>\r\n     </g>\r\n    </g>\r\n    <g id=\"xtick_4\">\r\n     <g id=\"text_4\">\r\n      <!-- Japan -->\r\n      <g style=\"fill:#262626;\" transform=\"translate(166.949531 274.448422)rotate(-80)scale(0.1 -0.1)\">\r\n       <defs>\r\n        <path d=\"M 184 1300 \r\nL 731 1375 \r\nQ 753 850 928 656 \r\nQ 1103 463 1413 463 \r\nQ 1641 463 1806 567 \r\nQ 1972 672 2034 851 \r\nQ 2097 1031 2097 1425 \r\nL 2097 4581 \r\nL 2703 4581 \r\nL 2703 1459 \r\nQ 2703 884 2564 568 \r\nQ 2425 253 2123 87 \r\nQ 1822 -78 1416 -78 \r\nQ 813 -78 492 269 \r\nQ 172 616 184 1300 \r\nz\r\n\" id=\"ArialMT-4a\" transform=\"scale(0.015625)\"/>\r\n        <path d=\"M 422 -1272 \r\nL 422 3319 \r\nL 934 3319 \r\nL 934 2888 \r\nQ 1116 3141 1344 3267 \r\nQ 1572 3394 1897 3394 \r\nQ 2322 3394 2647 3175 \r\nQ 2972 2956 3137 2557 \r\nQ 3303 2159 3303 1684 \r\nQ 3303 1175 3120 767 \r\nQ 2938 359 2589 142 \r\nQ 2241 -75 1856 -75 \r\nQ 1575 -75 1351 44 \r\nQ 1128 163 984 344 \r\nL 984 -1272 \r\nL 422 -1272 \r\nz\r\nM 931 1641 \r\nQ 931 1000 1190 694 \r\nQ 1450 388 1819 388 \r\nQ 2194 388 2461 705 \r\nQ 2728 1022 2728 1688 \r\nQ 2728 2322 2467 2637 \r\nQ 2206 2953 1844 2953 \r\nQ 1484 2953 1207 2617 \r\nQ 931 2281 931 1641 \r\nz\r\n\" id=\"ArialMT-70\" transform=\"scale(0.015625)\"/>\r\n       </defs>\r\n       <use xlink:href=\"#ArialMT-4a\"/>\r\n       <use x=\"50\" xlink:href=\"#ArialMT-61\"/>\r\n       <use x=\"105.615234\" xlink:href=\"#ArialMT-70\"/>\r\n       <use x=\"161.230469\" xlink:href=\"#ArialMT-61\"/>\r\n       <use x=\"216.845703\" xlink:href=\"#ArialMT-6e\"/>\r\n      </g>\r\n     </g>\r\n    </g>\r\n    <g id=\"xtick_5\">\r\n     <g id=\"text_5\">\r\n      <!-- South Korea -->\r\n      <g style=\"fill:#262626;\" transform=\"translate(197.968203 302.366183)rotate(-80)scale(0.1 -0.1)\">\r\n       <defs>\r\n        <path d=\"M 2597 0 \r\nL 2597 488 \r\nQ 2209 -75 1544 -75 \r\nQ 1250 -75 995 37 \r\nQ 741 150 617 320 \r\nQ 494 491 444 738 \r\nQ 409 903 409 1263 \r\nL 409 3319 \r\nL 972 3319 \r\nL 972 1478 \r\nQ 972 1038 1006 884 \r\nQ 1059 663 1231 536 \r\nQ 1403 409 1656 409 \r\nQ 1909 409 2131 539 \r\nQ 2353 669 2445 892 \r\nQ 2538 1116 2538 1541 \r\nL 2538 3319 \r\nL 3100 3319 \r\nL 3100 0 \r\nL 2597 0 \r\nz\r\n\" id=\"ArialMT-75\" transform=\"scale(0.015625)\"/>\r\n        <path d=\"M 422 0 \r\nL 422 4581 \r\nL 984 4581 \r\nL 984 2938 \r\nQ 1378 3394 1978 3394 \r\nQ 2347 3394 2619 3248 \r\nQ 2891 3103 3008 2847 \r\nQ 3125 2591 3125 2103 \r\nL 3125 0 \r\nL 2563 0 \r\nL 2563 2103 \r\nQ 2563 2525 2380 2717 \r\nQ 2197 2909 1863 2909 \r\nQ 1613 2909 1392 2779 \r\nQ 1172 2650 1078 2428 \r\nQ 984 2206 984 1816 \r\nL 984 0 \r\nL 422 0 \r\nz\r\n\" id=\"ArialMT-68\" transform=\"scale(0.015625)\"/>\r\n        <path d=\"M 416 0 \r\nL 416 3319 \r\nL 922 3319 \r\nL 922 2816 \r\nQ 1116 3169 1280 3281 \r\nQ 1444 3394 1641 3394 \r\nQ 1925 3394 2219 3213 \r\nL 2025 2691 \r\nQ 1819 2813 1613 2813 \r\nQ 1428 2813 1281 2702 \r\nQ 1134 2591 1072 2394 \r\nQ 978 2094 978 1738 \r\nL 978 0 \r\nL 416 0 \r\nz\r\n\" id=\"ArialMT-72\" transform=\"scale(0.015625)\"/>\r\n       </defs>\r\n       <use xlink:href=\"#ArialMT-53\"/>\r\n       <use x=\"66.699219\" xlink:href=\"#ArialMT-6f\"/>\r\n       <use x=\"122.314453\" xlink:href=\"#ArialMT-75\"/>\r\n       <use x=\"177.929688\" xlink:href=\"#ArialMT-74\"/>\r\n       <use x=\"205.712891\" xlink:href=\"#ArialMT-68\"/>\r\n       <use x=\"261.328125\" xlink:href=\"#ArialMT-20\"/>\r\n       <use x=\"289.111328\" xlink:href=\"#ArialMT-4b\"/>\r\n       <use x=\"355.810547\" xlink:href=\"#ArialMT-6f\"/>\r\n       <use x=\"411.425781\" xlink:href=\"#ArialMT-72\"/>\r\n       <use x=\"444.726562\" xlink:href=\"#ArialMT-65\"/>\r\n       <use x=\"500.341797\" xlink:href=\"#ArialMT-61\"/>\r\n      </g>\r\n     </g>\r\n    </g>\r\n    <g id=\"xtick_6\">\r\n     <g id=\"text_6\">\r\n      <!-- Canada -->\r\n      <g style=\"fill:#262626;\" transform=\"translate(233.233795 282.112996)rotate(-80)scale(0.1 -0.1)\">\r\n       <defs>\r\n        <path d=\"M 3763 1606 \r\nL 4369 1453 \r\nQ 4178 706 3683 314 \r\nQ 3188 -78 2472 -78 \r\nQ 1731 -78 1267 223 \r\nQ 803 525 561 1097 \r\nQ 319 1669 319 2325 \r\nQ 319 3041 592 3573 \r\nQ 866 4106 1370 4382 \r\nQ 1875 4659 2481 4659 \r\nQ 3169 4659 3637 4309 \r\nQ 4106 3959 4291 3325 \r\nL 3694 3184 \r\nQ 3534 3684 3231 3912 \r\nQ 2928 4141 2469 4141 \r\nQ 1941 4141 1586 3887 \r\nQ 1231 3634 1087 3207 \r\nQ 944 2781 944 2328 \r\nQ 944 1744 1114 1308 \r\nQ 1284 872 1643 656 \r\nQ 2003 441 2422 441 \r\nQ 2931 441 3284 734 \r\nQ 3638 1028 3763 1606 \r\nz\r\n\" id=\"ArialMT-43\" transform=\"scale(0.015625)\"/>\r\n       </defs>\r\n       <use xlink:href=\"#ArialMT-43\"/>\r\n       <use x=\"72.216797\" xlink:href=\"#ArialMT-61\"/>\r\n       <use x=\"127.832031\" xlink:href=\"#ArialMT-6e\"/>\r\n       <use x=\"183.447266\" xlink:href=\"#ArialMT-61\"/>\r\n       <use x=\"239.0625\" xlink:href=\"#ArialMT-64\"/>\r\n       <use x=\"294.677734\" xlink:href=\"#ArialMT-61\"/>\r\n      </g>\r\n     </g>\r\n    </g>\r\n    <g id=\"xtick_7\">\r\n     <g id=\"text_7\">\r\n      <!-- Spain -->\r\n      <g style=\"fill:#262626;\" transform=\"translate(267.59443 272.826188)rotate(-80)scale(0.1 -0.1)\">\r\n       <use xlink:href=\"#ArialMT-53\"/>\r\n       <use x=\"66.699219\" xlink:href=\"#ArialMT-70\"/>\r\n       <use x=\"122.314453\" xlink:href=\"#ArialMT-61\"/>\r\n       <use x=\"177.929688\" xlink:href=\"#ArialMT-69\"/>\r\n       <use x=\"200.146484\" xlink:href=\"#ArialMT-6e\"/>\r\n      </g>\r\n     </g>\r\n    </g>\r\n    <g id=\"xtick_8\">\r\n     <g id=\"text_8\">\r\n      <!-- France -->\r\n      <g style=\"fill:#262626;\" transform=\"translate(300.532952 278.266091)rotate(-80)scale(0.1 -0.1)\">\r\n       <defs>\r\n        <path d=\"M 525 0 \r\nL 525 4581 \r\nL 3616 4581 \r\nL 3616 4041 \r\nL 1131 4041 \r\nL 1131 2622 \r\nL 3281 2622 \r\nL 3281 2081 \r\nL 1131 2081 \r\nL 1131 0 \r\nL 525 0 \r\nz\r\n\" id=\"ArialMT-46\" transform=\"scale(0.015625)\"/>\r\n        <path d=\"M 2588 1216 \r\nL 3141 1144 \r\nQ 3050 572 2676 248 \r\nQ 2303 -75 1759 -75 \r\nQ 1078 -75 664 370 \r\nQ 250 816 250 1647 \r\nQ 250 2184 428 2587 \r\nQ 606 2991 970 3192 \r\nQ 1334 3394 1763 3394 \r\nQ 2303 3394 2647 3120 \r\nQ 2991 2847 3088 2344 \r\nL 2541 2259 \r\nQ 2463 2594 2264 2762 \r\nQ 2066 2931 1784 2931 \r\nQ 1359 2931 1093 2626 \r\nQ 828 2322 828 1663 \r\nQ 828 994 1084 691 \r\nQ 1341 388 1753 388 \r\nQ 2084 388 2306 591 \r\nQ 2528 794 2588 1216 \r\nz\r\n\" id=\"ArialMT-63\" transform=\"scale(0.015625)\"/>\r\n       </defs>\r\n       <use xlink:href=\"#ArialMT-46\"/>\r\n       <use x=\"61.083984\" xlink:href=\"#ArialMT-72\"/>\r\n       <use x=\"94.384766\" xlink:href=\"#ArialMT-61\"/>\r\n       <use x=\"150\" xlink:href=\"#ArialMT-6e\"/>\r\n       <use x=\"205.615234\" xlink:href=\"#ArialMT-63\"/>\r\n       <use x=\"255.615234\" xlink:href=\"#ArialMT-65\"/>\r\n      </g>\r\n     </g>\r\n    </g>\r\n    <g id=\"xtick_9\">\r\n     <g id=\"text_9\">\r\n      <!-- Egypt -->\r\n      <g style=\"fill:#262626;\" transform=\"translate(334.437122 272.800408)rotate(-80)scale(0.1 -0.1)\">\r\n       <defs>\r\n        <path d=\"M 506 0 \r\nL 506 4581 \r\nL 3819 4581 \r\nL 3819 4041 \r\nL 1113 4041 \r\nL 1113 2638 \r\nL 3647 2638 \r\nL 3647 2100 \r\nL 1113 2100 \r\nL 1113 541 \r\nL 3925 541 \r\nL 3925 0 \r\nL 506 0 \r\nz\r\n\" id=\"ArialMT-45\" transform=\"scale(0.015625)\"/>\r\n        <path d=\"M 397 -1278 \r\nL 334 -750 \r\nQ 519 -800 656 -800 \r\nQ 844 -800 956 -737 \r\nQ 1069 -675 1141 -563 \r\nQ 1194 -478 1313 -144 \r\nQ 1328 -97 1363 -6 \r\nL 103 3319 \r\nL 709 3319 \r\nL 1400 1397 \r\nQ 1534 1031 1641 628 \r\nQ 1738 1016 1872 1384 \r\nL 2581 3319 \r\nL 3144 3319 \r\nL 1881 -56 \r\nQ 1678 -603 1566 -809 \r\nQ 1416 -1088 1222 -1217 \r\nQ 1028 -1347 759 -1347 \r\nQ 597 -1347 397 -1278 \r\nz\r\n\" id=\"ArialMT-79\" transform=\"scale(0.015625)\"/>\r\n       </defs>\r\n       <use xlink:href=\"#ArialMT-45\"/>\r\n       <use x=\"66.699219\" xlink:href=\"#ArialMT-67\"/>\r\n       <use x=\"122.314453\" xlink:href=\"#ArialMT-79\"/>\r\n       <use x=\"172.314453\" xlink:href=\"#ArialMT-70\"/>\r\n       <use x=\"227.929688\" xlink:href=\"#ArialMT-74\"/>\r\n      </g>\r\n     </g>\r\n    </g>\r\n    <g id=\"xtick_10\">\r\n     <g id=\"text_10\">\r\n      <!-- Turkey -->\r\n      <g style=\"fill:#262626;\" transform=\"translate(367.51651 277.344373)rotate(-80)scale(0.1 -0.1)\">\r\n       <defs>\r\n        <path d=\"M 1659 0 \r\nL 1659 4041 \r\nL 150 4041 \r\nL 150 4581 \r\nL 3781 4581 \r\nL 3781 4041 \r\nL 2266 4041 \r\nL 2266 0 \r\nL 1659 0 \r\nz\r\n\" id=\"ArialMT-54\" transform=\"scale(0.015625)\"/>\r\n        <path d=\"M 425 0 \r\nL 425 4581 \r\nL 988 4581 \r\nL 988 1969 \r\nL 2319 3319 \r\nL 3047 3319 \r\nL 1778 2088 \r\nL 3175 0 \r\nL 2481 0 \r\nL 1384 1697 \r\nL 988 1316 \r\nL 988 0 \r\nL 425 0 \r\nz\r\n\" id=\"ArialMT-6b\" transform=\"scale(0.015625)\"/>\r\n       </defs>\r\n       <use xlink:href=\"#ArialMT-54\"/>\r\n       <use x=\"57.333984\" xlink:href=\"#ArialMT-75\"/>\r\n       <use x=\"112.949219\" xlink:href=\"#ArialMT-72\"/>\r\n       <use x=\"146.25\" xlink:href=\"#ArialMT-6b\"/>\r\n       <use x=\"196.25\" xlink:href=\"#ArialMT-65\"/>\r\n       <use x=\"251.865234\" xlink:href=\"#ArialMT-79\"/>\r\n      </g>\r\n     </g>\r\n    </g>\r\n    <g id=\"text_11\">\r\n     <!-- Countries -->\r\n     <g style=\"fill:#262626;\" transform=\"translate(195.591406 329.209387)scale(0.1 -0.1)\">\r\n      <use xlink:href=\"#ArialMT-43\"/>\r\n      <use x=\"72.216797\" xlink:href=\"#ArialMT-6f\"/>\r\n      <use x=\"127.832031\" xlink:href=\"#ArialMT-75\"/>\r\n      <use x=\"183.447266\" xlink:href=\"#ArialMT-6e\"/>\r\n      <use x=\"239.0625\" xlink:href=\"#ArialMT-74\"/>\r\n      <use x=\"266.845703\" xlink:href=\"#ArialMT-72\"/>\r\n      <use x=\"300.146484\" xlink:href=\"#ArialMT-69\"/>\r\n      <use x=\"322.363281\" xlink:href=\"#ArialMT-65\"/>\r\n      <use x=\"377.978516\" xlink:href=\"#ArialMT-73\"/>\r\n     </g>\r\n    </g>\r\n   </g>\r\n   <g id=\"matplotlib.axis_2\">\r\n    <g id=\"ytick_1\">\r\n     <g id=\"line2d_1\">\r\n      <path clip-path=\"url(#pef57e6b03c)\" d=\"M 49.589063 239.375625 \r\nL 384.389063 239.375625 \r\n\" style=\"fill:none;stroke:#cccccc;stroke-linecap:round;stroke-width:0.8;\"/>\r\n     </g>\r\n     <g id=\"text_12\">\r\n      <!-- 0 -->\r\n      <g style=\"fill:#262626;\" transform=\"translate(37.028125 242.954531)scale(0.1 -0.1)\">\r\n       <defs>\r\n        <path d=\"M 266 2259 \r\nQ 266 3072 433 3567 \r\nQ 600 4063 929 4331 \r\nQ 1259 4600 1759 4600 \r\nQ 2128 4600 2406 4451 \r\nQ 2684 4303 2865 4023 \r\nQ 3047 3744 3150 3342 \r\nQ 3253 2941 3253 2259 \r\nQ 3253 1453 3087 958 \r\nQ 2922 463 2592 192 \r\nQ 2263 -78 1759 -78 \r\nQ 1097 -78 719 397 \r\nQ 266 969 266 2259 \r\nz\r\nM 844 2259 \r\nQ 844 1131 1108 757 \r\nQ 1372 384 1759 384 \r\nQ 2147 384 2411 759 \r\nQ 2675 1134 2675 2259 \r\nQ 2675 3391 2411 3762 \r\nQ 2147 4134 1753 4134 \r\nQ 1366 4134 1134 3806 \r\nQ 844 3388 844 2259 \r\nz\r\n\" id=\"ArialMT-30\" transform=\"scale(0.015625)\"/>\r\n       </defs>\r\n       <use xlink:href=\"#ArialMT-30\"/>\r\n      </g>\r\n     </g>\r\n    </g>\r\n    <g id=\"ytick_2\">\r\n     <g id=\"line2d_2\">\r\n      <path clip-path=\"url(#pef57e6b03c)\" d=\"M 49.589063 205.438274 \r\nL 384.389063 205.438274 \r\n\" style=\"fill:none;stroke:#cccccc;stroke-linecap:round;stroke-width:0.8;\"/>\r\n     </g>\r\n     <g id=\"text_13\">\r\n      <!-- 500 -->\r\n      <g style=\"fill:#262626;\" transform=\"translate(25.90625 209.01718)scale(0.1 -0.1)\">\r\n       <defs>\r\n        <path d=\"M 266 1200 \r\nL 856 1250 \r\nQ 922 819 1161 601 \r\nQ 1400 384 1738 384 \r\nQ 2144 384 2425 690 \r\nQ 2706 997 2706 1503 \r\nQ 2706 1984 2436 2262 \r\nQ 2166 2541 1728 2541 \r\nQ 1456 2541 1237 2417 \r\nQ 1019 2294 894 2097 \r\nL 366 2166 \r\nL 809 4519 \r\nL 3088 4519 \r\nL 3088 3981 \r\nL 1259 3981 \r\nL 1013 2750 \r\nQ 1425 3038 1878 3038 \r\nQ 2478 3038 2890 2622 \r\nQ 3303 2206 3303 1553 \r\nQ 3303 931 2941 478 \r\nQ 2500 -78 1738 -78 \r\nQ 1113 -78 717 272 \r\nQ 322 622 266 1200 \r\nz\r\n\" id=\"ArialMT-35\" transform=\"scale(0.015625)\"/>\r\n       </defs>\r\n       <use xlink:href=\"#ArialMT-35\"/>\r\n       <use x=\"55.615234\" xlink:href=\"#ArialMT-30\"/>\r\n       <use x=\"111.230469\" xlink:href=\"#ArialMT-30\"/>\r\n      </g>\r\n     </g>\r\n    </g>\r\n    <g id=\"ytick_3\">\r\n     <g id=\"line2d_3\">\r\n      <path clip-path=\"url(#pef57e6b03c)\" d=\"M 49.589063 171.500923 \r\nL 384.389063 171.500923 \r\n\" style=\"fill:none;stroke:#cccccc;stroke-linecap:round;stroke-width:0.8;\"/>\r\n     </g>\r\n     <g id=\"text_14\">\r\n      <!-- 1000 -->\r\n      <g style=\"fill:#262626;\" transform=\"translate(20.345313 175.07983)scale(0.1 -0.1)\">\r\n       <defs>\r\n        <path d=\"M 2384 0 \r\nL 1822 0 \r\nL 1822 3584 \r\nQ 1619 3391 1289 3197 \r\nQ 959 3003 697 2906 \r\nL 697 3450 \r\nQ 1169 3672 1522 3987 \r\nQ 1875 4303 2022 4600 \r\nL 2384 4600 \r\nL 2384 0 \r\nz\r\n\" id=\"ArialMT-31\" transform=\"scale(0.015625)\"/>\r\n       </defs>\r\n       <use xlink:href=\"#ArialMT-31\"/>\r\n       <use x=\"55.615234\" xlink:href=\"#ArialMT-30\"/>\r\n       <use x=\"111.230469\" xlink:href=\"#ArialMT-30\"/>\r\n       <use x=\"166.845703\" xlink:href=\"#ArialMT-30\"/>\r\n      </g>\r\n     </g>\r\n    </g>\r\n    <g id=\"ytick_4\">\r\n     <g id=\"line2d_4\">\r\n      <path clip-path=\"url(#pef57e6b03c)\" d=\"M 49.589063 137.563573 \r\nL 384.389063 137.563573 \r\n\" style=\"fill:none;stroke:#cccccc;stroke-linecap:round;stroke-width:0.8;\"/>\r\n     </g>\r\n     <g id=\"text_15\">\r\n      <!-- 1500 -->\r\n      <g style=\"fill:#262626;\" transform=\"translate(20.345313 141.142479)scale(0.1 -0.1)\">\r\n       <use xlink:href=\"#ArialMT-31\"/>\r\n       <use x=\"55.615234\" xlink:href=\"#ArialMT-35\"/>\r\n       <use x=\"111.230469\" xlink:href=\"#ArialMT-30\"/>\r\n       <use x=\"166.845703\" xlink:href=\"#ArialMT-30\"/>\r\n      </g>\r\n     </g>\r\n    </g>\r\n    <g id=\"ytick_5\">\r\n     <g id=\"line2d_5\">\r\n      <path clip-path=\"url(#pef57e6b03c)\" d=\"M 49.589063 103.626222 \r\nL 384.389063 103.626222 \r\n\" style=\"fill:none;stroke:#cccccc;stroke-linecap:round;stroke-width:0.8;\"/>\r\n     </g>\r\n     <g id=\"text_16\">\r\n      <!-- 2000 -->\r\n      <g style=\"fill:#262626;\" transform=\"translate(20.345313 107.205128)scale(0.1 -0.1)\">\r\n       <defs>\r\n        <path d=\"M 3222 541 \r\nL 3222 0 \r\nL 194 0 \r\nQ 188 203 259 391 \r\nQ 375 700 629 1000 \r\nQ 884 1300 1366 1694 \r\nQ 2113 2306 2375 2664 \r\nQ 2638 3022 2638 3341 \r\nQ 2638 3675 2398 3904 \r\nQ 2159 4134 1775 4134 \r\nQ 1369 4134 1125 3890 \r\nQ 881 3647 878 3216 \r\nL 300 3275 \r\nQ 359 3922 746 4261 \r\nQ 1134 4600 1788 4600 \r\nQ 2447 4600 2831 4234 \r\nQ 3216 3869 3216 3328 \r\nQ 3216 3053 3103 2787 \r\nQ 2991 2522 2730 2228 \r\nQ 2469 1934 1863 1422 \r\nQ 1356 997 1212 845 \r\nQ 1069 694 975 541 \r\nL 3222 541 \r\nz\r\n\" id=\"ArialMT-32\" transform=\"scale(0.015625)\"/>\r\n       </defs>\r\n       <use xlink:href=\"#ArialMT-32\"/>\r\n       <use x=\"55.615234\" xlink:href=\"#ArialMT-30\"/>\r\n       <use x=\"111.230469\" xlink:href=\"#ArialMT-30\"/>\r\n       <use x=\"166.845703\" xlink:href=\"#ArialMT-30\"/>\r\n      </g>\r\n     </g>\r\n    </g>\r\n    <g id=\"ytick_6\">\r\n     <g id=\"line2d_6\">\r\n      <path clip-path=\"url(#pef57e6b03c)\" d=\"M 49.589063 69.688871 \r\nL 384.389063 69.688871 \r\n\" style=\"fill:none;stroke:#cccccc;stroke-linecap:round;stroke-width:0.8;\"/>\r\n     </g>\r\n     <g id=\"text_17\">\r\n      <!-- 2500 -->\r\n      <g style=\"fill:#262626;\" transform=\"translate(20.345313 73.267777)scale(0.1 -0.1)\">\r\n       <use xlink:href=\"#ArialMT-32\"/>\r\n       <use x=\"55.615234\" xlink:href=\"#ArialMT-35\"/>\r\n       <use x=\"111.230469\" xlink:href=\"#ArialMT-30\"/>\r\n       <use x=\"166.845703\" xlink:href=\"#ArialMT-30\"/>\r\n      </g>\r\n     </g>\r\n    </g>\r\n    <g id=\"ytick_7\">\r\n     <g id=\"line2d_7\">\r\n      <path clip-path=\"url(#pef57e6b03c)\" d=\"M 49.589063 35.75152 \r\nL 384.389063 35.75152 \r\n\" style=\"fill:none;stroke:#cccccc;stroke-linecap:round;stroke-width:0.8;\"/>\r\n     </g>\r\n     <g id=\"text_18\">\r\n      <!-- 3000 -->\r\n      <g style=\"fill:#262626;\" transform=\"translate(20.345313 39.330427)scale(0.1 -0.1)\">\r\n       <defs>\r\n        <path d=\"M 269 1209 \r\nL 831 1284 \r\nQ 928 806 1161 595 \r\nQ 1394 384 1728 384 \r\nQ 2125 384 2398 659 \r\nQ 2672 934 2672 1341 \r\nQ 2672 1728 2419 1979 \r\nQ 2166 2231 1775 2231 \r\nQ 1616 2231 1378 2169 \r\nL 1441 2663 \r\nQ 1497 2656 1531 2656 \r\nQ 1891 2656 2178 2843 \r\nQ 2466 3031 2466 3422 \r\nQ 2466 3731 2256 3934 \r\nQ 2047 4138 1716 4138 \r\nQ 1388 4138 1169 3931 \r\nQ 950 3725 888 3313 \r\nL 325 3413 \r\nQ 428 3978 793 4289 \r\nQ 1159 4600 1703 4600 \r\nQ 2078 4600 2393 4439 \r\nQ 2709 4278 2876 4000 \r\nQ 3044 3722 3044 3409 \r\nQ 3044 3113 2884 2869 \r\nQ 2725 2625 2413 2481 \r\nQ 2819 2388 3044 2092 \r\nQ 3269 1797 3269 1353 \r\nQ 3269 753 2831 336 \r\nQ 2394 -81 1725 -81 \r\nQ 1122 -81 723 278 \r\nQ 325 638 269 1209 \r\nz\r\n\" id=\"ArialMT-33\" transform=\"scale(0.015625)\"/>\r\n       </defs>\r\n       <use xlink:href=\"#ArialMT-33\"/>\r\n       <use x=\"55.615234\" xlink:href=\"#ArialMT-30\"/>\r\n       <use x=\"111.230469\" xlink:href=\"#ArialMT-30\"/>\r\n       <use x=\"166.845703\" xlink:href=\"#ArialMT-30\"/>\r\n      </g>\r\n     </g>\r\n    </g>\r\n    <g id=\"text_19\">\r\n     <!-- Number of Films -->\r\n     <g style=\"fill:#262626;\" transform=\"translate(14.357813 167.325938)rotate(-90)scale(0.1 -0.1)\">\r\n      <defs>\r\n       <path d=\"M 488 0 \r\nL 488 4581 \r\nL 1109 4581 \r\nL 3516 984 \r\nL 3516 4581 \r\nL 4097 4581 \r\nL 4097 0 \r\nL 3475 0 \r\nL 1069 3600 \r\nL 1069 0 \r\nL 488 0 \r\nz\r\n\" id=\"ArialMT-4e\" transform=\"scale(0.015625)\"/>\r\n       <path d=\"M 941 0 \r\nL 419 0 \r\nL 419 4581 \r\nL 981 4581 \r\nL 981 2947 \r\nQ 1338 3394 1891 3394 \r\nQ 2197 3394 2470 3270 \r\nQ 2744 3147 2920 2923 \r\nQ 3097 2700 3197 2384 \r\nQ 3297 2069 3297 1709 \r\nQ 3297 856 2875 390 \r\nQ 2453 -75 1863 -75 \r\nQ 1275 -75 941 416 \r\nL 941 0 \r\nz\r\nM 934 1684 \r\nQ 934 1088 1097 822 \r\nQ 1363 388 1816 388 \r\nQ 2184 388 2453 708 \r\nQ 2722 1028 2722 1663 \r\nQ 2722 2313 2464 2622 \r\nQ 2206 2931 1841 2931 \r\nQ 1472 2931 1203 2611 \r\nQ 934 2291 934 1684 \r\nz\r\n\" id=\"ArialMT-62\" transform=\"scale(0.015625)\"/>\r\n       <path d=\"M 556 0 \r\nL 556 2881 \r\nL 59 2881 \r\nL 59 3319 \r\nL 556 3319 \r\nL 556 3672 \r\nQ 556 4006 616 4169 \r\nQ 697 4388 901 4523 \r\nQ 1106 4659 1475 4659 \r\nQ 1713 4659 2000 4603 \r\nL 1916 4113 \r\nQ 1741 4144 1584 4144 \r\nQ 1328 4144 1222 4034 \r\nQ 1116 3925 1116 3625 \r\nL 1116 3319 \r\nL 1763 3319 \r\nL 1763 2881 \r\nL 1116 2881 \r\nL 1116 0 \r\nL 556 0 \r\nz\r\n\" id=\"ArialMT-66\" transform=\"scale(0.015625)\"/>\r\n       <path d=\"M 409 0 \r\nL 409 4581 \r\nL 972 4581 \r\nL 972 0 \r\nL 409 0 \r\nz\r\n\" id=\"ArialMT-6c\" transform=\"scale(0.015625)\"/>\r\n      </defs>\r\n      <use xlink:href=\"#ArialMT-4e\"/>\r\n      <use x=\"72.216797\" xlink:href=\"#ArialMT-75\"/>\r\n      <use x=\"127.832031\" xlink:href=\"#ArialMT-6d\"/>\r\n      <use x=\"211.132812\" xlink:href=\"#ArialMT-62\"/>\r\n      <use x=\"266.748047\" xlink:href=\"#ArialMT-65\"/>\r\n      <use x=\"322.363281\" xlink:href=\"#ArialMT-72\"/>\r\n      <use x=\"355.664062\" xlink:href=\"#ArialMT-20\"/>\r\n      <use x=\"383.447266\" xlink:href=\"#ArialMT-6f\"/>\r\n      <use x=\"439.0625\" xlink:href=\"#ArialMT-66\"/>\r\n      <use x=\"466.845703\" xlink:href=\"#ArialMT-20\"/>\r\n      <use x=\"494.628906\" xlink:href=\"#ArialMT-46\"/>\r\n      <use x=\"555.712891\" xlink:href=\"#ArialMT-69\"/>\r\n      <use x=\"577.929688\" xlink:href=\"#ArialMT-6c\"/>\r\n      <use x=\"600.146484\" xlink:href=\"#ArialMT-6d\"/>\r\n      <use x=\"683.447266\" xlink:href=\"#ArialMT-73\"/>\r\n     </g>\r\n    </g>\r\n   </g>\r\n   <g id=\"patch_3\">\r\n    <path clip-path=\"url(#pef57e6b03c)\" d=\"M 52.937063 239.375625 \r\nL 79.721063 239.375625 \r\nL 79.721063 32.289911 \r\nL 52.937063 32.289911 \r\nz\r\n\" style=\"fill:#176d9c;stroke:#ffffff;stroke-linejoin:miter;\"/>\r\n   </g>\r\n   <g id=\"patch_4\">\r\n    <path clip-path=\"url(#pef57e6b03c)\" d=\"M 86.417063 239.375625 \r\nL 113.201063 239.375625 \r\nL 113.201063 176.727276 \r\nL 86.417063 176.727276 \r\nz\r\n\" style=\"fill:#c38820;stroke:#ffffff;stroke-linejoin:miter;\"/>\r\n   </g>\r\n   <g id=\"patch_5\">\r\n    <path clip-path=\"url(#pef57e6b03c)\" d=\"M 119.897063 239.375625 \r\nL 146.681063 239.375625 \r\nL 146.681063 212.497243 \r\nL 119.897063 212.497243 \r\nz\r\n\" style=\"fill:#158b6a;stroke:#ffffff;stroke-linejoin:miter;\"/>\r\n   </g>\r\n   <g id=\"patch_6\">\r\n    <path clip-path=\"url(#pef57e6b03c)\" d=\"M 153.377063 239.375625 \r\nL 180.161063 239.375625 \r\nL 180.161063 224.171692 \r\nL 153.377063 224.171692 \r\nz\r\n\" style=\"fill:#ba611b;stroke:#ffffff;stroke-linejoin:miter;\"/>\r\n   </g>\r\n   <g id=\"patch_7\">\r\n    <path clip-path=\"url(#pef57e6b03c)\" d=\"M 186.857063 239.375625 \r\nL 213.641063 239.375625 \r\nL 213.641063 226.954555 \r\nL 186.857063 226.954555 \r\nz\r\n\" style=\"fill:#c282b5;stroke:#ffffff;stroke-linejoin:miter;\"/>\r\n   </g>\r\n   <g id=\"patch_8\">\r\n    <path clip-path=\"url(#pef57e6b03c)\" d=\"M 220.337063 239.375625 \r\nL 247.121062 239.375625 \r\nL 247.121062 227.361803 \r\nL 220.337063 227.361803 \r\nz\r\n\" style=\"fill:#bd926e;stroke:#ffffff;stroke-linejoin:miter;\"/>\r\n   </g>\r\n   <g id=\"patch_9\">\r\n    <path clip-path=\"url(#pef57e6b03c)\" d=\"M 253.817063 239.375625 \r\nL 280.601063 239.375625 \r\nL 280.601063 230.280415 \r\nL 253.817063 230.280415 \r\nz\r\n\" style=\"fill:#f2b8e0;stroke:#ffffff;stroke-linejoin:miter;\"/>\r\n   </g>\r\n   <g id=\"patch_10\">\r\n    <path clip-path=\"url(#pef57e6b03c)\" d=\"M 287.297063 239.375625 \r\nL 314.081063 239.375625 \r\nL 314.081063 231.570034 \r\nL 287.297063 231.570034 \r\nz\r\n\" style=\"fill:#949494;stroke:#ffffff;stroke-linejoin:miter;\"/>\r\n   </g>\r\n   <g id=\"patch_11\">\r\n    <path clip-path=\"url(#pef57e6b03c)\" d=\"M 320.777062 239.375625 \r\nL 347.561063 239.375625 \r\nL 347.561063 232.52028 \r\nL 320.777062 232.52028 \r\nz\r\n\" style=\"fill:#d5cd4a;stroke:#ffffff;stroke-linejoin:miter;\"/>\r\n   </g>\r\n   <g id=\"patch_12\">\r\n    <path clip-path=\"url(#pef57e6b03c)\" d=\"M 354.257063 239.375625 \r\nL 381.041063 239.375625 \r\nL 381.041063 232.588155 \r\nL 354.257063 232.588155 \r\nz\r\n\" style=\"fill:#68afd7;stroke:#ffffff;stroke-linejoin:miter;\"/>\r\n   </g>\r\n   <g id=\"line2d_8\">\r\n    <path clip-path=\"url(#pef57e6b03c)\" style=\"fill:none;stroke:#424242;stroke-linecap:round;stroke-width:2.7;\"/>\r\n   </g>\r\n   <g id=\"line2d_9\">\r\n    <path clip-path=\"url(#pef57e6b03c)\" style=\"fill:none;stroke:#424242;stroke-linecap:round;stroke-width:2.7;\"/>\r\n   </g>\r\n   <g id=\"line2d_10\">\r\n    <path clip-path=\"url(#pef57e6b03c)\" style=\"fill:none;stroke:#424242;stroke-linecap:round;stroke-width:2.7;\"/>\r\n   </g>\r\n   <g id=\"line2d_11\">\r\n    <path clip-path=\"url(#pef57e6b03c)\" style=\"fill:none;stroke:#424242;stroke-linecap:round;stroke-width:2.7;\"/>\r\n   </g>\r\n   <g id=\"line2d_12\">\r\n    <path clip-path=\"url(#pef57e6b03c)\" style=\"fill:none;stroke:#424242;stroke-linecap:round;stroke-width:2.7;\"/>\r\n   </g>\r\n   <g id=\"line2d_13\">\r\n    <path clip-path=\"url(#pef57e6b03c)\" style=\"fill:none;stroke:#424242;stroke-linecap:round;stroke-width:2.7;\"/>\r\n   </g>\r\n   <g id=\"line2d_14\">\r\n    <path clip-path=\"url(#pef57e6b03c)\" style=\"fill:none;stroke:#424242;stroke-linecap:round;stroke-width:2.7;\"/>\r\n   </g>\r\n   <g id=\"line2d_15\">\r\n    <path clip-path=\"url(#pef57e6b03c)\" style=\"fill:none;stroke:#424242;stroke-linecap:round;stroke-width:2.7;\"/>\r\n   </g>\r\n   <g id=\"line2d_16\">\r\n    <path clip-path=\"url(#pef57e6b03c)\" style=\"fill:none;stroke:#424242;stroke-linecap:round;stroke-width:2.7;\"/>\r\n   </g>\r\n   <g id=\"line2d_17\">\r\n    <path clip-path=\"url(#pef57e6b03c)\" style=\"fill:none;stroke:#424242;stroke-linecap:round;stroke-width:2.7;\"/>\r\n   </g>\r\n   <g id=\"patch_13\">\r\n    <path d=\"M 49.589063 239.375625 \r\nL 49.589063 21.935625 \r\n\" style=\"fill:none;stroke:#cccccc;stroke-linecap:square;stroke-linejoin:miter;stroke-width:0.8;\"/>\r\n   </g>\r\n   <g id=\"patch_14\">\r\n    <path d=\"M 384.389063 239.375625 \r\nL 384.389063 21.935625 \r\n\" style=\"fill:none;stroke:#cccccc;stroke-linecap:square;stroke-linejoin:miter;stroke-width:0.8;\"/>\r\n   </g>\r\n   <g id=\"patch_15\">\r\n    <path d=\"M 49.589063 239.375625 \r\nL 384.389063 239.375625 \r\n\" style=\"fill:none;stroke:#cccccc;stroke-linecap:square;stroke-linejoin:miter;stroke-width:0.8;\"/>\r\n   </g>\r\n   <g id=\"patch_16\">\r\n    <path d=\"M 49.589063 21.935625 \r\nL 384.389063 21.935625 \r\n\" style=\"fill:none;stroke:#cccccc;stroke-linecap:square;stroke-linejoin:miter;stroke-width:0.8;\"/>\r\n   </g>\r\n   <g id=\"text_20\">\r\n    <!-- Numer of Films per Country -->\r\n    <g style=\"fill:#262626;\" transform=\"translate(143.309063 15.935625)scale(0.12 -0.12)\">\r\n     <use xlink:href=\"#ArialMT-4e\"/>\r\n     <use x=\"72.216797\" xlink:href=\"#ArialMT-75\"/>\r\n     <use x=\"127.832031\" xlink:href=\"#ArialMT-6d\"/>\r\n     <use x=\"211.132812\" xlink:href=\"#ArialMT-65\"/>\r\n     <use x=\"266.748047\" xlink:href=\"#ArialMT-72\"/>\r\n     <use x=\"300.048828\" xlink:href=\"#ArialMT-20\"/>\r\n     <use x=\"327.832031\" xlink:href=\"#ArialMT-6f\"/>\r\n     <use x=\"383.447266\" xlink:href=\"#ArialMT-66\"/>\r\n     <use x=\"411.230469\" xlink:href=\"#ArialMT-20\"/>\r\n     <use x=\"439.013672\" xlink:href=\"#ArialMT-46\"/>\r\n     <use x=\"500.097656\" xlink:href=\"#ArialMT-69\"/>\r\n     <use x=\"522.314453\" xlink:href=\"#ArialMT-6c\"/>\r\n     <use x=\"544.53125\" xlink:href=\"#ArialMT-6d\"/>\r\n     <use x=\"627.832031\" xlink:href=\"#ArialMT-73\"/>\r\n     <use x=\"677.832031\" xlink:href=\"#ArialMT-20\"/>\r\n     <use x=\"705.615234\" xlink:href=\"#ArialMT-70\"/>\r\n     <use x=\"761.230469\" xlink:href=\"#ArialMT-65\"/>\r\n     <use x=\"816.845703\" xlink:href=\"#ArialMT-72\"/>\r\n     <use x=\"850.146484\" xlink:href=\"#ArialMT-20\"/>\r\n     <use x=\"877.929688\" xlink:href=\"#ArialMT-43\"/>\r\n     <use x=\"950.146484\" xlink:href=\"#ArialMT-6f\"/>\r\n     <use x=\"1005.761719\" xlink:href=\"#ArialMT-75\"/>\r\n     <use x=\"1061.376953\" xlink:href=\"#ArialMT-6e\"/>\r\n     <use x=\"1116.992188\" xlink:href=\"#ArialMT-74\"/>\r\n     <use x=\"1144.775391\" xlink:href=\"#ArialMT-72\"/>\r\n     <use x=\"1178.076172\" xlink:href=\"#ArialMT-79\"/>\r\n    </g>\r\n   </g>\r\n  </g>\r\n </g>\r\n <defs>\r\n  <clipPath id=\"pef57e6b03c\">\r\n   <rect height=\"217.44\" width=\"334.8\" x=\"49.589063\" y=\"21.935625\"/>\r\n  </clipPath>\r\n </defs>\r\n</svg>\r\n",
      "image/png": "[encoded data removed]"
     },
     "metadata": {}
    }
   ],
   "source": [
    "#10 top countries\n",
    "countries10=data.country.value_counts().iloc[0:10]\n",
    "\n",
    "cnt=sns.barplot(x=countries10.index,y=countries10.values,palette='colorblind')\n",
    "cnt.set(ylabel='Number of Films',xlabel='Countries')\n",
    "cnt.set_xticklabels(labels=countries10.index,rotation=80)\n",
    "plt.title('Numer of Films per Country')\n",
    "\n",
    "plt.show()\n"
   ]
  },
  {
   "source": [
    "United States definitly has more movies than every country in this platform. Maybe because Netflix is from that country.\n",
    "\n",
    "\n",
    "Now well be investigated the proportion of movies and tv shows that are from united states"
   ],
   "cell_type": "markdown",
   "metadata": {}
  },
  {
   "cell_type": "code",
   "execution_count": 10,
   "metadata": {
    "tags": []
   },
   "outputs": [
    {
     "output_type": "display_data",
     "data": {
      "text/plain": "<Figure size 1080x360 with 2 Axes>",
      "image/svg+xml": "<?xml version=\"1.0\" encoding=\"utf-8\" standalone=\"no\"?>\r\n<!DOCTYPE svg PUBLIC \"-//W3C//DTD SVG 1.1//EN\"\r\n  \"http://www.w3.org/Graphics/SVG/1.1/DTD/svg11.dtd\">\r\n<svg height=\"338.345312pt\" version=\"1.1\" viewBox=\"0 0 872.3 338.345312\" width=\"872.3pt\" xmlns=\"http://www.w3.org/2000/svg\" xmlns:xlink=\"http://www.w3.org/1999/xlink\">\r\n <metadata>\r\n  <rdf:RDF xmlns:cc=\"http://creativecommons.org/ns#\" xmlns:dc=\"http://purl.org/dc/elements/1.1/\" xmlns:rdf=\"http://www.w3.org/1999/02/22-rdf-syntax-ns#\">\r\n   <cc:Work>\r\n    <dc:type rdf:resource=\"http://purl.org/dc/dcmitype/StillImage\"/>\r\n    <dc:date>2021-07-05T18:51:27.261746</dc:date>\r\n    <dc:format>image/svg+xml</dc:format>\r\n    <dc:creator>\r\n     <cc:Agent>\r\n      <dc:title>Matplotlib v3.4.2, https://matplotlib.org/</dc:title>\r\n     </cc:Agent>\r\n    </dc:creator>\r\n   </cc:Work>\r\n  </rdf:RDF>\r\n </metadata>\r\n <defs>\r\n  <style type=\"text/css\">*{stroke-linecap:butt;stroke-linejoin:round;}</style>\r\n </defs>\r\n <g id=\"figure_1\">\r\n  <g id=\"patch_1\">\r\n   <path d=\"M 0 338.345312 \r\nL 872.3 338.345312 \r\nL 872.3 0 \r\nL 0 0 \r\nz\r\n\" style=\"fill:#ffffff;\"/>\r\n  </g>\r\n  <g id=\"axes_1\">\r\n   <g id=\"patch_2\">\r\n    <path d=\"M 28.1 315 \r\nL 408.554545 315 \r\nL 408.554545 43.2 \r\nL 28.1 43.2 \r\nz\r\n\" style=\"fill:#ffffff;\"/>\r\n   </g>\r\n   <g id=\"matplotlib.axis_1\">\r\n    <g id=\"xtick_1\">\r\n     <g id=\"text_1\">\r\n      <!-- Movie -->\r\n      <g style=\"fill:#262626;\" transform=\"translate(109.876918 329.157812)scale(0.1 -0.1)\">\r\n       <defs>\r\n        <path d=\"M 475 0 \r\nL 475 4581 \r\nL 1388 4581 \r\nL 2472 1338 \r\nQ 2622 884 2691 659 \r\nQ 2769 909 2934 1394 \r\nL 4031 4581 \r\nL 4847 4581 \r\nL 4847 0 \r\nL 4263 0 \r\nL 4263 3834 \r\nL 2931 0 \r\nL 2384 0 \r\nL 1059 3900 \r\nL 1059 0 \r\nL 475 0 \r\nz\r\n\" id=\"ArialMT-4d\" transform=\"scale(0.015625)\"/>\r\n        <path d=\"M 213 1659 \r\nQ 213 2581 725 3025 \r\nQ 1153 3394 1769 3394 \r\nQ 2453 3394 2887 2945 \r\nQ 3322 2497 3322 1706 \r\nQ 3322 1066 3130 698 \r\nQ 2938 331 2570 128 \r\nQ 2203 -75 1769 -75 \r\nQ 1072 -75 642 372 \r\nQ 213 819 213 1659 \r\nz\r\nM 791 1659 \r\nQ 791 1022 1069 705 \r\nQ 1347 388 1769 388 \r\nQ 2188 388 2466 706 \r\nQ 2744 1025 2744 1678 \r\nQ 2744 2294 2464 2611 \r\nQ 2184 2928 1769 2928 \r\nQ 1347 2928 1069 2612 \r\nQ 791 2297 791 1659 \r\nz\r\n\" id=\"ArialMT-6f\" transform=\"scale(0.015625)\"/>\r\n        <path d=\"M 1344 0 \r\nL 81 3319 \r\nL 675 3319 \r\nL 1388 1331 \r\nQ 1503 1009 1600 663 \r\nQ 1675 925 1809 1294 \r\nL 2547 3319 \r\nL 3125 3319 \r\nL 1869 0 \r\nL 1344 0 \r\nz\r\n\" id=\"ArialMT-76\" transform=\"scale(0.015625)\"/>\r\n        <path d=\"M 425 3934 \r\nL 425 4581 \r\nL 988 4581 \r\nL 988 3934 \r\nL 425 3934 \r\nz\r\nM 425 0 \r\nL 425 3319 \r\nL 988 3319 \r\nL 988 0 \r\nL 425 0 \r\nz\r\n\" id=\"ArialMT-69\" transform=\"scale(0.015625)\"/>\r\n        <path d=\"M 2694 1069 \r\nL 3275 997 \r\nQ 3138 488 2766 206 \r\nQ 2394 -75 1816 -75 \r\nQ 1088 -75 661 373 \r\nQ 234 822 234 1631 \r\nQ 234 2469 665 2931 \r\nQ 1097 3394 1784 3394 \r\nQ 2450 3394 2872 2941 \r\nQ 3294 2488 3294 1666 \r\nQ 3294 1616 3291 1516 \r\nL 816 1516 \r\nQ 847 969 1125 678 \r\nQ 1403 388 1819 388 \r\nQ 2128 388 2347 550 \r\nQ 2566 713 2694 1069 \r\nz\r\nM 847 1978 \r\nL 2700 1978 \r\nQ 2663 2397 2488 2606 \r\nQ 2219 2931 1791 2931 \r\nQ 1403 2931 1139 2672 \r\nQ 875 2413 847 1978 \r\nz\r\n\" id=\"ArialMT-65\" transform=\"scale(0.015625)\"/>\r\n       </defs>\r\n       <use xlink:href=\"#ArialMT-4d\"/>\r\n       <use x=\"83.300781\" xlink:href=\"#ArialMT-6f\"/>\r\n       <use x=\"138.916016\" xlink:href=\"#ArialMT-76\"/>\r\n       <use x=\"188.916016\" xlink:href=\"#ArialMT-69\"/>\r\n       <use x=\"211.132812\" xlink:href=\"#ArialMT-65\"/>\r\n      </g>\r\n     </g>\r\n    </g>\r\n    <g id=\"xtick_2\">\r\n     <g id=\"text_2\">\r\n      <!-- TV Show -->\r\n      <g style=\"fill:#262626;\" transform=\"translate(293.155753 329.157812)scale(0.1 -0.1)\">\r\n       <defs>\r\n        <path d=\"M 1659 0 \r\nL 1659 4041 \r\nL 150 4041 \r\nL 150 4581 \r\nL 3781 4581 \r\nL 3781 4041 \r\nL 2266 4041 \r\nL 2266 0 \r\nL 1659 0 \r\nz\r\n\" id=\"ArialMT-54\" transform=\"scale(0.015625)\"/>\r\n        <path d=\"M 1803 0 \r\nL 28 4581 \r\nL 684 4581 \r\nL 1875 1253 \r\nQ 2019 853 2116 503 \r\nQ 2222 878 2363 1253 \r\nL 3600 4581 \r\nL 4219 4581 \r\nL 2425 0 \r\nL 1803 0 \r\nz\r\n\" id=\"ArialMT-56\" transform=\"scale(0.015625)\"/>\r\n        <path id=\"ArialMT-20\" transform=\"scale(0.015625)\"/>\r\n        <path d=\"M 288 1472 \r\nL 859 1522 \r\nQ 900 1178 1048 958 \r\nQ 1197 738 1509 602 \r\nQ 1822 466 2213 466 \r\nQ 2559 466 2825 569 \r\nQ 3091 672 3220 851 \r\nQ 3350 1031 3350 1244 \r\nQ 3350 1459 3225 1620 \r\nQ 3100 1781 2813 1891 \r\nQ 2628 1963 1997 2114 \r\nQ 1366 2266 1113 2400 \r\nQ 784 2572 623 2826 \r\nQ 463 3081 463 3397 \r\nQ 463 3744 659 4045 \r\nQ 856 4347 1234 4503 \r\nQ 1613 4659 2075 4659 \r\nQ 2584 4659 2973 4495 \r\nQ 3363 4331 3572 4012 \r\nQ 3781 3694 3797 3291 \r\nL 3216 3247 \r\nQ 3169 3681 2898 3903 \r\nQ 2628 4125 2100 4125 \r\nQ 1550 4125 1298 3923 \r\nQ 1047 3722 1047 3438 \r\nQ 1047 3191 1225 3031 \r\nQ 1400 2872 2139 2705 \r\nQ 2878 2538 3153 2413 \r\nQ 3553 2228 3743 1945 \r\nQ 3934 1663 3934 1294 \r\nQ 3934 928 3725 604 \r\nQ 3516 281 3123 101 \r\nQ 2731 -78 2241 -78 \r\nQ 1619 -78 1198 103 \r\nQ 778 284 539 648 \r\nQ 300 1013 288 1472 \r\nz\r\n\" id=\"ArialMT-53\" transform=\"scale(0.015625)\"/>\r\n        <path d=\"M 422 0 \r\nL 422 4581 \r\nL 984 4581 \r\nL 984 2938 \r\nQ 1378 3394 1978 3394 \r\nQ 2347 3394 2619 3248 \r\nQ 2891 3103 3008 2847 \r\nQ 3125 2591 3125 2103 \r\nL 3125 0 \r\nL 2563 0 \r\nL 2563 2103 \r\nQ 2563 2525 2380 2717 \r\nQ 2197 2909 1863 2909 \r\nQ 1613 2909 1392 2779 \r\nQ 1172 2650 1078 2428 \r\nQ 984 2206 984 1816 \r\nL 984 0 \r\nL 422 0 \r\nz\r\n\" id=\"ArialMT-68\" transform=\"scale(0.015625)\"/>\r\n        <path d=\"M 1034 0 \r\nL 19 3319 \r\nL 600 3319 \r\nL 1128 1403 \r\nL 1325 691 \r\nQ 1338 744 1497 1375 \r\nL 2025 3319 \r\nL 2603 3319 \r\nL 3100 1394 \r\nL 3266 759 \r\nL 3456 1400 \r\nL 4025 3319 \r\nL 4572 3319 \r\nL 3534 0 \r\nL 2950 0 \r\nL 2422 1988 \r\nL 2294 2553 \r\nL 1622 0 \r\nL 1034 0 \r\nz\r\n\" id=\"ArialMT-77\" transform=\"scale(0.015625)\"/>\r\n       </defs>\r\n       <use xlink:href=\"#ArialMT-54\"/>\r\n       <use x=\"61.083984\" xlink:href=\"#ArialMT-56\"/>\r\n       <use x=\"127.783203\" xlink:href=\"#ArialMT-20\"/>\r\n       <use x=\"155.566406\" xlink:href=\"#ArialMT-53\"/>\r\n       <use x=\"222.265625\" xlink:href=\"#ArialMT-68\"/>\r\n       <use x=\"277.880859\" xlink:href=\"#ArialMT-6f\"/>\r\n       <use x=\"333.496094\" xlink:href=\"#ArialMT-77\"/>\r\n      </g>\r\n     </g>\r\n    </g>\r\n   </g>\r\n   <g id=\"matplotlib.axis_2\">\r\n    <g id=\"ytick_1\">\r\n     <g id=\"line2d_1\">\r\n      <path clip-path=\"url(#pef1ede5797)\" d=\"M 28.1 315 \r\nL 408.554545 315 \r\n\" style=\"fill:none;stroke:#cccccc;stroke-linecap:round;stroke-width:0.8;\"/>\r\n     </g>\r\n     <g id=\"text_3\">\r\n      <!-- 0.0 -->\r\n      <g style=\"fill:#262626;\" transform=\"translate(7.2 318.578906)scale(0.1 -0.1)\">\r\n       <defs>\r\n        <path d=\"M 266 2259 \r\nQ 266 3072 433 3567 \r\nQ 600 4063 929 4331 \r\nQ 1259 4600 1759 4600 \r\nQ 2128 4600 2406 4451 \r\nQ 2684 4303 2865 4023 \r\nQ 3047 3744 3150 3342 \r\nQ 3253 2941 3253 2259 \r\nQ 3253 1453 3087 958 \r\nQ 2922 463 2592 192 \r\nQ 2263 -78 1759 -78 \r\nQ 1097 -78 719 397 \r\nQ 266 969 266 2259 \r\nz\r\nM 844 2259 \r\nQ 844 1131 1108 757 \r\nQ 1372 384 1759 384 \r\nQ 2147 384 2411 759 \r\nQ 2675 1134 2675 2259 \r\nQ 2675 3391 2411 3762 \r\nQ 2147 4134 1753 4134 \r\nQ 1366 4134 1134 3806 \r\nQ 844 3388 844 2259 \r\nz\r\n\" id=\"ArialMT-30\" transform=\"scale(0.015625)\"/>\r\n        <path d=\"M 581 0 \r\nL 581 641 \r\nL 1222 641 \r\nL 1222 0 \r\nL 581 0 \r\nz\r\n\" id=\"ArialMT-2e\" transform=\"scale(0.015625)\"/>\r\n       </defs>\r\n       <use xlink:href=\"#ArialMT-30\"/>\r\n       <use x=\"55.615234\" xlink:href=\"#ArialMT-2e\"/>\r\n       <use x=\"83.398438\" xlink:href=\"#ArialMT-30\"/>\r\n      </g>\r\n     </g>\r\n    </g>\r\n    <g id=\"ytick_2\">\r\n     <g id=\"line2d_2\">\r\n      <path clip-path=\"url(#pef1ede5797)\" d=\"M 28.1 277.559196 \r\nL 408.554545 277.559196 \r\n\" style=\"fill:none;stroke:#cccccc;stroke-linecap:round;stroke-width:0.8;\"/>\r\n     </g>\r\n     <g id=\"text_4\">\r\n      <!-- 0.1 -->\r\n      <g style=\"fill:#262626;\" transform=\"translate(7.2 281.138102)scale(0.1 -0.1)\">\r\n       <defs>\r\n        <path d=\"M 2384 0 \r\nL 1822 0 \r\nL 1822 3584 \r\nQ 1619 3391 1289 3197 \r\nQ 959 3003 697 2906 \r\nL 697 3450 \r\nQ 1169 3672 1522 3987 \r\nQ 1875 4303 2022 4600 \r\nL 2384 4600 \r\nL 2384 0 \r\nz\r\n\" id=\"ArialMT-31\" transform=\"scale(0.015625)\"/>\r\n       </defs>\r\n       <use xlink:href=\"#ArialMT-30\"/>\r\n       <use x=\"55.615234\" xlink:href=\"#ArialMT-2e\"/>\r\n       <use x=\"83.398438\" xlink:href=\"#ArialMT-31\"/>\r\n      </g>\r\n     </g>\r\n    </g>\r\n    <g id=\"ytick_3\">\r\n     <g id=\"line2d_3\">\r\n      <path clip-path=\"url(#pef1ede5797)\" d=\"M 28.1 240.118392 \r\nL 408.554545 240.118392 \r\n\" style=\"fill:none;stroke:#cccccc;stroke-linecap:round;stroke-width:0.8;\"/>\r\n     </g>\r\n     <g id=\"text_5\">\r\n      <!-- 0.2 -->\r\n      <g style=\"fill:#262626;\" transform=\"translate(7.2 243.697298)scale(0.1 -0.1)\">\r\n       <defs>\r\n        <path d=\"M 3222 541 \r\nL 3222 0 \r\nL 194 0 \r\nQ 188 203 259 391 \r\nQ 375 700 629 1000 \r\nQ 884 1300 1366 1694 \r\nQ 2113 2306 2375 2664 \r\nQ 2638 3022 2638 3341 \r\nQ 2638 3675 2398 3904 \r\nQ 2159 4134 1775 4134 \r\nQ 1369 4134 1125 3890 \r\nQ 881 3647 878 3216 \r\nL 300 3275 \r\nQ 359 3922 746 4261 \r\nQ 1134 4600 1788 4600 \r\nQ 2447 4600 2831 4234 \r\nQ 3216 3869 3216 3328 \r\nQ 3216 3053 3103 2787 \r\nQ 2991 2522 2730 2228 \r\nQ 2469 1934 1863 1422 \r\nQ 1356 997 1212 845 \r\nQ 1069 694 975 541 \r\nL 3222 541 \r\nz\r\n\" id=\"ArialMT-32\" transform=\"scale(0.015625)\"/>\r\n       </defs>\r\n       <use xlink:href=\"#ArialMT-30\"/>\r\n       <use x=\"55.615234\" xlink:href=\"#ArialMT-2e\"/>\r\n       <use x=\"83.398438\" xlink:href=\"#ArialMT-32\"/>\r\n      </g>\r\n     </g>\r\n    </g>\r\n    <g id=\"ytick_4\">\r\n     <g id=\"line2d_4\">\r\n      <path clip-path=\"url(#pef1ede5797)\" d=\"M 28.1 202.677587 \r\nL 408.554545 202.677587 \r\n\" style=\"fill:none;stroke:#cccccc;stroke-linecap:round;stroke-width:0.8;\"/>\r\n     </g>\r\n     <g id=\"text_6\">\r\n      <!-- 0.3 -->\r\n      <g style=\"fill:#262626;\" transform=\"translate(7.2 206.256494)scale(0.1 -0.1)\">\r\n       <defs>\r\n        <path d=\"M 269 1209 \r\nL 831 1284 \r\nQ 928 806 1161 595 \r\nQ 1394 384 1728 384 \r\nQ 2125 384 2398 659 \r\nQ 2672 934 2672 1341 \r\nQ 2672 1728 2419 1979 \r\nQ 2166 2231 1775 2231 \r\nQ 1616 2231 1378 2169 \r\nL 1441 2663 \r\nQ 1497 2656 1531 2656 \r\nQ 1891 2656 2178 2843 \r\nQ 2466 3031 2466 3422 \r\nQ 2466 3731 2256 3934 \r\nQ 2047 4138 1716 4138 \r\nQ 1388 4138 1169 3931 \r\nQ 950 3725 888 3313 \r\nL 325 3413 \r\nQ 428 3978 793 4289 \r\nQ 1159 4600 1703 4600 \r\nQ 2078 4600 2393 4439 \r\nQ 2709 4278 2876 4000 \r\nQ 3044 3722 3044 3409 \r\nQ 3044 3113 2884 2869 \r\nQ 2725 2625 2413 2481 \r\nQ 2819 2388 3044 2092 \r\nQ 3269 1797 3269 1353 \r\nQ 3269 753 2831 336 \r\nQ 2394 -81 1725 -81 \r\nQ 1122 -81 723 278 \r\nQ 325 638 269 1209 \r\nz\r\n\" id=\"ArialMT-33\" transform=\"scale(0.015625)\"/>\r\n       </defs>\r\n       <use xlink:href=\"#ArialMT-30\"/>\r\n       <use x=\"55.615234\" xlink:href=\"#ArialMT-2e\"/>\r\n       <use x=\"83.398438\" xlink:href=\"#ArialMT-33\"/>\r\n      </g>\r\n     </g>\r\n    </g>\r\n    <g id=\"ytick_5\">\r\n     <g id=\"line2d_5\">\r\n      <path clip-path=\"url(#pef1ede5797)\" d=\"M 28.1 165.236783 \r\nL 408.554545 165.236783 \r\n\" style=\"fill:none;stroke:#cccccc;stroke-linecap:round;stroke-width:0.8;\"/>\r\n     </g>\r\n     <g id=\"text_7\">\r\n      <!-- 0.4 -->\r\n      <g style=\"fill:#262626;\" transform=\"translate(7.2 168.81569)scale(0.1 -0.1)\">\r\n       <defs>\r\n        <path d=\"M 2069 0 \r\nL 2069 1097 \r\nL 81 1097 \r\nL 81 1613 \r\nL 2172 4581 \r\nL 2631 4581 \r\nL 2631 1613 \r\nL 3250 1613 \r\nL 3250 1097 \r\nL 2631 1097 \r\nL 2631 0 \r\nL 2069 0 \r\nz\r\nM 2069 1613 \r\nL 2069 3678 \r\nL 634 1613 \r\nL 2069 1613 \r\nz\r\n\" id=\"ArialMT-34\" transform=\"scale(0.015625)\"/>\r\n       </defs>\r\n       <use xlink:href=\"#ArialMT-30\"/>\r\n       <use x=\"55.615234\" xlink:href=\"#ArialMT-2e\"/>\r\n       <use x=\"83.398438\" xlink:href=\"#ArialMT-34\"/>\r\n      </g>\r\n     </g>\r\n    </g>\r\n    <g id=\"ytick_6\">\r\n     <g id=\"line2d_6\">\r\n      <path clip-path=\"url(#pef1ede5797)\" d=\"M 28.1 127.795979 \r\nL 408.554545 127.795979 \r\n\" style=\"fill:none;stroke:#cccccc;stroke-linecap:round;stroke-width:0.8;\"/>\r\n     </g>\r\n     <g id=\"text_8\">\r\n      <!-- 0.5 -->\r\n      <g style=\"fill:#262626;\" transform=\"translate(7.2 131.374885)scale(0.1 -0.1)\">\r\n       <defs>\r\n        <path d=\"M 266 1200 \r\nL 856 1250 \r\nQ 922 819 1161 601 \r\nQ 1400 384 1738 384 \r\nQ 2144 384 2425 690 \r\nQ 2706 997 2706 1503 \r\nQ 2706 1984 2436 2262 \r\nQ 2166 2541 1728 2541 \r\nQ 1456 2541 1237 2417 \r\nQ 1019 2294 894 2097 \r\nL 366 2166 \r\nL 809 4519 \r\nL 3088 4519 \r\nL 3088 3981 \r\nL 1259 3981 \r\nL 1013 2750 \r\nQ 1425 3038 1878 3038 \r\nQ 2478 3038 2890 2622 \r\nQ 3303 2206 3303 1553 \r\nQ 3303 931 2941 478 \r\nQ 2500 -78 1738 -78 \r\nQ 1113 -78 717 272 \r\nQ 322 622 266 1200 \r\nz\r\n\" id=\"ArialMT-35\" transform=\"scale(0.015625)\"/>\r\n       </defs>\r\n       <use xlink:href=\"#ArialMT-30\"/>\r\n       <use x=\"55.615234\" xlink:href=\"#ArialMT-2e\"/>\r\n       <use x=\"83.398438\" xlink:href=\"#ArialMT-35\"/>\r\n      </g>\r\n     </g>\r\n    </g>\r\n    <g id=\"ytick_7\">\r\n     <g id=\"line2d_7\">\r\n      <path clip-path=\"url(#pef1ede5797)\" d=\"M 28.1 90.355175 \r\nL 408.554545 90.355175 \r\n\" style=\"fill:none;stroke:#cccccc;stroke-linecap:round;stroke-width:0.8;\"/>\r\n     </g>\r\n     <g id=\"text_9\">\r\n      <!-- 0.6 -->\r\n      <g style=\"fill:#262626;\" transform=\"translate(7.2 93.934081)scale(0.1 -0.1)\">\r\n       <defs>\r\n        <path d=\"M 3184 3459 \r\nL 2625 3416 \r\nQ 2550 3747 2413 3897 \r\nQ 2184 4138 1850 4138 \r\nQ 1581 4138 1378 3988 \r\nQ 1113 3794 959 3422 \r\nQ 806 3050 800 2363 \r\nQ 1003 2672 1297 2822 \r\nQ 1591 2972 1913 2972 \r\nQ 2475 2972 2870 2558 \r\nQ 3266 2144 3266 1488 \r\nQ 3266 1056 3080 686 \r\nQ 2894 316 2569 119 \r\nQ 2244 -78 1831 -78 \r\nQ 1128 -78 684 439 \r\nQ 241 956 241 2144 \r\nQ 241 3472 731 4075 \r\nQ 1159 4600 1884 4600 \r\nQ 2425 4600 2770 4297 \r\nQ 3116 3994 3184 3459 \r\nz\r\nM 888 1484 \r\nQ 888 1194 1011 928 \r\nQ 1134 663 1356 523 \r\nQ 1578 384 1822 384 \r\nQ 2178 384 2434 671 \r\nQ 2691 959 2691 1453 \r\nQ 2691 1928 2437 2201 \r\nQ 2184 2475 1800 2475 \r\nQ 1419 2475 1153 2201 \r\nQ 888 1928 888 1484 \r\nz\r\n\" id=\"ArialMT-36\" transform=\"scale(0.015625)\"/>\r\n       </defs>\r\n       <use xlink:href=\"#ArialMT-30\"/>\r\n       <use x=\"55.615234\" xlink:href=\"#ArialMT-2e\"/>\r\n       <use x=\"83.398438\" xlink:href=\"#ArialMT-36\"/>\r\n      </g>\r\n     </g>\r\n    </g>\r\n    <g id=\"ytick_8\">\r\n     <g id=\"line2d_8\">\r\n      <path clip-path=\"url(#pef1ede5797)\" d=\"M 28.1 52.914371 \r\nL 408.554545 52.914371 \r\n\" style=\"fill:none;stroke:#cccccc;stroke-linecap:round;stroke-width:0.8;\"/>\r\n     </g>\r\n     <g id=\"text_10\">\r\n      <!-- 0.7 -->\r\n      <g style=\"fill:#262626;\" transform=\"translate(7.2 56.493277)scale(0.1 -0.1)\">\r\n       <defs>\r\n        <path d=\"M 303 3981 \r\nL 303 4522 \r\nL 3269 4522 \r\nL 3269 4084 \r\nQ 2831 3619 2401 2847 \r\nQ 1972 2075 1738 1259 \r\nQ 1569 684 1522 0 \r\nL 944 0 \r\nQ 953 541 1156 1306 \r\nQ 1359 2072 1739 2783 \r\nQ 2119 3494 2547 3981 \r\nL 303 3981 \r\nz\r\n\" id=\"ArialMT-37\" transform=\"scale(0.015625)\"/>\r\n       </defs>\r\n       <use xlink:href=\"#ArialMT-30\"/>\r\n       <use x=\"55.615234\" xlink:href=\"#ArialMT-2e\"/>\r\n       <use x=\"83.398438\" xlink:href=\"#ArialMT-37\"/>\r\n      </g>\r\n     </g>\r\n    </g>\r\n   </g>\r\n   <g id=\"patch_3\">\r\n    <path clip-path=\"url(#pef1ede5797)\" d=\"M 47.122727 315 \r\nL 199.304545 315 \r\nL 199.304545 60.240546 \r\nL 47.122727 60.240546 \r\nz\r\n\" style=\"fill:#176d9c;stroke:#ffffff;stroke-linejoin:miter;\"/>\r\n   </g>\r\n   <g id=\"patch_4\">\r\n    <path clip-path=\"url(#pef1ede5797)\" d=\"M 237.35 315 \r\nL 389.531818 315 \r\nL 389.531818 195.351412 \r\nL 237.35 195.351412 \r\nz\r\n\" style=\"fill:#c38820;stroke:#ffffff;stroke-linejoin:miter;\"/>\r\n   </g>\r\n   <g id=\"line2d_9\">\r\n    <path clip-path=\"url(#pef1ede5797)\" style=\"fill:none;stroke:#424242;stroke-linecap:round;stroke-width:2.7;\"/>\r\n   </g>\r\n   <g id=\"line2d_10\">\r\n    <path clip-path=\"url(#pef1ede5797)\" style=\"fill:none;stroke:#424242;stroke-linecap:round;stroke-width:2.7;\"/>\r\n   </g>\r\n   <g id=\"patch_5\">\r\n    <path d=\"M 28.1 315 \r\nL 28.1 43.2 \r\n\" style=\"fill:none;stroke:#cccccc;stroke-linecap:square;stroke-linejoin:miter;stroke-width:0.8;\"/>\r\n   </g>\r\n   <g id=\"patch_6\">\r\n    <path d=\"M 408.554545 315 \r\nL 408.554545 43.2 \r\n\" style=\"fill:none;stroke:#cccccc;stroke-linecap:square;stroke-linejoin:miter;stroke-width:0.8;\"/>\r\n   </g>\r\n   <g id=\"patch_7\">\r\n    <path d=\"M 28.1 315 \r\nL 408.554545 315 \r\n\" style=\"fill:none;stroke:#cccccc;stroke-linecap:square;stroke-linejoin:miter;stroke-width:0.8;\"/>\r\n   </g>\r\n   <g id=\"patch_8\">\r\n    <path d=\"M 28.1 43.2 \r\nL 408.554545 43.2 \r\n\" style=\"fill:none;stroke:#cccccc;stroke-linecap:square;stroke-linejoin:miter;stroke-width:0.8;\"/>\r\n   </g>\r\n   <g id=\"text_11\">\r\n    <!-- USA Proportion -->\r\n    <g style=\"fill:#262626;\" transform=\"translate(176.972273 37.2)scale(0.12 -0.12)\">\r\n     <defs>\r\n      <path d=\"M 3500 4581 \r\nL 4106 4581 \r\nL 4106 1934 \r\nQ 4106 1244 3950 837 \r\nQ 3794 431 3386 176 \r\nQ 2978 -78 2316 -78 \r\nQ 1672 -78 1262 144 \r\nQ 853 366 678 786 \r\nQ 503 1206 503 1934 \r\nL 503 4581 \r\nL 1109 4581 \r\nL 1109 1938 \r\nQ 1109 1341 1220 1058 \r\nQ 1331 775 1601 622 \r\nQ 1872 469 2263 469 \r\nQ 2931 469 3215 772 \r\nQ 3500 1075 3500 1938 \r\nL 3500 4581 \r\nz\r\n\" id=\"ArialMT-55\" transform=\"scale(0.015625)\"/>\r\n      <path d=\"M -9 0 \r\nL 1750 4581 \r\nL 2403 4581 \r\nL 4278 0 \r\nL 3588 0 \r\nL 3053 1388 \r\nL 1138 1388 \r\nL 634 0 \r\nL -9 0 \r\nz\r\nM 1313 1881 \r\nL 2866 1881 \r\nL 2388 3150 \r\nQ 2169 3728 2063 4100 \r\nQ 1975 3659 1816 3225 \r\nL 1313 1881 \r\nz\r\n\" id=\"ArialMT-41\" transform=\"scale(0.015625)\"/>\r\n      <path d=\"M 494 0 \r\nL 494 4581 \r\nL 2222 4581 \r\nQ 2678 4581 2919 4538 \r\nQ 3256 4481 3484 4323 \r\nQ 3713 4166 3852 3881 \r\nQ 3991 3597 3991 3256 \r\nQ 3991 2672 3619 2267 \r\nQ 3247 1863 2275 1863 \r\nL 1100 1863 \r\nL 1100 0 \r\nL 494 0 \r\nz\r\nM 1100 2403 \r\nL 2284 2403 \r\nQ 2872 2403 3119 2622 \r\nQ 3366 2841 3366 3238 \r\nQ 3366 3525 3220 3729 \r\nQ 3075 3934 2838 4000 \r\nQ 2684 4041 2272 4041 \r\nL 1100 4041 \r\nL 1100 2403 \r\nz\r\n\" id=\"ArialMT-50\" transform=\"scale(0.015625)\"/>\r\n      <path d=\"M 416 0 \r\nL 416 3319 \r\nL 922 3319 \r\nL 922 2816 \r\nQ 1116 3169 1280 3281 \r\nQ 1444 3394 1641 3394 \r\nQ 1925 3394 2219 3213 \r\nL 2025 2691 \r\nQ 1819 2813 1613 2813 \r\nQ 1428 2813 1281 2702 \r\nQ 1134 2591 1072 2394 \r\nQ 978 2094 978 1738 \r\nL 978 0 \r\nL 416 0 \r\nz\r\n\" id=\"ArialMT-72\" transform=\"scale(0.015625)\"/>\r\n      <path d=\"M 422 -1272 \r\nL 422 3319 \r\nL 934 3319 \r\nL 934 2888 \r\nQ 1116 3141 1344 3267 \r\nQ 1572 3394 1897 3394 \r\nQ 2322 3394 2647 3175 \r\nQ 2972 2956 3137 2557 \r\nQ 3303 2159 3303 1684 \r\nQ 3303 1175 3120 767 \r\nQ 2938 359 2589 142 \r\nQ 2241 -75 1856 -75 \r\nQ 1575 -75 1351 44 \r\nQ 1128 163 984 344 \r\nL 984 -1272 \r\nL 422 -1272 \r\nz\r\nM 931 1641 \r\nQ 931 1000 1190 694 \r\nQ 1450 388 1819 388 \r\nQ 2194 388 2461 705 \r\nQ 2728 1022 2728 1688 \r\nQ 2728 2322 2467 2637 \r\nQ 2206 2953 1844 2953 \r\nQ 1484 2953 1207 2617 \r\nQ 931 2281 931 1641 \r\nz\r\n\" id=\"ArialMT-70\" transform=\"scale(0.015625)\"/>\r\n      <path d=\"M 1650 503 \r\nL 1731 6 \r\nQ 1494 -44 1306 -44 \r\nQ 1000 -44 831 53 \r\nQ 663 150 594 308 \r\nQ 525 466 525 972 \r\nL 525 2881 \r\nL 113 2881 \r\nL 113 3319 \r\nL 525 3319 \r\nL 525 4141 \r\nL 1084 4478 \r\nL 1084 3319 \r\nL 1650 3319 \r\nL 1650 2881 \r\nL 1084 2881 \r\nL 1084 941 \r\nQ 1084 700 1114 631 \r\nQ 1144 563 1211 522 \r\nQ 1278 481 1403 481 \r\nQ 1497 481 1650 503 \r\nz\r\n\" id=\"ArialMT-74\" transform=\"scale(0.015625)\"/>\r\n      <path d=\"M 422 0 \r\nL 422 3319 \r\nL 928 3319 \r\nL 928 2847 \r\nQ 1294 3394 1984 3394 \r\nQ 2284 3394 2536 3286 \r\nQ 2788 3178 2913 3003 \r\nQ 3038 2828 3088 2588 \r\nQ 3119 2431 3119 2041 \r\nL 3119 0 \r\nL 2556 0 \r\nL 2556 2019 \r\nQ 2556 2363 2490 2533 \r\nQ 2425 2703 2258 2804 \r\nQ 2091 2906 1866 2906 \r\nQ 1506 2906 1245 2678 \r\nQ 984 2450 984 1813 \r\nL 984 0 \r\nL 422 0 \r\nz\r\n\" id=\"ArialMT-6e\" transform=\"scale(0.015625)\"/>\r\n     </defs>\r\n     <use xlink:href=\"#ArialMT-55\"/>\r\n     <use x=\"72.216797\" xlink:href=\"#ArialMT-53\"/>\r\n     <use x=\"138.916016\" xlink:href=\"#ArialMT-41\"/>\r\n     <use x=\"200.115234\" xlink:href=\"#ArialMT-20\"/>\r\n     <use x=\"227.898438\" xlink:href=\"#ArialMT-50\"/>\r\n     <use x=\"294.597656\" xlink:href=\"#ArialMT-72\"/>\r\n     <use x=\"327.898438\" xlink:href=\"#ArialMT-6f\"/>\r\n     <use x=\"383.513672\" xlink:href=\"#ArialMT-70\"/>\r\n     <use x=\"439.128906\" xlink:href=\"#ArialMT-6f\"/>\r\n     <use x=\"494.744141\" xlink:href=\"#ArialMT-72\"/>\r\n     <use x=\"528.044922\" xlink:href=\"#ArialMT-74\"/>\r\n     <use x=\"555.828125\" xlink:href=\"#ArialMT-69\"/>\r\n     <use x=\"578.044922\" xlink:href=\"#ArialMT-6f\"/>\r\n     <use x=\"633.660156\" xlink:href=\"#ArialMT-6e\"/>\r\n    </g>\r\n   </g>\r\n  </g>\r\n  <g id=\"axes_2\">\r\n   <g id=\"patch_9\">\r\n    <path d=\"M 484.645455 315 \r\nL 865.1 315 \r\nL 865.1 43.2 \r\nL 484.645455 43.2 \r\nz\r\n\" style=\"fill:#ffffff;\"/>\r\n   </g>\r\n   <g id=\"matplotlib.axis_3\">\r\n    <g id=\"xtick_3\">\r\n     <g id=\"text_12\">\r\n      <!-- Movie -->\r\n      <g style=\"fill:#262626;\" transform=\"translate(566.422372 329.157812)scale(0.1 -0.1)\">\r\n       <use xlink:href=\"#ArialMT-4d\"/>\r\n       <use x=\"83.300781\" xlink:href=\"#ArialMT-6f\"/>\r\n       <use x=\"138.916016\" xlink:href=\"#ArialMT-76\"/>\r\n       <use x=\"188.916016\" xlink:href=\"#ArialMT-69\"/>\r\n       <use x=\"211.132812\" xlink:href=\"#ArialMT-65\"/>\r\n      </g>\r\n     </g>\r\n    </g>\r\n    <g id=\"xtick_4\">\r\n     <g id=\"text_13\">\r\n      <!-- TV Show -->\r\n      <g style=\"fill:#262626;\" transform=\"translate(749.701207 329.157812)scale(0.1 -0.1)\">\r\n       <use xlink:href=\"#ArialMT-54\"/>\r\n       <use x=\"61.083984\" xlink:href=\"#ArialMT-56\"/>\r\n       <use x=\"127.783203\" xlink:href=\"#ArialMT-20\"/>\r\n       <use x=\"155.566406\" xlink:href=\"#ArialMT-53\"/>\r\n       <use x=\"222.265625\" xlink:href=\"#ArialMT-68\"/>\r\n       <use x=\"277.880859\" xlink:href=\"#ArialMT-6f\"/>\r\n       <use x=\"333.496094\" xlink:href=\"#ArialMT-77\"/>\r\n      </g>\r\n     </g>\r\n    </g>\r\n   </g>\r\n   <g id=\"matplotlib.axis_4\">\r\n    <g id=\"ytick_9\">\r\n     <g id=\"line2d_11\">\r\n      <path clip-path=\"url(#pd8d1c25ad6)\" d=\"M 484.645455 315 \r\nL 865.1 315 \r\n\" style=\"fill:none;stroke:#cccccc;stroke-linecap:round;stroke-width:0.8;\"/>\r\n     </g>\r\n    </g>\r\n    <g id=\"ytick_10\">\r\n     <g id=\"line2d_12\">\r\n      <path clip-path=\"url(#pd8d1c25ad6)\" d=\"M 484.645455 277.559196 \r\nL 865.1 277.559196 \r\n\" style=\"fill:none;stroke:#cccccc;stroke-linecap:round;stroke-width:0.8;\"/>\r\n     </g>\r\n    </g>\r\n    <g id=\"ytick_11\">\r\n     <g id=\"line2d_13\">\r\n      <path clip-path=\"url(#pd8d1c25ad6)\" d=\"M 484.645455 240.118392 \r\nL 865.1 240.118392 \r\n\" style=\"fill:none;stroke:#cccccc;stroke-linecap:round;stroke-width:0.8;\"/>\r\n     </g>\r\n    </g>\r\n    <g id=\"ytick_12\">\r\n     <g id=\"line2d_14\">\r\n      <path clip-path=\"url(#pd8d1c25ad6)\" d=\"M 484.645455 202.677587 \r\nL 865.1 202.677587 \r\n\" style=\"fill:none;stroke:#cccccc;stroke-linecap:round;stroke-width:0.8;\"/>\r\n     </g>\r\n    </g>\r\n    <g id=\"ytick_13\">\r\n     <g id=\"line2d_15\">\r\n      <path clip-path=\"url(#pd8d1c25ad6)\" d=\"M 484.645455 165.236783 \r\nL 865.1 165.236783 \r\n\" style=\"fill:none;stroke:#cccccc;stroke-linecap:round;stroke-width:0.8;\"/>\r\n     </g>\r\n    </g>\r\n    <g id=\"ytick_14\">\r\n     <g id=\"line2d_16\">\r\n      <path clip-path=\"url(#pd8d1c25ad6)\" d=\"M 484.645455 127.795979 \r\nL 865.1 127.795979 \r\n\" style=\"fill:none;stroke:#cccccc;stroke-linecap:round;stroke-width:0.8;\"/>\r\n     </g>\r\n    </g>\r\n    <g id=\"ytick_15\">\r\n     <g id=\"line2d_17\">\r\n      <path clip-path=\"url(#pd8d1c25ad6)\" d=\"M 484.645455 90.355175 \r\nL 865.1 90.355175 \r\n\" style=\"fill:none;stroke:#cccccc;stroke-linecap:round;stroke-width:0.8;\"/>\r\n     </g>\r\n    </g>\r\n    <g id=\"ytick_16\">\r\n     <g id=\"line2d_18\">\r\n      <path clip-path=\"url(#pd8d1c25ad6)\" d=\"M 484.645455 52.914371 \r\nL 865.1 52.914371 \r\n\" style=\"fill:none;stroke:#cccccc;stroke-linecap:round;stroke-width:0.8;\"/>\r\n     </g>\r\n    </g>\r\n   </g>\r\n   <g id=\"patch_10\">\r\n    <path clip-path=\"url(#pd8d1c25ad6)\" d=\"M 503.668182 315 \r\nL 655.85 315 \r\nL 655.85 56.142857 \r\nL 503.668182 56.142857 \r\nz\r\n\" style=\"fill:#176d9c;stroke:#ffffff;stroke-linejoin:miter;\"/>\r\n   </g>\r\n   <g id=\"patch_11\">\r\n    <path clip-path=\"url(#pd8d1c25ad6)\" d=\"M 693.895455 315 \r\nL 846.077273 315 \r\nL 846.077273 199.449101 \r\nL 693.895455 199.449101 \r\nz\r\n\" style=\"fill:#c38820;stroke:#ffffff;stroke-linejoin:miter;\"/>\r\n   </g>\r\n   <g id=\"line2d_19\">\r\n    <path clip-path=\"url(#pd8d1c25ad6)\" style=\"fill:none;stroke:#424242;stroke-linecap:round;stroke-width:2.7;\"/>\r\n   </g>\r\n   <g id=\"line2d_20\">\r\n    <path clip-path=\"url(#pd8d1c25ad6)\" style=\"fill:none;stroke:#424242;stroke-linecap:round;stroke-width:2.7;\"/>\r\n   </g>\r\n   <g id=\"patch_12\">\r\n    <path d=\"M 484.645455 315 \r\nL 484.645455 43.2 \r\n\" style=\"fill:none;stroke:#cccccc;stroke-linecap:square;stroke-linejoin:miter;stroke-width:0.8;\"/>\r\n   </g>\r\n   <g id=\"patch_13\">\r\n    <path d=\"M 865.1 315 \r\nL 865.1 43.2 \r\n\" style=\"fill:none;stroke:#cccccc;stroke-linecap:square;stroke-linejoin:miter;stroke-width:0.8;\"/>\r\n   </g>\r\n   <g id=\"patch_14\">\r\n    <path d=\"M 484.645455 315 \r\nL 865.1 315 \r\n\" style=\"fill:none;stroke:#cccccc;stroke-linecap:square;stroke-linejoin:miter;stroke-width:0.8;\"/>\r\n   </g>\r\n   <g id=\"patch_15\">\r\n    <path d=\"M 484.645455 43.2 \r\nL 865.1 43.2 \r\n\" style=\"fill:none;stroke:#cccccc;stroke-linecap:square;stroke-linejoin:miter;stroke-width:0.8;\"/>\r\n   </g>\r\n   <g id=\"text_14\">\r\n    <!-- Netflix Proportion -->\r\n    <g style=\"fill:#262626;\" transform=\"translate(628.85554 37.2)scale(0.12 -0.12)\">\r\n     <defs>\r\n      <path d=\"M 488 0 \r\nL 488 4581 \r\nL 1109 4581 \r\nL 3516 984 \r\nL 3516 4581 \r\nL 4097 4581 \r\nL 4097 0 \r\nL 3475 0 \r\nL 1069 3600 \r\nL 1069 0 \r\nL 488 0 \r\nz\r\n\" id=\"ArialMT-4e\" transform=\"scale(0.015625)\"/>\r\n      <path d=\"M 556 0 \r\nL 556 2881 \r\nL 59 2881 \r\nL 59 3319 \r\nL 556 3319 \r\nL 556 3672 \r\nQ 556 4006 616 4169 \r\nQ 697 4388 901 4523 \r\nQ 1106 4659 1475 4659 \r\nQ 1713 4659 2000 4603 \r\nL 1916 4113 \r\nQ 1741 4144 1584 4144 \r\nQ 1328 4144 1222 4034 \r\nQ 1116 3925 1116 3625 \r\nL 1116 3319 \r\nL 1763 3319 \r\nL 1763 2881 \r\nL 1116 2881 \r\nL 1116 0 \r\nL 556 0 \r\nz\r\n\" id=\"ArialMT-66\" transform=\"scale(0.015625)\"/>\r\n      <path d=\"M 409 0 \r\nL 409 4581 \r\nL 972 4581 \r\nL 972 0 \r\nL 409 0 \r\nz\r\n\" id=\"ArialMT-6c\" transform=\"scale(0.015625)\"/>\r\n      <path d=\"M 47 0 \r\nL 1259 1725 \r\nL 138 3319 \r\nL 841 3319 \r\nL 1350 2541 \r\nQ 1494 2319 1581 2169 \r\nQ 1719 2375 1834 2534 \r\nL 2394 3319 \r\nL 3066 3319 \r\nL 1919 1756 \r\nL 3153 0 \r\nL 2463 0 \r\nL 1781 1031 \r\nL 1600 1309 \r\nL 728 0 \r\nL 47 0 \r\nz\r\n\" id=\"ArialMT-78\" transform=\"scale(0.015625)\"/>\r\n     </defs>\r\n     <use xlink:href=\"#ArialMT-4e\"/>\r\n     <use x=\"72.216797\" xlink:href=\"#ArialMT-65\"/>\r\n     <use x=\"127.832031\" xlink:href=\"#ArialMT-74\"/>\r\n     <use x=\"155.615234\" xlink:href=\"#ArialMT-66\"/>\r\n     <use x=\"183.398438\" xlink:href=\"#ArialMT-6c\"/>\r\n     <use x=\"205.615234\" xlink:href=\"#ArialMT-69\"/>\r\n     <use x=\"227.832031\" xlink:href=\"#ArialMT-78\"/>\r\n     <use x=\"277.832031\" xlink:href=\"#ArialMT-20\"/>\r\n     <use x=\"305.615234\" xlink:href=\"#ArialMT-50\"/>\r\n     <use x=\"372.314453\" xlink:href=\"#ArialMT-72\"/>\r\n     <use x=\"405.615234\" xlink:href=\"#ArialMT-6f\"/>\r\n     <use x=\"461.230469\" xlink:href=\"#ArialMT-70\"/>\r\n     <use x=\"516.845703\" xlink:href=\"#ArialMT-6f\"/>\r\n     <use x=\"572.460938\" xlink:href=\"#ArialMT-72\"/>\r\n     <use x=\"605.761719\" xlink:href=\"#ArialMT-74\"/>\r\n     <use x=\"633.544922\" xlink:href=\"#ArialMT-69\"/>\r\n     <use x=\"655.761719\" xlink:href=\"#ArialMT-6f\"/>\r\n     <use x=\"711.376953\" xlink:href=\"#ArialMT-6e\"/>\r\n    </g>\r\n   </g>\r\n  </g>\r\n  <g id=\"text_15\">\r\n   <!-- Netflix vs USA -->\r\n   <g style=\"fill:#262626;\" transform=\"translate(394.759063 15.789375)scale(0.12 -0.12)\">\r\n    <defs>\r\n     <path d=\"M 197 991 \r\nL 753 1078 \r\nQ 800 744 1014 566 \r\nQ 1228 388 1613 388 \r\nQ 2000 388 2187 545 \r\nQ 2375 703 2375 916 \r\nQ 2375 1106 2209 1216 \r\nQ 2094 1291 1634 1406 \r\nQ 1016 1563 777 1677 \r\nQ 538 1791 414 1992 \r\nQ 291 2194 291 2438 \r\nQ 291 2659 392 2848 \r\nQ 494 3038 669 3163 \r\nQ 800 3259 1026 3326 \r\nQ 1253 3394 1513 3394 \r\nQ 1903 3394 2198 3281 \r\nQ 2494 3169 2634 2976 \r\nQ 2775 2784 2828 2463 \r\nL 2278 2388 \r\nQ 2241 2644 2061 2787 \r\nQ 1881 2931 1553 2931 \r\nQ 1166 2931 1000 2803 \r\nQ 834 2675 834 2503 \r\nQ 834 2394 903 2306 \r\nQ 972 2216 1119 2156 \r\nQ 1203 2125 1616 2013 \r\nQ 2213 1853 2448 1751 \r\nQ 2684 1650 2818 1456 \r\nQ 2953 1263 2953 975 \r\nQ 2953 694 2789 445 \r\nQ 2625 197 2315 61 \r\nQ 2006 -75 1616 -75 \r\nQ 969 -75 630 194 \r\nQ 291 463 197 991 \r\nz\r\n\" id=\"ArialMT-73\" transform=\"scale(0.015625)\"/>\r\n    </defs>\r\n    <use xlink:href=\"#ArialMT-4e\"/>\r\n    <use x=\"72.216797\" xlink:href=\"#ArialMT-65\"/>\r\n    <use x=\"127.832031\" xlink:href=\"#ArialMT-74\"/>\r\n    <use x=\"155.615234\" xlink:href=\"#ArialMT-66\"/>\r\n    <use x=\"183.398438\" xlink:href=\"#ArialMT-6c\"/>\r\n    <use x=\"205.615234\" xlink:href=\"#ArialMT-69\"/>\r\n    <use x=\"227.832031\" xlink:href=\"#ArialMT-78\"/>\r\n    <use x=\"277.832031\" xlink:href=\"#ArialMT-20\"/>\r\n    <use x=\"305.615234\" xlink:href=\"#ArialMT-76\"/>\r\n    <use x=\"355.615234\" xlink:href=\"#ArialMT-73\"/>\r\n    <use x=\"405.615234\" xlink:href=\"#ArialMT-20\"/>\r\n    <use x=\"433.398438\" xlink:href=\"#ArialMT-55\"/>\r\n    <use x=\"505.615234\" xlink:href=\"#ArialMT-53\"/>\r\n    <use x=\"572.314453\" xlink:href=\"#ArialMT-41\"/>\r\n   </g>\r\n  </g>\r\n </g>\r\n <defs>\r\n  <clipPath id=\"pef1ede5797\">\r\n   <rect height=\"271.8\" width=\"380.454545\" x=\"28.1\" y=\"43.2\"/>\r\n  </clipPath>\r\n  <clipPath id=\"pd8d1c25ad6\">\r\n   <rect height=\"271.8\" width=\"380.454545\" x=\"484.645455\" y=\"43.2\"/>\r\n  </clipPath>\r\n </defs>\r\n</svg>\r\n",
      "image/png": "[encoded data removed]"
     },
     "metadata": {}
    }
   ],
   "source": [
    "usa=data[data['country']=='United States']\n",
    "usaT=usa.type.value_counts(normalize=True)\n",
    "netT=data.type.value_counts(normalize=True)\n",
    "\n",
    "fig, axes = plt.subplots(1, 2, figsize=(15, 5), sharey=True)\n",
    "fig.suptitle('Netflix vs USA')\n",
    "\n",
    "#USA proportion\n",
    "sns.barplot(ax=axes[0], x=usaT.index,y=usaT.values,palette='colorblind')\n",
    "axes[0].set_title('USA Proportion')\n",
    "\n",
    "#Netflix proportion\n",
    "sns.barplot(ax=axes[1], x=netT.index,y=netT.values,palette='colorblind')\n",
    "axes[1].set_title('Netflix Proportion')\n",
    "plt.show()\n"
   ]
  },
  {
   "source": [
    "As we can see, the proportion of netflix and USA are almost the same"
   ],
   "cell_type": "markdown",
   "metadata": {}
  },
  {
   "source": [
    "Now we´re going to investigate the quantity of films uploaded to the platform each year "
   ],
   "cell_type": "markdown",
   "metadata": {}
  },
  {
   "cell_type": "code",
   "execution_count": 11,
   "metadata": {},
   "outputs": [
    {
     "output_type": "display_data",
     "data": {
      "text/plain": "<Figure size 1296x504 with 1 Axes>",
      "image/svg+xml": "<?xml version=\"1.0\" encoding=\"utf-8\" standalone=\"no\"?>\r\n<!DOCTYPE svg PUBLIC \"-//W3C//DTD SVG 1.1//EN\"\r\n  \"http://www.w3.org/Graphics/SVG/1.1/DTD/svg11.dtd\">\r\n<svg height=\"440.672187pt\" version=\"1.1\" viewBox=\"0 0 1088.129375 440.672187\" width=\"1088.129375pt\" xmlns=\"http://www.w3.org/2000/svg\" xmlns:xlink=\"http://www.w3.org/1999/xlink\">\r\n <metadata>\r\n  <rdf:RDF xmlns:cc=\"http://creativecommons.org/ns#\" xmlns:dc=\"http://purl.org/dc/elements/1.1/\" xmlns:rdf=\"http://www.w3.org/1999/02/22-rdf-syntax-ns#\">\r\n   <cc:Work>\r\n    <dc:type rdf:resource=\"http://purl.org/dc/dcmitype/StillImage\"/>\r\n    <dc:date>2021-07-05T18:51:28.612331</dc:date>\r\n    <dc:format>image/svg+xml</dc:format>\r\n    <dc:creator>\r\n     <cc:Agent>\r\n      <dc:title>Matplotlib v3.4.2, https://matplotlib.org/</dc:title>\r\n     </cc:Agent>\r\n    </dc:creator>\r\n   </cc:Work>\r\n  </rdf:RDF>\r\n </metadata>\r\n <defs>\r\n  <style type=\"text/css\">*{stroke-linecap:butt;stroke-linejoin:round;}</style>\r\n </defs>\r\n <g id=\"figure_1\">\r\n  <g id=\"patch_1\">\r\n   <path d=\"M 0 440.672187 \r\nL 1088.129375 440.672187 \r\nL 1088.129375 0 \r\nL 0 0 \r\nz\r\n\" style=\"fill:#ffffff;\"/>\r\n  </g>\r\n  <g id=\"axes_1\">\r\n   <g id=\"patch_2\">\r\n    <path d=\"M 76.529375 387.72 \r\nL 1080.929375 387.72 \r\nL 1080.929375 7.2 \r\nL 76.529375 7.2 \r\nz\r\n\" style=\"fill:#ffffff;\"/>\r\n   </g>\r\n   <g id=\"matplotlib.axis_1\">\r\n    <g id=\"xtick_1\">\r\n     <g id=\"line2d_1\">\r\n      <path clip-path=\"url(#pf13b7ab325)\" d=\"M 122.18392 387.72 \r\nL 122.18392 7.2 \r\n\" style=\"fill:none;stroke:#cccccc;stroke-linecap:round;stroke-width:0.8;\"/>\r\n     </g>\r\n     <g id=\"text_1\">\r\n      <!-- 2008 -->\r\n      <g style=\"fill:#262626;\" transform=\"translate(102.164545 407.604062)scale(0.18 -0.18)\">\r\n       <defs>\r\n        <path d=\"M 3222 541 \r\nL 3222 0 \r\nL 194 0 \r\nQ 188 203 259 391 \r\nQ 375 700 629 1000 \r\nQ 884 1300 1366 1694 \r\nQ 2113 2306 2375 2664 \r\nQ 2638 3022 2638 3341 \r\nQ 2638 3675 2398 3904 \r\nQ 2159 4134 1775 4134 \r\nQ 1369 4134 1125 3890 \r\nQ 881 3647 878 3216 \r\nL 300 3275 \r\nQ 359 3922 746 4261 \r\nQ 1134 4600 1788 4600 \r\nQ 2447 4600 2831 4234 \r\nQ 3216 3869 3216 3328 \r\nQ 3216 3053 3103 2787 \r\nQ 2991 2522 2730 2228 \r\nQ 2469 1934 1863 1422 \r\nQ 1356 997 1212 845 \r\nQ 1069 694 975 541 \r\nL 3222 541 \r\nz\r\n\" id=\"ArialMT-32\" transform=\"scale(0.015625)\"/>\r\n        <path d=\"M 266 2259 \r\nQ 266 3072 433 3567 \r\nQ 600 4063 929 4331 \r\nQ 1259 4600 1759 4600 \r\nQ 2128 4600 2406 4451 \r\nQ 2684 4303 2865 4023 \r\nQ 3047 3744 3150 3342 \r\nQ 3253 2941 3253 2259 \r\nQ 3253 1453 3087 958 \r\nQ 2922 463 2592 192 \r\nQ 2263 -78 1759 -78 \r\nQ 1097 -78 719 397 \r\nQ 266 969 266 2259 \r\nz\r\nM 844 2259 \r\nQ 844 1131 1108 757 \r\nQ 1372 384 1759 384 \r\nQ 2147 384 2411 759 \r\nQ 2675 1134 2675 2259 \r\nQ 2675 3391 2411 3762 \r\nQ 2147 4134 1753 4134 \r\nQ 1366 4134 1134 3806 \r\nQ 844 3388 844 2259 \r\nz\r\n\" id=\"ArialMT-30\" transform=\"scale(0.015625)\"/>\r\n        <path d=\"M 1131 2484 \r\nQ 781 2613 612 2850 \r\nQ 444 3088 444 3419 \r\nQ 444 3919 803 4259 \r\nQ 1163 4600 1759 4600 \r\nQ 2359 4600 2725 4251 \r\nQ 3091 3903 3091 3403 \r\nQ 3091 3084 2923 2848 \r\nQ 2756 2613 2416 2484 \r\nQ 2838 2347 3058 2040 \r\nQ 3278 1734 3278 1309 \r\nQ 3278 722 2862 322 \r\nQ 2447 -78 1769 -78 \r\nQ 1091 -78 675 323 \r\nQ 259 725 259 1325 \r\nQ 259 1772 486 2073 \r\nQ 713 2375 1131 2484 \r\nz\r\nM 1019 3438 \r\nQ 1019 3113 1228 2906 \r\nQ 1438 2700 1772 2700 \r\nQ 2097 2700 2305 2904 \r\nQ 2513 3109 2513 3406 \r\nQ 2513 3716 2298 3927 \r\nQ 2084 4138 1766 4138 \r\nQ 1444 4138 1231 3931 \r\nQ 1019 3725 1019 3438 \r\nz\r\nM 838 1322 \r\nQ 838 1081 952 856 \r\nQ 1066 631 1291 507 \r\nQ 1516 384 1775 384 \r\nQ 2178 384 2440 643 \r\nQ 2703 903 2703 1303 \r\nQ 2703 1709 2433 1975 \r\nQ 2163 2241 1756 2241 \r\nQ 1359 2241 1098 1978 \r\nQ 838 1716 838 1322 \r\nz\r\n\" id=\"ArialMT-38\" transform=\"scale(0.015625)\"/>\r\n       </defs>\r\n       <use xlink:href=\"#ArialMT-32\"/>\r\n       <use x=\"55.615234\" xlink:href=\"#ArialMT-30\"/>\r\n       <use x=\"111.230469\" xlink:href=\"#ArialMT-30\"/>\r\n       <use x=\"166.845703\" xlink:href=\"#ArialMT-38\"/>\r\n      </g>\r\n     </g>\r\n    </g>\r\n    <g id=\"xtick_2\">\r\n     <g id=\"line2d_2\">\r\n      <path clip-path=\"url(#pf13b7ab325)\" d=\"M 274.365739 387.72 \r\nL 274.365739 7.2 \r\n\" style=\"fill:none;stroke:#cccccc;stroke-linecap:round;stroke-width:0.8;\"/>\r\n     </g>\r\n     <g id=\"text_2\">\r\n      <!-- 2010 -->\r\n      <g style=\"fill:#262626;\" transform=\"translate(254.346364 407.604062)scale(0.18 -0.18)\">\r\n       <defs>\r\n        <path d=\"M 2384 0 \r\nL 1822 0 \r\nL 1822 3584 \r\nQ 1619 3391 1289 3197 \r\nQ 959 3003 697 2906 \r\nL 697 3450 \r\nQ 1169 3672 1522 3987 \r\nQ 1875 4303 2022 4600 \r\nL 2384 4600 \r\nL 2384 0 \r\nz\r\n\" id=\"ArialMT-31\" transform=\"scale(0.015625)\"/>\r\n       </defs>\r\n       <use xlink:href=\"#ArialMT-32\"/>\r\n       <use x=\"55.615234\" xlink:href=\"#ArialMT-30\"/>\r\n       <use x=\"111.230469\" xlink:href=\"#ArialMT-31\"/>\r\n       <use x=\"166.845703\" xlink:href=\"#ArialMT-30\"/>\r\n      </g>\r\n     </g>\r\n    </g>\r\n    <g id=\"xtick_3\">\r\n     <g id=\"line2d_3\">\r\n      <path clip-path=\"url(#pf13b7ab325)\" d=\"M 426.547557 387.72 \r\nL 426.547557 7.2 \r\n\" style=\"fill:none;stroke:#cccccc;stroke-linecap:round;stroke-width:0.8;\"/>\r\n     </g>\r\n     <g id=\"text_3\">\r\n      <!-- 2012 -->\r\n      <g style=\"fill:#262626;\" transform=\"translate(406.528182 407.604062)scale(0.18 -0.18)\">\r\n       <use xlink:href=\"#ArialMT-32\"/>\r\n       <use x=\"55.615234\" xlink:href=\"#ArialMT-30\"/>\r\n       <use x=\"111.230469\" xlink:href=\"#ArialMT-31\"/>\r\n       <use x=\"166.845703\" xlink:href=\"#ArialMT-32\"/>\r\n      </g>\r\n     </g>\r\n    </g>\r\n    <g id=\"xtick_4\">\r\n     <g id=\"line2d_4\">\r\n      <path clip-path=\"url(#pf13b7ab325)\" d=\"M 578.729375 387.72 \r\nL 578.729375 7.2 \r\n\" style=\"fill:none;stroke:#cccccc;stroke-linecap:round;stroke-width:0.8;\"/>\r\n     </g>\r\n     <g id=\"text_4\">\r\n      <!-- 2014 -->\r\n      <g style=\"fill:#262626;\" transform=\"translate(558.71 407.604062)scale(0.18 -0.18)\">\r\n       <defs>\r\n        <path d=\"M 2069 0 \r\nL 2069 1097 \r\nL 81 1097 \r\nL 81 1613 \r\nL 2172 4581 \r\nL 2631 4581 \r\nL 2631 1613 \r\nL 3250 1613 \r\nL 3250 1097 \r\nL 2631 1097 \r\nL 2631 0 \r\nL 2069 0 \r\nz\r\nM 2069 1613 \r\nL 2069 3678 \r\nL 634 1613 \r\nL 2069 1613 \r\nz\r\n\" id=\"ArialMT-34\" transform=\"scale(0.015625)\"/>\r\n       </defs>\r\n       <use xlink:href=\"#ArialMT-32\"/>\r\n       <use x=\"55.615234\" xlink:href=\"#ArialMT-30\"/>\r\n       <use x=\"111.230469\" xlink:href=\"#ArialMT-31\"/>\r\n       <use x=\"166.845703\" xlink:href=\"#ArialMT-34\"/>\r\n      </g>\r\n     </g>\r\n    </g>\r\n    <g id=\"xtick_5\">\r\n     <g id=\"line2d_5\">\r\n      <path clip-path=\"url(#pf13b7ab325)\" d=\"M 730.911193 387.72 \r\nL 730.911193 7.2 \r\n\" style=\"fill:none;stroke:#cccccc;stroke-linecap:round;stroke-width:0.8;\"/>\r\n     </g>\r\n     <g id=\"text_5\">\r\n      <!-- 2016 -->\r\n      <g style=\"fill:#262626;\" transform=\"translate(710.891818 407.604062)scale(0.18 -0.18)\">\r\n       <defs>\r\n        <path d=\"M 3184 3459 \r\nL 2625 3416 \r\nQ 2550 3747 2413 3897 \r\nQ 2184 4138 1850 4138 \r\nQ 1581 4138 1378 3988 \r\nQ 1113 3794 959 3422 \r\nQ 806 3050 800 2363 \r\nQ 1003 2672 1297 2822 \r\nQ 1591 2972 1913 2972 \r\nQ 2475 2972 2870 2558 \r\nQ 3266 2144 3266 1488 \r\nQ 3266 1056 3080 686 \r\nQ 2894 316 2569 119 \r\nQ 2244 -78 1831 -78 \r\nQ 1128 -78 684 439 \r\nQ 241 956 241 2144 \r\nQ 241 3472 731 4075 \r\nQ 1159 4600 1884 4600 \r\nQ 2425 4600 2770 4297 \r\nQ 3116 3994 3184 3459 \r\nz\r\nM 888 1484 \r\nQ 888 1194 1011 928 \r\nQ 1134 663 1356 523 \r\nQ 1578 384 1822 384 \r\nQ 2178 384 2434 671 \r\nQ 2691 959 2691 1453 \r\nQ 2691 1928 2437 2201 \r\nQ 2184 2475 1800 2475 \r\nQ 1419 2475 1153 2201 \r\nQ 888 1928 888 1484 \r\nz\r\n\" id=\"ArialMT-36\" transform=\"scale(0.015625)\"/>\r\n       </defs>\r\n       <use xlink:href=\"#ArialMT-32\"/>\r\n       <use x=\"55.615234\" xlink:href=\"#ArialMT-30\"/>\r\n       <use x=\"111.230469\" xlink:href=\"#ArialMT-31\"/>\r\n       <use x=\"166.845703\" xlink:href=\"#ArialMT-36\"/>\r\n      </g>\r\n     </g>\r\n    </g>\r\n    <g id=\"xtick_6\">\r\n     <g id=\"line2d_6\">\r\n      <path clip-path=\"url(#pf13b7ab325)\" d=\"M 883.093011 387.72 \r\nL 883.093011 7.2 \r\n\" style=\"fill:none;stroke:#cccccc;stroke-linecap:round;stroke-width:0.8;\"/>\r\n     </g>\r\n     <g id=\"text_6\">\r\n      <!-- 2018 -->\r\n      <g style=\"fill:#262626;\" transform=\"translate(863.073636 407.604062)scale(0.18 -0.18)\">\r\n       <use xlink:href=\"#ArialMT-32\"/>\r\n       <use x=\"55.615234\" xlink:href=\"#ArialMT-30\"/>\r\n       <use x=\"111.230469\" xlink:href=\"#ArialMT-31\"/>\r\n       <use x=\"166.845703\" xlink:href=\"#ArialMT-38\"/>\r\n      </g>\r\n     </g>\r\n    </g>\r\n    <g id=\"xtick_7\">\r\n     <g id=\"line2d_7\">\r\n      <path clip-path=\"url(#pf13b7ab325)\" d=\"M 1035.27483 387.72 \r\nL 1035.27483 7.2 \r\n\" style=\"fill:none;stroke:#cccccc;stroke-linecap:round;stroke-width:0.8;\"/>\r\n     </g>\r\n     <g id=\"text_7\">\r\n      <!-- 2020 -->\r\n      <g style=\"fill:#262626;\" transform=\"translate(1015.255455 407.604062)scale(0.18 -0.18)\">\r\n       <use xlink:href=\"#ArialMT-32\"/>\r\n       <use x=\"55.615234\" xlink:href=\"#ArialMT-30\"/>\r\n       <use x=\"111.230469\" xlink:href=\"#ArialMT-32\"/>\r\n       <use x=\"166.845703\" xlink:href=\"#ArialMT-30\"/>\r\n      </g>\r\n     </g>\r\n    </g>\r\n    <g id=\"text_8\">\r\n     <!-- Year -->\r\n     <g style=\"fill:#262626;\" transform=\"translate(558.52 429.497187)scale(0.2 -0.2)\">\r\n      <defs>\r\n       <path d=\"M 1784 0 \r\nL 1784 1941 \r\nL 19 4581 \r\nL 756 4581 \r\nL 1659 3200 \r\nQ 1909 2813 2125 2425 \r\nQ 2331 2784 2625 3234 \r\nL 3513 4581 \r\nL 4219 4581 \r\nL 2391 1941 \r\nL 2391 0 \r\nL 1784 0 \r\nz\r\n\" id=\"ArialMT-59\" transform=\"scale(0.015625)\"/>\r\n       <path d=\"M 2694 1069 \r\nL 3275 997 \r\nQ 3138 488 2766 206 \r\nQ 2394 -75 1816 -75 \r\nQ 1088 -75 661 373 \r\nQ 234 822 234 1631 \r\nQ 234 2469 665 2931 \r\nQ 1097 3394 1784 3394 \r\nQ 2450 3394 2872 2941 \r\nQ 3294 2488 3294 1666 \r\nQ 3294 1616 3291 1516 \r\nL 816 1516 \r\nQ 847 969 1125 678 \r\nQ 1403 388 1819 388 \r\nQ 2128 388 2347 550 \r\nQ 2566 713 2694 1069 \r\nz\r\nM 847 1978 \r\nL 2700 1978 \r\nQ 2663 2397 2488 2606 \r\nQ 2219 2931 1791 2931 \r\nQ 1403 2931 1139 2672 \r\nQ 875 2413 847 1978 \r\nz\r\n\" id=\"ArialMT-65\" transform=\"scale(0.015625)\"/>\r\n       <path d=\"M 2588 409 \r\nQ 2275 144 1986 34 \r\nQ 1697 -75 1366 -75 \r\nQ 819 -75 525 192 \r\nQ 231 459 231 875 \r\nQ 231 1119 342 1320 \r\nQ 453 1522 633 1644 \r\nQ 813 1766 1038 1828 \r\nQ 1203 1872 1538 1913 \r\nQ 2219 1994 2541 2106 \r\nQ 2544 2222 2544 2253 \r\nQ 2544 2597 2384 2738 \r\nQ 2169 2928 1744 2928 \r\nQ 1347 2928 1158 2789 \r\nQ 969 2650 878 2297 \r\nL 328 2372 \r\nQ 403 2725 575 2942 \r\nQ 747 3159 1072 3276 \r\nQ 1397 3394 1825 3394 \r\nQ 2250 3394 2515 3294 \r\nQ 2781 3194 2906 3042 \r\nQ 3031 2891 3081 2659 \r\nQ 3109 2516 3109 2141 \r\nL 3109 1391 \r\nQ 3109 606 3145 398 \r\nQ 3181 191 3288 0 \r\nL 2700 0 \r\nQ 2613 175 2588 409 \r\nz\r\nM 2541 1666 \r\nQ 2234 1541 1622 1453 \r\nQ 1275 1403 1131 1340 \r\nQ 988 1278 909 1158 \r\nQ 831 1038 831 891 \r\nQ 831 666 1001 516 \r\nQ 1172 366 1500 366 \r\nQ 1825 366 2078 508 \r\nQ 2331 650 2450 897 \r\nQ 2541 1088 2541 1459 \r\nL 2541 1666 \r\nz\r\n\" id=\"ArialMT-61\" transform=\"scale(0.015625)\"/>\r\n       <path d=\"M 416 0 \r\nL 416 3319 \r\nL 922 3319 \r\nL 922 2816 \r\nQ 1116 3169 1280 3281 \r\nQ 1444 3394 1641 3394 \r\nQ 1925 3394 2219 3213 \r\nL 2025 2691 \r\nQ 1819 2813 1613 2813 \r\nQ 1428 2813 1281 2702 \r\nQ 1134 2591 1072 2394 \r\nQ 978 2094 978 1738 \r\nL 978 0 \r\nL 416 0 \r\nz\r\n\" id=\"ArialMT-72\" transform=\"scale(0.015625)\"/>\r\n      </defs>\r\n      <use xlink:href=\"#ArialMT-59\"/>\r\n      <use x=\"57.574219\" xlink:href=\"#ArialMT-65\"/>\r\n      <use x=\"113.189453\" xlink:href=\"#ArialMT-61\"/>\r\n      <use x=\"168.804688\" xlink:href=\"#ArialMT-72\"/>\r\n     </g>\r\n    </g>\r\n   </g>\r\n   <g id=\"matplotlib.axis_2\">\r\n    <g id=\"ytick_1\">\r\n     <g id=\"line2d_8\">\r\n      <path clip-path=\"url(#pf13b7ab325)\" d=\"M 76.529375 370.584383 \r\nL 1080.929375 370.584383 \r\n\" style=\"fill:none;stroke:#cccccc;stroke-linecap:round;stroke-width:0.8;\"/>\r\n     </g>\r\n     <g id=\"text_9\">\r\n      <!-- 0 -->\r\n      <g style=\"fill:#262626;\" transform=\"translate(59.519688 377.026414)scale(0.18 -0.18)\">\r\n       <use xlink:href=\"#ArialMT-30\"/>\r\n      </g>\r\n     </g>\r\n    </g>\r\n    <g id=\"ytick_2\">\r\n     <g id=\"line2d_9\">\r\n      <path clip-path=\"url(#pf13b7ab325)\" d=\"M 76.529375 290.210946 \r\nL 1080.929375 290.210946 \r\n\" style=\"fill:none;stroke:#cccccc;stroke-linecap:round;stroke-width:0.8;\"/>\r\n     </g>\r\n     <g id=\"text_10\">\r\n      <!-- 500 -->\r\n      <g style=\"fill:#262626;\" transform=\"translate(39.500313 296.652978)scale(0.18 -0.18)\">\r\n       <defs>\r\n        <path d=\"M 266 1200 \r\nL 856 1250 \r\nQ 922 819 1161 601 \r\nQ 1400 384 1738 384 \r\nQ 2144 384 2425 690 \r\nQ 2706 997 2706 1503 \r\nQ 2706 1984 2436 2262 \r\nQ 2166 2541 1728 2541 \r\nQ 1456 2541 1237 2417 \r\nQ 1019 2294 894 2097 \r\nL 366 2166 \r\nL 809 4519 \r\nL 3088 4519 \r\nL 3088 3981 \r\nL 1259 3981 \r\nL 1013 2750 \r\nQ 1425 3038 1878 3038 \r\nQ 2478 3038 2890 2622 \r\nQ 3303 2206 3303 1553 \r\nQ 3303 931 2941 478 \r\nQ 2500 -78 1738 -78 \r\nQ 1113 -78 717 272 \r\nQ 322 622 266 1200 \r\nz\r\n\" id=\"ArialMT-35\" transform=\"scale(0.015625)\"/>\r\n       </defs>\r\n       <use xlink:href=\"#ArialMT-35\"/>\r\n       <use x=\"55.615234\" xlink:href=\"#ArialMT-30\"/>\r\n       <use x=\"111.230469\" xlink:href=\"#ArialMT-30\"/>\r\n      </g>\r\n     </g>\r\n    </g>\r\n    <g id=\"ytick_3\">\r\n     <g id=\"line2d_10\">\r\n      <path clip-path=\"url(#pf13b7ab325)\" d=\"M 76.529375 209.837509 \r\nL 1080.929375 209.837509 \r\n\" style=\"fill:none;stroke:#cccccc;stroke-linecap:round;stroke-width:0.8;\"/>\r\n     </g>\r\n     <g id=\"text_11\">\r\n      <!-- 1000 -->\r\n      <g style=\"fill:#262626;\" transform=\"translate(29.490625 216.279541)scale(0.18 -0.18)\">\r\n       <use xlink:href=\"#ArialMT-31\"/>\r\n       <use x=\"55.615234\" xlink:href=\"#ArialMT-30\"/>\r\n       <use x=\"111.230469\" xlink:href=\"#ArialMT-30\"/>\r\n       <use x=\"166.845703\" xlink:href=\"#ArialMT-30\"/>\r\n      </g>\r\n     </g>\r\n    </g>\r\n    <g id=\"ytick_4\">\r\n     <g id=\"line2d_11\">\r\n      <path clip-path=\"url(#pf13b7ab325)\" d=\"M 76.529375 129.464072 \r\nL 1080.929375 129.464072 \r\n\" style=\"fill:none;stroke:#cccccc;stroke-linecap:round;stroke-width:0.8;\"/>\r\n     </g>\r\n     <g id=\"text_12\">\r\n      <!-- 1500 -->\r\n      <g style=\"fill:#262626;\" transform=\"translate(29.490625 135.906104)scale(0.18 -0.18)\">\r\n       <use xlink:href=\"#ArialMT-31\"/>\r\n       <use x=\"55.615234\" xlink:href=\"#ArialMT-35\"/>\r\n       <use x=\"111.230469\" xlink:href=\"#ArialMT-30\"/>\r\n       <use x=\"166.845703\" xlink:href=\"#ArialMT-30\"/>\r\n      </g>\r\n     </g>\r\n    </g>\r\n    <g id=\"ytick_5\">\r\n     <g id=\"line2d_12\">\r\n      <path clip-path=\"url(#pf13b7ab325)\" d=\"M 76.529375 49.090635 \r\nL 1080.929375 49.090635 \r\n\" style=\"fill:none;stroke:#cccccc;stroke-linecap:round;stroke-width:0.8;\"/>\r\n     </g>\r\n     <g id=\"text_13\">\r\n      <!-- 2000 -->\r\n      <g style=\"fill:#262626;\" transform=\"translate(29.490625 55.532667)scale(0.18 -0.18)\">\r\n       <use xlink:href=\"#ArialMT-32\"/>\r\n       <use x=\"55.615234\" xlink:href=\"#ArialMT-30\"/>\r\n       <use x=\"111.230469\" xlink:href=\"#ArialMT-30\"/>\r\n       <use x=\"166.845703\" xlink:href=\"#ArialMT-30\"/>\r\n      </g>\r\n     </g>\r\n    </g>\r\n    <g id=\"text_14\">\r\n     <!-- Number of Films -->\r\n     <g style=\"fill:#262626;\" transform=\"translate(21.515625 270.800625)rotate(-90)scale(0.2 -0.2)\">\r\n      <defs>\r\n       <path d=\"M 488 0 \r\nL 488 4581 \r\nL 1109 4581 \r\nL 3516 984 \r\nL 3516 4581 \r\nL 4097 4581 \r\nL 4097 0 \r\nL 3475 0 \r\nL 1069 3600 \r\nL 1069 0 \r\nL 488 0 \r\nz\r\n\" id=\"ArialMT-4e\" transform=\"scale(0.015625)\"/>\r\n       <path d=\"M 2597 0 \r\nL 2597 488 \r\nQ 2209 -75 1544 -75 \r\nQ 1250 -75 995 37 \r\nQ 741 150 617 320 \r\nQ 494 491 444 738 \r\nQ 409 903 409 1263 \r\nL 409 3319 \r\nL 972 3319 \r\nL 972 1478 \r\nQ 972 1038 1006 884 \r\nQ 1059 663 1231 536 \r\nQ 1403 409 1656 409 \r\nQ 1909 409 2131 539 \r\nQ 2353 669 2445 892 \r\nQ 2538 1116 2538 1541 \r\nL 2538 3319 \r\nL 3100 3319 \r\nL 3100 0 \r\nL 2597 0 \r\nz\r\n\" id=\"ArialMT-75\" transform=\"scale(0.015625)\"/>\r\n       <path d=\"M 422 0 \r\nL 422 3319 \r\nL 925 3319 \r\nL 925 2853 \r\nQ 1081 3097 1340 3245 \r\nQ 1600 3394 1931 3394 \r\nQ 2300 3394 2536 3241 \r\nQ 2772 3088 2869 2813 \r\nQ 3263 3394 3894 3394 \r\nQ 4388 3394 4653 3120 \r\nQ 4919 2847 4919 2278 \r\nL 4919 0 \r\nL 4359 0 \r\nL 4359 2091 \r\nQ 4359 2428 4304 2576 \r\nQ 4250 2725 4106 2815 \r\nQ 3963 2906 3769 2906 \r\nQ 3419 2906 3187 2673 \r\nQ 2956 2441 2956 1928 \r\nL 2956 0 \r\nL 2394 0 \r\nL 2394 2156 \r\nQ 2394 2531 2256 2718 \r\nQ 2119 2906 1806 2906 \r\nQ 1569 2906 1367 2781 \r\nQ 1166 2656 1075 2415 \r\nQ 984 2175 984 1722 \r\nL 984 0 \r\nL 422 0 \r\nz\r\n\" id=\"ArialMT-6d\" transform=\"scale(0.015625)\"/>\r\n       <path d=\"M 941 0 \r\nL 419 0 \r\nL 419 4581 \r\nL 981 4581 \r\nL 981 2947 \r\nQ 1338 3394 1891 3394 \r\nQ 2197 3394 2470 3270 \r\nQ 2744 3147 2920 2923 \r\nQ 3097 2700 3197 2384 \r\nQ 3297 2069 3297 1709 \r\nQ 3297 856 2875 390 \r\nQ 2453 -75 1863 -75 \r\nQ 1275 -75 941 416 \r\nL 941 0 \r\nz\r\nM 934 1684 \r\nQ 934 1088 1097 822 \r\nQ 1363 388 1816 388 \r\nQ 2184 388 2453 708 \r\nQ 2722 1028 2722 1663 \r\nQ 2722 2313 2464 2622 \r\nQ 2206 2931 1841 2931 \r\nQ 1472 2931 1203 2611 \r\nQ 934 2291 934 1684 \r\nz\r\n\" id=\"ArialMT-62\" transform=\"scale(0.015625)\"/>\r\n       <path id=\"ArialMT-20\" transform=\"scale(0.015625)\"/>\r\n       <path d=\"M 213 1659 \r\nQ 213 2581 725 3025 \r\nQ 1153 3394 1769 3394 \r\nQ 2453 3394 2887 2945 \r\nQ 3322 2497 3322 1706 \r\nQ 3322 1066 3130 698 \r\nQ 2938 331 2570 128 \r\nQ 2203 -75 1769 -75 \r\nQ 1072 -75 642 372 \r\nQ 213 819 213 1659 \r\nz\r\nM 791 1659 \r\nQ 791 1022 1069 705 \r\nQ 1347 388 1769 388 \r\nQ 2188 388 2466 706 \r\nQ 2744 1025 2744 1678 \r\nQ 2744 2294 2464 2611 \r\nQ 2184 2928 1769 2928 \r\nQ 1347 2928 1069 2612 \r\nQ 791 2297 791 1659 \r\nz\r\n\" id=\"ArialMT-6f\" transform=\"scale(0.015625)\"/>\r\n       <path d=\"M 556 0 \r\nL 556 2881 \r\nL 59 2881 \r\nL 59 3319 \r\nL 556 3319 \r\nL 556 3672 \r\nQ 556 4006 616 4169 \r\nQ 697 4388 901 4523 \r\nQ 1106 4659 1475 4659 \r\nQ 1713 4659 2000 4603 \r\nL 1916 4113 \r\nQ 1741 4144 1584 4144 \r\nQ 1328 4144 1222 4034 \r\nQ 1116 3925 1116 3625 \r\nL 1116 3319 \r\nL 1763 3319 \r\nL 1763 2881 \r\nL 1116 2881 \r\nL 1116 0 \r\nL 556 0 \r\nz\r\n\" id=\"ArialMT-66\" transform=\"scale(0.015625)\"/>\r\n       <path d=\"M 525 0 \r\nL 525 4581 \r\nL 3616 4581 \r\nL 3616 4041 \r\nL 1131 4041 \r\nL 1131 2622 \r\nL 3281 2622 \r\nL 3281 2081 \r\nL 1131 2081 \r\nL 1131 0 \r\nL 525 0 \r\nz\r\n\" id=\"ArialMT-46\" transform=\"scale(0.015625)\"/>\r\n       <path d=\"M 425 3934 \r\nL 425 4581 \r\nL 988 4581 \r\nL 988 3934 \r\nL 425 3934 \r\nz\r\nM 425 0 \r\nL 425 3319 \r\nL 988 3319 \r\nL 988 0 \r\nL 425 0 \r\nz\r\n\" id=\"ArialMT-69\" transform=\"scale(0.015625)\"/>\r\n       <path d=\"M 409 0 \r\nL 409 4581 \r\nL 972 4581 \r\nL 972 0 \r\nL 409 0 \r\nz\r\n\" id=\"ArialMT-6c\" transform=\"scale(0.015625)\"/>\r\n       <path d=\"M 197 991 \r\nL 753 1078 \r\nQ 800 744 1014 566 \r\nQ 1228 388 1613 388 \r\nQ 2000 388 2187 545 \r\nQ 2375 703 2375 916 \r\nQ 2375 1106 2209 1216 \r\nQ 2094 1291 1634 1406 \r\nQ 1016 1563 777 1677 \r\nQ 538 1791 414 1992 \r\nQ 291 2194 291 2438 \r\nQ 291 2659 392 2848 \r\nQ 494 3038 669 3163 \r\nQ 800 3259 1026 3326 \r\nQ 1253 3394 1513 3394 \r\nQ 1903 3394 2198 3281 \r\nQ 2494 3169 2634 2976 \r\nQ 2775 2784 2828 2463 \r\nL 2278 2388 \r\nQ 2241 2644 2061 2787 \r\nQ 1881 2931 1553 2931 \r\nQ 1166 2931 1000 2803 \r\nQ 834 2675 834 2503 \r\nQ 834 2394 903 2306 \r\nQ 972 2216 1119 2156 \r\nQ 1203 2125 1616 2013 \r\nQ 2213 1853 2448 1751 \r\nQ 2684 1650 2818 1456 \r\nQ 2953 1263 2953 975 \r\nQ 2953 694 2789 445 \r\nQ 2625 197 2315 61 \r\nQ 2006 -75 1616 -75 \r\nQ 969 -75 630 194 \r\nQ 291 463 197 991 \r\nz\r\n\" id=\"ArialMT-73\" transform=\"scale(0.015625)\"/>\r\n      </defs>\r\n      <use xlink:href=\"#ArialMT-4e\"/>\r\n      <use x=\"72.216797\" xlink:href=\"#ArialMT-75\"/>\r\n      <use x=\"127.832031\" xlink:href=\"#ArialMT-6d\"/>\r\n      <use x=\"211.132812\" xlink:href=\"#ArialMT-62\"/>\r\n      <use x=\"266.748047\" xlink:href=\"#ArialMT-65\"/>\r\n      <use x=\"322.363281\" xlink:href=\"#ArialMT-72\"/>\r\n      <use x=\"355.664062\" xlink:href=\"#ArialMT-20\"/>\r\n      <use x=\"383.447266\" xlink:href=\"#ArialMT-6f\"/>\r\n      <use x=\"439.0625\" xlink:href=\"#ArialMT-66\"/>\r\n      <use x=\"466.845703\" xlink:href=\"#ArialMT-20\"/>\r\n      <use x=\"494.628906\" xlink:href=\"#ArialMT-46\"/>\r\n      <use x=\"555.712891\" xlink:href=\"#ArialMT-69\"/>\r\n      <use x=\"577.929688\" xlink:href=\"#ArialMT-6c\"/>\r\n      <use x=\"600.146484\" xlink:href=\"#ArialMT-6d\"/>\r\n      <use x=\"683.447266\" xlink:href=\"#ArialMT-73\"/>\r\n     </g>\r\n    </g>\r\n   </g>\r\n   <g id=\"line2d_13\">\r\n    <path clip-path=\"url(#pf13b7ab325)\" d=\"M 122.18392 370.262889 \r\nL 198.27483 370.262889 \r\nL 274.365739 370.423636 \r\nL 350.456648 368.494674 \r\nL 426.547557 370.102143 \r\nL 502.638466 368.816168 \r\nL 578.729375 366.565711 \r\nL 654.820284 356.438658 \r\nL 730.911193 299.855759 \r\nL 807.002102 174.151703 \r\nL 883.093011 99.886648 \r\nL 959.18392 24.496364 \r\nL 1035.27483 47.643913 \r\n\" style=\"fill:none;stroke:#1f77b4;stroke-linecap:round;stroke-width:1.5;\"/>\r\n   </g>\r\n   <g id=\"patch_3\">\r\n    <path d=\"M 76.529375 387.72 \r\nL 76.529375 7.2 \r\n\" style=\"fill:none;stroke:#cccccc;stroke-linecap:square;stroke-linejoin:miter;stroke-width:0.8;\"/>\r\n   </g>\r\n   <g id=\"patch_4\">\r\n    <path d=\"M 1080.929375 387.72 \r\nL 1080.929375 7.2 \r\n\" style=\"fill:none;stroke:#cccccc;stroke-linecap:square;stroke-linejoin:miter;stroke-width:0.8;\"/>\r\n   </g>\r\n   <g id=\"patch_5\">\r\n    <path d=\"M 76.529375 387.72 \r\nL 1080.929375 387.72 \r\n\" style=\"fill:none;stroke:#cccccc;stroke-linecap:square;stroke-linejoin:miter;stroke-width:0.8;\"/>\r\n   </g>\r\n   <g id=\"patch_6\">\r\n    <path d=\"M 76.529375 7.2 \r\nL 1080.929375 7.2 \r\n\" style=\"fill:none;stroke:#cccccc;stroke-linecap:square;stroke-linejoin:miter;stroke-width:0.8;\"/>\r\n   </g>\r\n  </g>\r\n </g>\r\n <defs>\r\n  <clipPath id=\"pf13b7ab325\">\r\n   <rect height=\"380.52\" width=\"1004.4\" x=\"76.529375\" y=\"7.2\"/>\r\n  </clipPath>\r\n </defs>\r\n</svg>\r\n",
      "image/png": "[encoded data removed]"
     },
     "metadata": {}
    }
   ],
   "source": [
    "#convert to dataframe the sum of values for each year\n",
    "added=data.date_added.value_counts()\n",
    "added1=added.to_frame()\n",
    "added1.reset_index(inplace=True)\n",
    "added1.rename(columns={'index': 'year','date_added':'films'},inplace=True)\n",
    "#we have to delete the '2021' row because the year hasnt ended yet\n",
    "added1.drop([5],inplace=True)\n",
    "\n",
    "#plot the dataframe\n",
    "plt.figure(figsize=(18,7))\n",
    "added11=sns.lineplot(data=added1,x='year',y='films',palette='dark',markers=True)\n",
    "added11.set_xlabel('Year',fontsize=20)\n",
    "added11.set_ylabel('Number of Films',fontsize=20)\n",
    "added11.tick_params(axis='both', which='major', labelsize=18)\n",
    "plt.show()"
   ]
  },
  {
   "source": [
    "As we can see netflix led an exponential growth to add new films for the last 6 years until 2020 where the platform stopped uploading movies at the same exponential rate.\n",
    "\n",
    "we search for the most frequent decade in the netflix catalogue\n"
   ],
   "cell_type": "markdown",
   "metadata": {}
  },
  {
   "cell_type": "code",
   "execution_count": 12,
   "metadata": {},
   "outputs": [
    {
     "output_type": "execute_result",
     "data": {
      "text/plain": [
       "[]"
      ]
     },
     "metadata": {},
     "execution_count": 12
    },
    {
     "output_type": "display_data",
     "data": {
      "text/plain": "<Figure size 1296x504 with 1 Axes>",
      "image/svg+xml": "<?xml version=\"1.0\" encoding=\"utf-8\" standalone=\"no\"?>\r\n<!DOCTYPE svg PUBLIC \"-//W3C//DTD SVG 1.1//EN\"\r\n  \"http://www.w3.org/Graphics/SVG/1.1/DTD/svg11.dtd\">\r\n<svg height=\"440.672187pt\" version=\"1.1\" viewBox=\"0 0 1135.123437 440.672187\" width=\"1135.123437pt\" xmlns=\"http://www.w3.org/2000/svg\" xmlns:xlink=\"http://www.w3.org/1999/xlink\">\r\n <metadata>\r\n  <rdf:RDF xmlns:cc=\"http://creativecommons.org/ns#\" xmlns:dc=\"http://purl.org/dc/elements/1.1/\" xmlns:rdf=\"http://www.w3.org/1999/02/22-rdf-syntax-ns#\">\r\n   <cc:Work>\r\n    <dc:type rdf:resource=\"http://purl.org/dc/dcmitype/StillImage\"/>\r\n    <dc:date>2021-07-05T18:51:29.146503</dc:date>\r\n    <dc:format>image/svg+xml</dc:format>\r\n    <dc:creator>\r\n     <cc:Agent>\r\n      <dc:title>Matplotlib v3.4.2, https://matplotlib.org/</dc:title>\r\n     </cc:Agent>\r\n    </dc:creator>\r\n   </cc:Work>\r\n  </rdf:RDF>\r\n </metadata>\r\n <defs>\r\n  <style type=\"text/css\">*{stroke-linecap:butt;stroke-linejoin:round;}</style>\r\n </defs>\r\n <g id=\"figure_1\">\r\n  <g id=\"patch_1\">\r\n   <path d=\"M 0 440.672187 \r\nL 1135.123437 440.672187 \r\nL 1135.123437 0 \r\nL 0 0 \r\nz\r\n\" style=\"fill:#ffffff;\"/>\r\n  </g>\r\n  <g id=\"axes_1\">\r\n   <g id=\"patch_2\">\r\n    <path d=\"M 123.523438 387.72 \r\nL 1127.923438 387.72 \r\nL 1127.923438 7.2 \r\nL 123.523438 7.2 \r\nz\r\n\" style=\"fill:#ffffff;\"/>\r\n   </g>\r\n   <g id=\"matplotlib.axis_1\">\r\n    <g id=\"xtick_1\">\r\n     <g id=\"text_1\">\r\n      <!-- 0 -->\r\n      <g style=\"fill:#262626;\" transform=\"translate(118.518594 407.604062)scale(0.18 -0.18)\">\r\n       <defs>\r\n        <path d=\"M 266 2259 \r\nQ 266 3072 433 3567 \r\nQ 600 4063 929 4331 \r\nQ 1259 4600 1759 4600 \r\nQ 2128 4600 2406 4451 \r\nQ 2684 4303 2865 4023 \r\nQ 3047 3744 3150 3342 \r\nQ 3253 2941 3253 2259 \r\nQ 3253 1453 3087 958 \r\nQ 2922 463 2592 192 \r\nQ 2263 -78 1759 -78 \r\nQ 1097 -78 719 397 \r\nQ 266 969 266 2259 \r\nz\r\nM 844 2259 \r\nQ 844 1131 1108 757 \r\nQ 1372 384 1759 384 \r\nQ 2147 384 2411 759 \r\nQ 2675 1134 2675 2259 \r\nQ 2675 3391 2411 3762 \r\nQ 2147 4134 1753 4134 \r\nQ 1366 4134 1134 3806 \r\nQ 844 3388 844 2259 \r\nz\r\n\" id=\"ArialMT-30\" transform=\"scale(0.015625)\"/>\r\n       </defs>\r\n       <use xlink:href=\"#ArialMT-30\"/>\r\n      </g>\r\n     </g>\r\n    </g>\r\n    <g id=\"xtick_2\">\r\n     <g id=\"text_2\">\r\n      <!-- 200 -->\r\n      <g style=\"fill:#262626;\" transform=\"translate(328.91707 407.604062)scale(0.18 -0.18)\">\r\n       <defs>\r\n        <path d=\"M 3222 541 \r\nL 3222 0 \r\nL 194 0 \r\nQ 188 203 259 391 \r\nQ 375 700 629 1000 \r\nQ 884 1300 1366 1694 \r\nQ 2113 2306 2375 2664 \r\nQ 2638 3022 2638 3341 \r\nQ 2638 3675 2398 3904 \r\nQ 2159 4134 1775 4134 \r\nQ 1369 4134 1125 3890 \r\nQ 881 3647 878 3216 \r\nL 300 3275 \r\nQ 359 3922 746 4261 \r\nQ 1134 4600 1788 4600 \r\nQ 2447 4600 2831 4234 \r\nQ 3216 3869 3216 3328 \r\nQ 3216 3053 3103 2787 \r\nQ 2991 2522 2730 2228 \r\nQ 2469 1934 1863 1422 \r\nQ 1356 997 1212 845 \r\nQ 1069 694 975 541 \r\nL 3222 541 \r\nz\r\n\" id=\"ArialMT-32\" transform=\"scale(0.015625)\"/>\r\n       </defs>\r\n       <use xlink:href=\"#ArialMT-32\"/>\r\n       <use x=\"55.615234\" xlink:href=\"#ArialMT-30\"/>\r\n       <use x=\"111.230469\" xlink:href=\"#ArialMT-30\"/>\r\n      </g>\r\n     </g>\r\n    </g>\r\n    <g id=\"xtick_3\">\r\n     <g id=\"text_3\">\r\n      <!-- 400 -->\r\n      <g style=\"fill:#262626;\" transform=\"translate(549.325233 407.604062)scale(0.18 -0.18)\">\r\n       <defs>\r\n        <path d=\"M 2069 0 \r\nL 2069 1097 \r\nL 81 1097 \r\nL 81 1613 \r\nL 2172 4581 \r\nL 2631 4581 \r\nL 2631 1613 \r\nL 3250 1613 \r\nL 3250 1097 \r\nL 2631 1097 \r\nL 2631 0 \r\nL 2069 0 \r\nz\r\nM 2069 1613 \r\nL 2069 3678 \r\nL 634 1613 \r\nL 2069 1613 \r\nz\r\n\" id=\"ArialMT-34\" transform=\"scale(0.015625)\"/>\r\n       </defs>\r\n       <use xlink:href=\"#ArialMT-34\"/>\r\n       <use x=\"55.615234\" xlink:href=\"#ArialMT-30\"/>\r\n       <use x=\"111.230469\" xlink:href=\"#ArialMT-30\"/>\r\n      </g>\r\n     </g>\r\n    </g>\r\n    <g id=\"xtick_4\">\r\n     <g id=\"text_4\">\r\n      <!-- 600 -->\r\n      <g style=\"fill:#262626;\" transform=\"translate(769.733396 407.604062)scale(0.18 -0.18)\">\r\n       <defs>\r\n        <path d=\"M 3184 3459 \r\nL 2625 3416 \r\nQ 2550 3747 2413 3897 \r\nQ 2184 4138 1850 4138 \r\nQ 1581 4138 1378 3988 \r\nQ 1113 3794 959 3422 \r\nQ 806 3050 800 2363 \r\nQ 1003 2672 1297 2822 \r\nQ 1591 2972 1913 2972 \r\nQ 2475 2972 2870 2558 \r\nQ 3266 2144 3266 1488 \r\nQ 3266 1056 3080 686 \r\nQ 2894 316 2569 119 \r\nQ 2244 -78 1831 -78 \r\nQ 1128 -78 684 439 \r\nQ 241 956 241 2144 \r\nQ 241 3472 731 4075 \r\nQ 1159 4600 1884 4600 \r\nQ 2425 4600 2770 4297 \r\nQ 3116 3994 3184 3459 \r\nz\r\nM 888 1484 \r\nQ 888 1194 1011 928 \r\nQ 1134 663 1356 523 \r\nQ 1578 384 1822 384 \r\nQ 2178 384 2434 671 \r\nQ 2691 959 2691 1453 \r\nQ 2691 1928 2437 2201 \r\nQ 2184 2475 1800 2475 \r\nQ 1419 2475 1153 2201 \r\nQ 888 1928 888 1484 \r\nz\r\n\" id=\"ArialMT-36\" transform=\"scale(0.015625)\"/>\r\n       </defs>\r\n       <use xlink:href=\"#ArialMT-36\"/>\r\n       <use x=\"55.615234\" xlink:href=\"#ArialMT-30\"/>\r\n       <use x=\"111.230469\" xlink:href=\"#ArialMT-30\"/>\r\n      </g>\r\n     </g>\r\n    </g>\r\n    <g id=\"xtick_5\">\r\n     <g id=\"text_5\">\r\n      <!-- 800 -->\r\n      <g style=\"fill:#262626;\" transform=\"translate(990.141559 407.604062)scale(0.18 -0.18)\">\r\n       <defs>\r\n        <path d=\"M 1131 2484 \r\nQ 781 2613 612 2850 \r\nQ 444 3088 444 3419 \r\nQ 444 3919 803 4259 \r\nQ 1163 4600 1759 4600 \r\nQ 2359 4600 2725 4251 \r\nQ 3091 3903 3091 3403 \r\nQ 3091 3084 2923 2848 \r\nQ 2756 2613 2416 2484 \r\nQ 2838 2347 3058 2040 \r\nQ 3278 1734 3278 1309 \r\nQ 3278 722 2862 322 \r\nQ 2447 -78 1769 -78 \r\nQ 1091 -78 675 323 \r\nQ 259 725 259 1325 \r\nQ 259 1772 486 2073 \r\nQ 713 2375 1131 2484 \r\nz\r\nM 1019 3438 \r\nQ 1019 3113 1228 2906 \r\nQ 1438 2700 1772 2700 \r\nQ 2097 2700 2305 2904 \r\nQ 2513 3109 2513 3406 \r\nQ 2513 3716 2298 3927 \r\nQ 2084 4138 1766 4138 \r\nQ 1444 4138 1231 3931 \r\nQ 1019 3725 1019 3438 \r\nz\r\nM 838 1322 \r\nQ 838 1081 952 856 \r\nQ 1066 631 1291 507 \r\nQ 1516 384 1775 384 \r\nQ 2178 384 2440 643 \r\nQ 2703 903 2703 1303 \r\nQ 2703 1709 2433 1975 \r\nQ 2163 2241 1756 2241 \r\nQ 1359 2241 1098 1978 \r\nQ 838 1716 838 1322 \r\nz\r\n\" id=\"ArialMT-38\" transform=\"scale(0.015625)\"/>\r\n       </defs>\r\n       <use xlink:href=\"#ArialMT-38\"/>\r\n       <use x=\"55.615234\" xlink:href=\"#ArialMT-30\"/>\r\n       <use x=\"111.230469\" xlink:href=\"#ArialMT-30\"/>\r\n      </g>\r\n     </g>\r\n    </g>\r\n    <g id=\"text_6\">\r\n     <!-- Total Films -->\r\n     <g style=\"fill:#262626;\" transform=\"translate(577.946875 429.497187)scale(0.2 -0.2)\">\r\n      <defs>\r\n       <path d=\"M 1659 0 \r\nL 1659 4041 \r\nL 150 4041 \r\nL 150 4581 \r\nL 3781 4581 \r\nL 3781 4041 \r\nL 2266 4041 \r\nL 2266 0 \r\nL 1659 0 \r\nz\r\n\" id=\"ArialMT-54\" transform=\"scale(0.015625)\"/>\r\n       <path d=\"M 213 1659 \r\nQ 213 2581 725 3025 \r\nQ 1153 3394 1769 3394 \r\nQ 2453 3394 2887 2945 \r\nQ 3322 2497 3322 1706 \r\nQ 3322 1066 3130 698 \r\nQ 2938 331 2570 128 \r\nQ 2203 -75 1769 -75 \r\nQ 1072 -75 642 372 \r\nQ 213 819 213 1659 \r\nz\r\nM 791 1659 \r\nQ 791 1022 1069 705 \r\nQ 1347 388 1769 388 \r\nQ 2188 388 2466 706 \r\nQ 2744 1025 2744 1678 \r\nQ 2744 2294 2464 2611 \r\nQ 2184 2928 1769 2928 \r\nQ 1347 2928 1069 2612 \r\nQ 791 2297 791 1659 \r\nz\r\n\" id=\"ArialMT-6f\" transform=\"scale(0.015625)\"/>\r\n       <path d=\"M 1650 503 \r\nL 1731 6 \r\nQ 1494 -44 1306 -44 \r\nQ 1000 -44 831 53 \r\nQ 663 150 594 308 \r\nQ 525 466 525 972 \r\nL 525 2881 \r\nL 113 2881 \r\nL 113 3319 \r\nL 525 3319 \r\nL 525 4141 \r\nL 1084 4478 \r\nL 1084 3319 \r\nL 1650 3319 \r\nL 1650 2881 \r\nL 1084 2881 \r\nL 1084 941 \r\nQ 1084 700 1114 631 \r\nQ 1144 563 1211 522 \r\nQ 1278 481 1403 481 \r\nQ 1497 481 1650 503 \r\nz\r\n\" id=\"ArialMT-74\" transform=\"scale(0.015625)\"/>\r\n       <path d=\"M 2588 409 \r\nQ 2275 144 1986 34 \r\nQ 1697 -75 1366 -75 \r\nQ 819 -75 525 192 \r\nQ 231 459 231 875 \r\nQ 231 1119 342 1320 \r\nQ 453 1522 633 1644 \r\nQ 813 1766 1038 1828 \r\nQ 1203 1872 1538 1913 \r\nQ 2219 1994 2541 2106 \r\nQ 2544 2222 2544 2253 \r\nQ 2544 2597 2384 2738 \r\nQ 2169 2928 1744 2928 \r\nQ 1347 2928 1158 2789 \r\nQ 969 2650 878 2297 \r\nL 328 2372 \r\nQ 403 2725 575 2942 \r\nQ 747 3159 1072 3276 \r\nQ 1397 3394 1825 3394 \r\nQ 2250 3394 2515 3294 \r\nQ 2781 3194 2906 3042 \r\nQ 3031 2891 3081 2659 \r\nQ 3109 2516 3109 2141 \r\nL 3109 1391 \r\nQ 3109 606 3145 398 \r\nQ 3181 191 3288 0 \r\nL 2700 0 \r\nQ 2613 175 2588 409 \r\nz\r\nM 2541 1666 \r\nQ 2234 1541 1622 1453 \r\nQ 1275 1403 1131 1340 \r\nQ 988 1278 909 1158 \r\nQ 831 1038 831 891 \r\nQ 831 666 1001 516 \r\nQ 1172 366 1500 366 \r\nQ 1825 366 2078 508 \r\nQ 2331 650 2450 897 \r\nQ 2541 1088 2541 1459 \r\nL 2541 1666 \r\nz\r\n\" id=\"ArialMT-61\" transform=\"scale(0.015625)\"/>\r\n       <path d=\"M 409 0 \r\nL 409 4581 \r\nL 972 4581 \r\nL 972 0 \r\nL 409 0 \r\nz\r\n\" id=\"ArialMT-6c\" transform=\"scale(0.015625)\"/>\r\n       <path id=\"ArialMT-20\" transform=\"scale(0.015625)\"/>\r\n       <path d=\"M 525 0 \r\nL 525 4581 \r\nL 3616 4581 \r\nL 3616 4041 \r\nL 1131 4041 \r\nL 1131 2622 \r\nL 3281 2622 \r\nL 3281 2081 \r\nL 1131 2081 \r\nL 1131 0 \r\nL 525 0 \r\nz\r\n\" id=\"ArialMT-46\" transform=\"scale(0.015625)\"/>\r\n       <path d=\"M 425 3934 \r\nL 425 4581 \r\nL 988 4581 \r\nL 988 3934 \r\nL 425 3934 \r\nz\r\nM 425 0 \r\nL 425 3319 \r\nL 988 3319 \r\nL 988 0 \r\nL 425 0 \r\nz\r\n\" id=\"ArialMT-69\" transform=\"scale(0.015625)\"/>\r\n       <path d=\"M 422 0 \r\nL 422 3319 \r\nL 925 3319 \r\nL 925 2853 \r\nQ 1081 3097 1340 3245 \r\nQ 1600 3394 1931 3394 \r\nQ 2300 3394 2536 3241 \r\nQ 2772 3088 2869 2813 \r\nQ 3263 3394 3894 3394 \r\nQ 4388 3394 4653 3120 \r\nQ 4919 2847 4919 2278 \r\nL 4919 0 \r\nL 4359 0 \r\nL 4359 2091 \r\nQ 4359 2428 4304 2576 \r\nQ 4250 2725 4106 2815 \r\nQ 3963 2906 3769 2906 \r\nQ 3419 2906 3187 2673 \r\nQ 2956 2441 2956 1928 \r\nL 2956 0 \r\nL 2394 0 \r\nL 2394 2156 \r\nQ 2394 2531 2256 2718 \r\nQ 2119 2906 1806 2906 \r\nQ 1569 2906 1367 2781 \r\nQ 1166 2656 1075 2415 \r\nQ 984 2175 984 1722 \r\nL 984 0 \r\nL 422 0 \r\nz\r\n\" id=\"ArialMT-6d\" transform=\"scale(0.015625)\"/>\r\n       <path d=\"M 197 991 \r\nL 753 1078 \r\nQ 800 744 1014 566 \r\nQ 1228 388 1613 388 \r\nQ 2000 388 2187 545 \r\nQ 2375 703 2375 916 \r\nQ 2375 1106 2209 1216 \r\nQ 2094 1291 1634 1406 \r\nQ 1016 1563 777 1677 \r\nQ 538 1791 414 1992 \r\nQ 291 2194 291 2438 \r\nQ 291 2659 392 2848 \r\nQ 494 3038 669 3163 \r\nQ 800 3259 1026 3326 \r\nQ 1253 3394 1513 3394 \r\nQ 1903 3394 2198 3281 \r\nQ 2494 3169 2634 2976 \r\nQ 2775 2784 2828 2463 \r\nL 2278 2388 \r\nQ 2241 2644 2061 2787 \r\nQ 1881 2931 1553 2931 \r\nQ 1166 2931 1000 2803 \r\nQ 834 2675 834 2503 \r\nQ 834 2394 903 2306 \r\nQ 972 2216 1119 2156 \r\nQ 1203 2125 1616 2013 \r\nQ 2213 1853 2448 1751 \r\nQ 2684 1650 2818 1456 \r\nQ 2953 1263 2953 975 \r\nQ 2953 694 2789 445 \r\nQ 2625 197 2315 61 \r\nQ 2006 -75 1616 -75 \r\nQ 969 -75 630 194 \r\nQ 291 463 197 991 \r\nz\r\n\" id=\"ArialMT-73\" transform=\"scale(0.015625)\"/>\r\n      </defs>\r\n      <use xlink:href=\"#ArialMT-54\"/>\r\n      <use x=\"49.958984\" xlink:href=\"#ArialMT-6f\"/>\r\n      <use x=\"105.574219\" xlink:href=\"#ArialMT-74\"/>\r\n      <use x=\"133.357422\" xlink:href=\"#ArialMT-61\"/>\r\n      <use x=\"188.972656\" xlink:href=\"#ArialMT-6c\"/>\r\n      <use x=\"211.189453\" xlink:href=\"#ArialMT-20\"/>\r\n      <use x=\"238.972656\" xlink:href=\"#ArialMT-46\"/>\r\n      <use x=\"300.056641\" xlink:href=\"#ArialMT-69\"/>\r\n      <use x=\"322.273438\" xlink:href=\"#ArialMT-6c\"/>\r\n      <use x=\"344.490234\" xlink:href=\"#ArialMT-6d\"/>\r\n      <use x=\"427.791016\" xlink:href=\"#ArialMT-73\"/>\r\n     </g>\r\n    </g>\r\n   </g>\r\n   <g id=\"matplotlib.axis_2\">\r\n    <g id=\"ytick_1\">\r\n     <g id=\"text_7\">\r\n      <!-- 30s or less -->\r\n      <g style=\"fill:#262626;\" transform=\"translate(29.490625 46.662362)scale(0.18 -0.18)\">\r\n       <defs>\r\n        <path d=\"M 269 1209 \r\nL 831 1284 \r\nQ 928 806 1161 595 \r\nQ 1394 384 1728 384 \r\nQ 2125 384 2398 659 \r\nQ 2672 934 2672 1341 \r\nQ 2672 1728 2419 1979 \r\nQ 2166 2231 1775 2231 \r\nQ 1616 2231 1378 2169 \r\nL 1441 2663 \r\nQ 1497 2656 1531 2656 \r\nQ 1891 2656 2178 2843 \r\nQ 2466 3031 2466 3422 \r\nQ 2466 3731 2256 3934 \r\nQ 2047 4138 1716 4138 \r\nQ 1388 4138 1169 3931 \r\nQ 950 3725 888 3313 \r\nL 325 3413 \r\nQ 428 3978 793 4289 \r\nQ 1159 4600 1703 4600 \r\nQ 2078 4600 2393 4439 \r\nQ 2709 4278 2876 4000 \r\nQ 3044 3722 3044 3409 \r\nQ 3044 3113 2884 2869 \r\nQ 2725 2625 2413 2481 \r\nQ 2819 2388 3044 2092 \r\nQ 3269 1797 3269 1353 \r\nQ 3269 753 2831 336 \r\nQ 2394 -81 1725 -81 \r\nQ 1122 -81 723 278 \r\nQ 325 638 269 1209 \r\nz\r\n\" id=\"ArialMT-33\" transform=\"scale(0.015625)\"/>\r\n        <path d=\"M 416 0 \r\nL 416 3319 \r\nL 922 3319 \r\nL 922 2816 \r\nQ 1116 3169 1280 3281 \r\nQ 1444 3394 1641 3394 \r\nQ 1925 3394 2219 3213 \r\nL 2025 2691 \r\nQ 1819 2813 1613 2813 \r\nQ 1428 2813 1281 2702 \r\nQ 1134 2591 1072 2394 \r\nQ 978 2094 978 1738 \r\nL 978 0 \r\nL 416 0 \r\nz\r\n\" id=\"ArialMT-72\" transform=\"scale(0.015625)\"/>\r\n        <path d=\"M 2694 1069 \r\nL 3275 997 \r\nQ 3138 488 2766 206 \r\nQ 2394 -75 1816 -75 \r\nQ 1088 -75 661 373 \r\nQ 234 822 234 1631 \r\nQ 234 2469 665 2931 \r\nQ 1097 3394 1784 3394 \r\nQ 2450 3394 2872 2941 \r\nQ 3294 2488 3294 1666 \r\nQ 3294 1616 3291 1516 \r\nL 816 1516 \r\nQ 847 969 1125 678 \r\nQ 1403 388 1819 388 \r\nQ 2128 388 2347 550 \r\nQ 2566 713 2694 1069 \r\nz\r\nM 847 1978 \r\nL 2700 1978 \r\nQ 2663 2397 2488 2606 \r\nQ 2219 2931 1791 2931 \r\nQ 1403 2931 1139 2672 \r\nQ 875 2413 847 1978 \r\nz\r\n\" id=\"ArialMT-65\" transform=\"scale(0.015625)\"/>\r\n       </defs>\r\n       <use xlink:href=\"#ArialMT-33\"/>\r\n       <use x=\"55.615234\" xlink:href=\"#ArialMT-30\"/>\r\n       <use x=\"111.230469\" xlink:href=\"#ArialMT-73\"/>\r\n       <use x=\"161.230469\" xlink:href=\"#ArialMT-20\"/>\r\n       <use x=\"189.013672\" xlink:href=\"#ArialMT-6f\"/>\r\n       <use x=\"244.628906\" xlink:href=\"#ArialMT-72\"/>\r\n       <use x=\"277.929688\" xlink:href=\"#ArialMT-20\"/>\r\n       <use x=\"305.712891\" xlink:href=\"#ArialMT-6c\"/>\r\n       <use x=\"327.929688\" xlink:href=\"#ArialMT-65\"/>\r\n       <use x=\"383.544922\" xlink:href=\"#ArialMT-73\"/>\r\n       <use x=\"433.544922\" xlink:href=\"#ArialMT-73\"/>\r\n      </g>\r\n     </g>\r\n    </g>\r\n    <g id=\"ytick_2\">\r\n     <g id=\"text_8\">\r\n      <!-- 40s -->\r\n      <g style=\"fill:#262626;\" transform=\"translate(87.504063 85.972279)scale(0.18 -0.18)\">\r\n       <use xlink:href=\"#ArialMT-34\"/>\r\n       <use x=\"55.615234\" xlink:href=\"#ArialMT-30\"/>\r\n       <use x=\"111.230469\" xlink:href=\"#ArialMT-73\"/>\r\n      </g>\r\n     </g>\r\n    </g>\r\n    <g id=\"ytick_3\">\r\n     <g id=\"text_9\">\r\n      <!-- 50s -->\r\n      <g style=\"fill:#262626;\" transform=\"translate(87.504063 125.282197)scale(0.18 -0.18)\">\r\n       <defs>\r\n        <path d=\"M 266 1200 \r\nL 856 1250 \r\nQ 922 819 1161 601 \r\nQ 1400 384 1738 384 \r\nQ 2144 384 2425 690 \r\nQ 2706 997 2706 1503 \r\nQ 2706 1984 2436 2262 \r\nQ 2166 2541 1728 2541 \r\nQ 1456 2541 1237 2417 \r\nQ 1019 2294 894 2097 \r\nL 366 2166 \r\nL 809 4519 \r\nL 3088 4519 \r\nL 3088 3981 \r\nL 1259 3981 \r\nL 1013 2750 \r\nQ 1425 3038 1878 3038 \r\nQ 2478 3038 2890 2622 \r\nQ 3303 2206 3303 1553 \r\nQ 3303 931 2941 478 \r\nQ 2500 -78 1738 -78 \r\nQ 1113 -78 717 272 \r\nQ 322 622 266 1200 \r\nz\r\n\" id=\"ArialMT-35\" transform=\"scale(0.015625)\"/>\r\n       </defs>\r\n       <use xlink:href=\"#ArialMT-35\"/>\r\n       <use x=\"55.615234\" xlink:href=\"#ArialMT-30\"/>\r\n       <use x=\"111.230469\" xlink:href=\"#ArialMT-73\"/>\r\n      </g>\r\n     </g>\r\n    </g>\r\n    <g id=\"ytick_4\">\r\n     <g id=\"text_10\">\r\n      <!-- 60s -->\r\n      <g style=\"fill:#262626;\" transform=\"translate(87.504063 164.592114)scale(0.18 -0.18)\">\r\n       <use xlink:href=\"#ArialMT-36\"/>\r\n       <use x=\"55.615234\" xlink:href=\"#ArialMT-30\"/>\r\n       <use x=\"111.230469\" xlink:href=\"#ArialMT-73\"/>\r\n      </g>\r\n     </g>\r\n    </g>\r\n    <g id=\"ytick_5\">\r\n     <g id=\"text_11\">\r\n      <!-- 70s -->\r\n      <g style=\"fill:#262626;\" transform=\"translate(87.504063 203.902031)scale(0.18 -0.18)\">\r\n       <defs>\r\n        <path d=\"M 303 3981 \r\nL 303 4522 \r\nL 3269 4522 \r\nL 3269 4084 \r\nQ 2831 3619 2401 2847 \r\nQ 1972 2075 1738 1259 \r\nQ 1569 684 1522 0 \r\nL 944 0 \r\nQ 953 541 1156 1306 \r\nQ 1359 2072 1739 2783 \r\nQ 2119 3494 2547 3981 \r\nL 303 3981 \r\nz\r\n\" id=\"ArialMT-37\" transform=\"scale(0.015625)\"/>\r\n       </defs>\r\n       <use xlink:href=\"#ArialMT-37\"/>\r\n       <use x=\"55.615234\" xlink:href=\"#ArialMT-30\"/>\r\n       <use x=\"111.230469\" xlink:href=\"#ArialMT-73\"/>\r\n      </g>\r\n     </g>\r\n    </g>\r\n    <g id=\"ytick_6\">\r\n     <g id=\"text_12\">\r\n      <!-- 80s -->\r\n      <g style=\"fill:#262626;\" transform=\"translate(87.504063 243.211949)scale(0.18 -0.18)\">\r\n       <use xlink:href=\"#ArialMT-38\"/>\r\n       <use x=\"55.615234\" xlink:href=\"#ArialMT-30\"/>\r\n       <use x=\"111.230469\" xlink:href=\"#ArialMT-73\"/>\r\n      </g>\r\n     </g>\r\n    </g>\r\n    <g id=\"ytick_7\">\r\n     <g id=\"text_13\">\r\n      <!-- 90s -->\r\n      <g style=\"fill:#262626;\" transform=\"translate(87.504063 282.521866)scale(0.18 -0.18)\">\r\n       <defs>\r\n        <path d=\"M 350 1059 \r\nL 891 1109 \r\nQ 959 728 1153 556 \r\nQ 1347 384 1650 384 \r\nQ 1909 384 2104 503 \r\nQ 2300 622 2425 820 \r\nQ 2550 1019 2634 1356 \r\nQ 2719 1694 2719 2044 \r\nQ 2719 2081 2716 2156 \r\nQ 2547 1888 2255 1720 \r\nQ 1963 1553 1622 1553 \r\nQ 1053 1553 659 1965 \r\nQ 266 2378 266 3053 \r\nQ 266 3750 677 4175 \r\nQ 1088 4600 1706 4600 \r\nQ 2153 4600 2523 4359 \r\nQ 2894 4119 3086 3673 \r\nQ 3278 3228 3278 2384 \r\nQ 3278 1506 3087 986 \r\nQ 2897 466 2520 194 \r\nQ 2144 -78 1638 -78 \r\nQ 1100 -78 759 220 \r\nQ 419 519 350 1059 \r\nz\r\nM 2653 3081 \r\nQ 2653 3566 2395 3850 \r\nQ 2138 4134 1775 4134 \r\nQ 1400 4134 1122 3828 \r\nQ 844 3522 844 3034 \r\nQ 844 2597 1108 2323 \r\nQ 1372 2050 1759 2050 \r\nQ 2150 2050 2401 2323 \r\nQ 2653 2597 2653 3081 \r\nz\r\n\" id=\"ArialMT-39\" transform=\"scale(0.015625)\"/>\r\n       </defs>\r\n       <use xlink:href=\"#ArialMT-39\"/>\r\n       <use x=\"55.615234\" xlink:href=\"#ArialMT-30\"/>\r\n       <use x=\"111.230469\" xlink:href=\"#ArialMT-73\"/>\r\n      </g>\r\n     </g>\r\n    </g>\r\n    <g id=\"ytick_8\">\r\n     <g id=\"text_14\">\r\n      <!-- 2000s -->\r\n      <g style=\"fill:#262626;\" transform=\"translate(67.484688 321.831783)scale(0.18 -0.18)\">\r\n       <use xlink:href=\"#ArialMT-32\"/>\r\n       <use x=\"55.615234\" xlink:href=\"#ArialMT-30\"/>\r\n       <use x=\"111.230469\" xlink:href=\"#ArialMT-30\"/>\r\n       <use x=\"166.845703\" xlink:href=\"#ArialMT-30\"/>\r\n       <use x=\"222.460938\" xlink:href=\"#ArialMT-73\"/>\r\n      </g>\r\n     </g>\r\n    </g>\r\n    <g id=\"ytick_9\">\r\n     <g id=\"text_15\">\r\n      <!-- 2010s -->\r\n      <g style=\"fill:#262626;\" transform=\"translate(67.484688 361.141701)scale(0.18 -0.18)\">\r\n       <defs>\r\n        <path d=\"M 2384 0 \r\nL 1822 0 \r\nL 1822 3584 \r\nQ 1619 3391 1289 3197 \r\nQ 959 3003 697 2906 \r\nL 697 3450 \r\nQ 1169 3672 1522 3987 \r\nQ 1875 4303 2022 4600 \r\nL 2384 4600 \r\nL 2384 0 \r\nz\r\n\" id=\"ArialMT-31\" transform=\"scale(0.015625)\"/>\r\n       </defs>\r\n       <use xlink:href=\"#ArialMT-32\"/>\r\n       <use x=\"55.615234\" xlink:href=\"#ArialMT-30\"/>\r\n       <use x=\"111.230469\" xlink:href=\"#ArialMT-31\"/>\r\n       <use x=\"166.845703\" xlink:href=\"#ArialMT-30\"/>\r\n       <use x=\"222.460938\" xlink:href=\"#ArialMT-73\"/>\r\n      </g>\r\n     </g>\r\n    </g>\r\n    <g id=\"text_16\">\r\n     <!-- Release Decade -->\r\n     <g style=\"fill:#262626;\" transform=\"translate(21.515625 271.39125)rotate(-90)scale(0.2 -0.2)\">\r\n      <defs>\r\n       <path d=\"M 503 0 \r\nL 503 4581 \r\nL 2534 4581 \r\nQ 3147 4581 3465 4457 \r\nQ 3784 4334 3975 4021 \r\nQ 4166 3709 4166 3331 \r\nQ 4166 2844 3850 2509 \r\nQ 3534 2175 2875 2084 \r\nQ 3116 1969 3241 1856 \r\nQ 3506 1613 3744 1247 \r\nL 4541 0 \r\nL 3778 0 \r\nL 3172 953 \r\nQ 2906 1366 2734 1584 \r\nQ 2563 1803 2427 1890 \r\nQ 2291 1978 2150 2013 \r\nQ 2047 2034 1813 2034 \r\nL 1109 2034 \r\nL 1109 0 \r\nL 503 0 \r\nz\r\nM 1109 2559 \r\nL 2413 2559 \r\nQ 2828 2559 3062 2645 \r\nQ 3297 2731 3419 2920 \r\nQ 3541 3109 3541 3331 \r\nQ 3541 3656 3305 3865 \r\nQ 3069 4075 2559 4075 \r\nL 1109 4075 \r\nL 1109 2559 \r\nz\r\n\" id=\"ArialMT-52\" transform=\"scale(0.015625)\"/>\r\n       <path d=\"M 494 0 \r\nL 494 4581 \r\nL 2072 4581 \r\nQ 2606 4581 2888 4516 \r\nQ 3281 4425 3559 4188 \r\nQ 3922 3881 4101 3404 \r\nQ 4281 2928 4281 2316 \r\nQ 4281 1794 4159 1391 \r\nQ 4038 988 3847 723 \r\nQ 3656 459 3429 307 \r\nQ 3203 156 2883 78 \r\nQ 2563 0 2147 0 \r\nL 494 0 \r\nz\r\nM 1100 541 \r\nL 2078 541 \r\nQ 2531 541 2789 625 \r\nQ 3047 709 3200 863 \r\nQ 3416 1078 3536 1442 \r\nQ 3656 1806 3656 2325 \r\nQ 3656 3044 3420 3430 \r\nQ 3184 3816 2847 3947 \r\nQ 2603 4041 2063 4041 \r\nL 1100 4041 \r\nL 1100 541 \r\nz\r\n\" id=\"ArialMT-44\" transform=\"scale(0.015625)\"/>\r\n       <path d=\"M 2588 1216 \r\nL 3141 1144 \r\nQ 3050 572 2676 248 \r\nQ 2303 -75 1759 -75 \r\nQ 1078 -75 664 370 \r\nQ 250 816 250 1647 \r\nQ 250 2184 428 2587 \r\nQ 606 2991 970 3192 \r\nQ 1334 3394 1763 3394 \r\nQ 2303 3394 2647 3120 \r\nQ 2991 2847 3088 2344 \r\nL 2541 2259 \r\nQ 2463 2594 2264 2762 \r\nQ 2066 2931 1784 2931 \r\nQ 1359 2931 1093 2626 \r\nQ 828 2322 828 1663 \r\nQ 828 994 1084 691 \r\nQ 1341 388 1753 388 \r\nQ 2084 388 2306 591 \r\nQ 2528 794 2588 1216 \r\nz\r\n\" id=\"ArialMT-63\" transform=\"scale(0.015625)\"/>\r\n       <path d=\"M 2575 0 \r\nL 2575 419 \r\nQ 2259 -75 1647 -75 \r\nQ 1250 -75 917 144 \r\nQ 584 363 401 755 \r\nQ 219 1147 219 1656 \r\nQ 219 2153 384 2558 \r\nQ 550 2963 881 3178 \r\nQ 1213 3394 1622 3394 \r\nQ 1922 3394 2156 3267 \r\nQ 2391 3141 2538 2938 \r\nL 2538 4581 \r\nL 3097 4581 \r\nL 3097 0 \r\nL 2575 0 \r\nz\r\nM 797 1656 \r\nQ 797 1019 1065 703 \r\nQ 1334 388 1700 388 \r\nQ 2069 388 2326 689 \r\nQ 2584 991 2584 1609 \r\nQ 2584 2291 2321 2609 \r\nQ 2059 2928 1675 2928 \r\nQ 1300 2928 1048 2622 \r\nQ 797 2316 797 1656 \r\nz\r\n\" id=\"ArialMT-64\" transform=\"scale(0.015625)\"/>\r\n      </defs>\r\n      <use xlink:href=\"#ArialMT-52\"/>\r\n      <use x=\"72.216797\" xlink:href=\"#ArialMT-65\"/>\r\n      <use x=\"127.832031\" xlink:href=\"#ArialMT-6c\"/>\r\n      <use x=\"150.048828\" xlink:href=\"#ArialMT-65\"/>\r\n      <use x=\"205.664062\" xlink:href=\"#ArialMT-61\"/>\r\n      <use x=\"261.279297\" xlink:href=\"#ArialMT-73\"/>\r\n      <use x=\"311.279297\" xlink:href=\"#ArialMT-65\"/>\r\n      <use x=\"366.894531\" xlink:href=\"#ArialMT-20\"/>\r\n      <use x=\"394.677734\" xlink:href=\"#ArialMT-44\"/>\r\n      <use x=\"466.894531\" xlink:href=\"#ArialMT-65\"/>\r\n      <use x=\"522.509766\" xlink:href=\"#ArialMT-63\"/>\r\n      <use x=\"572.509766\" xlink:href=\"#ArialMT-61\"/>\r\n      <use x=\"628.125\" xlink:href=\"#ArialMT-64\"/>\r\n      <use x=\"683.740234\" xlink:href=\"#ArialMT-65\"/>\r\n     </g>\r\n    </g>\r\n   </g>\r\n   <g id=\"patch_3\">\r\n    <path clip-path=\"url(#p26a91bceed)\" d=\"M 123.523438 24.496364 \r\nL 125.884954 24.496364 \r\nL 125.884954 55.944298 \r\nL 123.523438 55.944298 \r\nz\r\n\" style=\"fill:#176d9c;stroke:#ffffff;stroke-linejoin:miter;\"/>\r\n   </g>\r\n   <g id=\"patch_4\">\r\n    <path clip-path=\"url(#p26a91bceed)\" d=\"M 123.523438 63.806281 \r\nL 125.947927 63.806281 \r\nL 125.947927 95.254215 \r\nL 123.523438 95.254215 \r\nz\r\n\" style=\"fill:#c38820;stroke:#ffffff;stroke-linejoin:miter;\"/>\r\n   </g>\r\n   <g id=\"patch_5\">\r\n    <path clip-path=\"url(#p26a91bceed)\" d=\"M 123.523438 103.116198 \r\nL 126.584662 103.116198 \r\nL 126.584662 134.564132 \r\nL 123.523438 134.564132 \r\nz\r\n\" style=\"fill:#158b6a;stroke:#ffffff;stroke-linejoin:miter;\"/>\r\n   </g>\r\n   <g id=\"patch_6\">\r\n    <path clip-path=\"url(#p26a91bceed)\" d=\"M 123.523438 142.426116 \r\nL 130.907111 142.426116 \r\nL 130.907111 173.87405 \r\nL 123.523438 173.87405 \r\nz\r\n\" style=\"fill:#ba611b;stroke:#ffffff;stroke-linejoin:miter;\"/>\r\n   </g>\r\n   <g id=\"patch_7\">\r\n    <path clip-path=\"url(#p26a91bceed)\" d=\"M 123.523438 181.736033 \r\nL 135.20507 181.736033 \r\nL 135.20507 213.183967 \r\nL 123.523438 213.183967 \r\nz\r\n\" style=\"fill:#c282b5;stroke:#ffffff;stroke-linejoin:miter;\"/>\r\n   </g>\r\n   <g id=\"patch_8\">\r\n    <path clip-path=\"url(#p26a91bceed)\" d=\"M 123.523438 221.04595 \r\nL 148.319356 221.04595 \r\nL 148.319356 252.493884 \r\nL 123.523438 252.493884 \r\nz\r\n\" style=\"fill:#bd926e;stroke:#ffffff;stroke-linejoin:miter;\"/>\r\n   </g>\r\n   <g id=\"patch_9\">\r\n    <path clip-path=\"url(#p26a91bceed)\" d=\"M 123.523438 260.355868 \r\nL 203.421397 260.355868 \r\nL 203.421397 291.803802 \r\nL 123.523438 291.803802 \r\nz\r\n\" style=\"fill:#f2b8e0;stroke:#ffffff;stroke-linejoin:miter;\"/>\r\n   </g>\r\n   <g id=\"patch_10\">\r\n    <path clip-path=\"url(#p26a91bceed)\" d=\"M 123.523438 299.665785 \r\nL 751.356091 299.665785 \r\nL 751.356091 331.113719 \r\nL 123.523438 331.113719 \r\nz\r\n\" style=\"fill:#949494;stroke:#ffffff;stroke-linejoin:miter;\"/>\r\n   </g>\r\n   <g id=\"patch_11\">\r\n    <path clip-path=\"url(#p26a91bceed)\" d=\"M 123.523438 338.975702 \r\nL 1080.094866 338.975702 \r\nL 1080.094866 370.423636 \r\nL 123.523438 370.423636 \r\nz\r\n\" style=\"fill:#d5cd4a;stroke:#ffffff;stroke-linejoin:miter;\"/>\r\n   </g>\r\n   <g id=\"patch_12\">\r\n    <path d=\"M 123.523438 387.72 \r\nL 1127.923438 387.72 \r\n\" style=\"fill:none;stroke:#262626;stroke-linecap:square;stroke-linejoin:miter;stroke-width:0.8;\"/>\r\n   </g>\r\n  </g>\r\n </g>\r\n <defs>\r\n  <clipPath id=\"p26a91bceed\">\r\n   <rect height=\"380.52\" width=\"1004.4\" x=\"123.523438\" y=\"7.2\"/>\r\n  </clipPath>\r\n </defs>\r\n</svg>\r\n",
      "image/png": "[encoded data removed]"
     },
     "metadata": {}
    }
   ],
   "source": [
    "#grupy by decade\n",
    "ry=data.release_year.dt.year.value_counts()\n",
    "rey=ry.to_frame()\n",
    "rey.reset_index(inplace=True)\n",
    "rey.rename(columns={'index': 'release year','release_year':'total'},inplace=True)\n",
    "rey.astype('int32')\n",
    "bins=[1920,1949,1959,1969,1979,1989,1999,2009,2019,2020]\n",
    "names=['30s or less','40s','50s','60s','70s','80s','90s','2000s','2010s']\n",
    "rey['release year']=pd.cut(rey['release year'],bins,labels=names)\n",
    "\n",
    "plt.figure(figsize=(18,7))\n",
    "sns.set_style(\"white\")\n",
    "sns.despine()\n",
    "r_year=sns.barplot(data=rey,y='release year',x='total',palette='colorblind',ci=None)\n",
    "r_year.set_xlabel('Total Films',fontsize=20)\n",
    "r_year.set_ylabel('Release Decade',fontsize=20)\n",
    "r_year.tick_params(axis='both', which='major', labelsize=18)\n",
    "sns.despine(left=True)\n",
    "\n",
    "\n",
    "plt.plot()"
   ]
  },
  {
   "source": [
    "There is a big difference in the decades in the netflix catalog. from 2000 to 2020 they have the most movies"
   ],
   "cell_type": "markdown",
   "metadata": {}
  },
  {
   "cell_type": "code",
   "execution_count": 13,
   "metadata": {},
   "outputs": [
    {
     "output_type": "display_data",
     "data": {
      "text/plain": "<Figure size 432x288 with 1 Axes>",
      "image/svg+xml": "<?xml version=\"1.0\" encoding=\"utf-8\" standalone=\"no\"?>\r\n<!DOCTYPE svg PUBLIC \"-//W3C//DTD SVG 1.1//EN\"\r\n  \"http://www.w3.org/Graphics/SVG/1.1/DTD/svg11.dtd\">\r\n<svg height=\"279.837031pt\" version=\"1.1\" viewBox=\"0 0 393.55875 279.837031\" width=\"393.55875pt\" xmlns=\"http://www.w3.org/2000/svg\" xmlns:xlink=\"http://www.w3.org/1999/xlink\">\r\n <metadata>\r\n  <rdf:RDF xmlns:cc=\"http://creativecommons.org/ns#\" xmlns:dc=\"http://purl.org/dc/elements/1.1/\" xmlns:rdf=\"http://www.w3.org/1999/02/22-rdf-syntax-ns#\">\r\n   <cc:Work>\r\n    <dc:type rdf:resource=\"http://purl.org/dc/dcmitype/StillImage\"/>\r\n    <dc:date>2021-07-05T18:51:29.518911</dc:date>\r\n    <dc:format>image/svg+xml</dc:format>\r\n    <dc:creator>\r\n     <cc:Agent>\r\n      <dc:title>Matplotlib v3.4.2, https://matplotlib.org/</dc:title>\r\n     </cc:Agent>\r\n    </dc:creator>\r\n   </cc:Work>\r\n  </rdf:RDF>\r\n </metadata>\r\n <defs>\r\n  <style type=\"text/css\">*{stroke-linecap:butt;stroke-linejoin:round;}</style>\r\n </defs>\r\n <g id=\"figure_1\">\r\n  <g id=\"patch_1\">\r\n   <path d=\"M 0 279.837031 \r\nL 393.55875 279.837031 \r\nL 393.55875 0 \r\nL 0 0 \r\nz\r\n\" style=\"fill:#ffffff;\"/>\r\n  </g>\r\n  <g id=\"axes_1\">\r\n   <g id=\"patch_2\">\r\n    <path d=\"M 51.55875 241.376719 \r\nL 386.35875 241.376719 \r\nL 386.35875 23.936719 \r\nL 51.55875 23.936719 \r\nz\r\n\" style=\"fill:#ffffff;\"/>\r\n   </g>\r\n   <g id=\"matplotlib.axis_1\">\r\n    <g id=\"xtick_1\">\r\n     <g id=\"text_1\">\r\n      <!-- TV-MA -->\r\n      <g style=\"fill:#262626;\" transform=\"translate(57.204844 255.534531)scale(0.1 -0.1)\">\r\n       <defs>\r\n        <path d=\"M 1659 0 \r\nL 1659 4041 \r\nL 150 4041 \r\nL 150 4581 \r\nL 3781 4581 \r\nL 3781 4041 \r\nL 2266 4041 \r\nL 2266 0 \r\nL 1659 0 \r\nz\r\n\" id=\"ArialMT-54\" transform=\"scale(0.015625)\"/>\r\n        <path d=\"M 1803 0 \r\nL 28 4581 \r\nL 684 4581 \r\nL 1875 1253 \r\nQ 2019 853 2116 503 \r\nQ 2222 878 2363 1253 \r\nL 3600 4581 \r\nL 4219 4581 \r\nL 2425 0 \r\nL 1803 0 \r\nz\r\n\" id=\"ArialMT-56\" transform=\"scale(0.015625)\"/>\r\n        <path d=\"M 203 1375 \r\nL 203 1941 \r\nL 1931 1941 \r\nL 1931 1375 \r\nL 203 1375 \r\nz\r\n\" id=\"ArialMT-2d\" transform=\"scale(0.015625)\"/>\r\n        <path d=\"M 475 0 \r\nL 475 4581 \r\nL 1388 4581 \r\nL 2472 1338 \r\nQ 2622 884 2691 659 \r\nQ 2769 909 2934 1394 \r\nL 4031 4581 \r\nL 4847 4581 \r\nL 4847 0 \r\nL 4263 0 \r\nL 4263 3834 \r\nL 2931 0 \r\nL 2384 0 \r\nL 1059 3900 \r\nL 1059 0 \r\nL 475 0 \r\nz\r\n\" id=\"ArialMT-4d\" transform=\"scale(0.015625)\"/>\r\n        <path d=\"M -9 0 \r\nL 1750 4581 \r\nL 2403 4581 \r\nL 4278 0 \r\nL 3588 0 \r\nL 3053 1388 \r\nL 1138 1388 \r\nL 634 0 \r\nL -9 0 \r\nz\r\nM 1313 1881 \r\nL 2866 1881 \r\nL 2388 3150 \r\nQ 2169 3728 2063 4100 \r\nQ 1975 3659 1816 3225 \r\nL 1313 1881 \r\nz\r\n\" id=\"ArialMT-41\" transform=\"scale(0.015625)\"/>\r\n       </defs>\r\n       <use xlink:href=\"#ArialMT-54\"/>\r\n       <use x=\"61.083984\" xlink:href=\"#ArialMT-56\"/>\r\n       <use x=\"122.283203\" xlink:href=\"#ArialMT-2d\"/>\r\n       <use x=\"155.583984\" xlink:href=\"#ArialMT-4d\"/>\r\n       <use x=\"238.884766\" xlink:href=\"#ArialMT-41\"/>\r\n      </g>\r\n     </g>\r\n    </g>\r\n    <g id=\"xtick_2\">\r\n     <g id=\"text_2\">\r\n      <!-- TV-14 -->\r\n      <g style=\"fill:#262626;\" transform=\"translate(100.993906 255.534531)scale(0.1 -0.1)\">\r\n       <defs>\r\n        <path d=\"M 2384 0 \r\nL 1822 0 \r\nL 1822 3584 \r\nQ 1619 3391 1289 3197 \r\nQ 959 3003 697 2906 \r\nL 697 3450 \r\nQ 1169 3672 1522 3987 \r\nQ 1875 4303 2022 4600 \r\nL 2384 4600 \r\nL 2384 0 \r\nz\r\n\" id=\"ArialMT-31\" transform=\"scale(0.015625)\"/>\r\n        <path d=\"M 2069 0 \r\nL 2069 1097 \r\nL 81 1097 \r\nL 81 1613 \r\nL 2172 4581 \r\nL 2631 4581 \r\nL 2631 1613 \r\nL 3250 1613 \r\nL 3250 1097 \r\nL 2631 1097 \r\nL 2631 0 \r\nL 2069 0 \r\nz\r\nM 2069 1613 \r\nL 2069 3678 \r\nL 634 1613 \r\nL 2069 1613 \r\nz\r\n\" id=\"ArialMT-34\" transform=\"scale(0.015625)\"/>\r\n       </defs>\r\n       <use xlink:href=\"#ArialMT-54\"/>\r\n       <use x=\"61.083984\" xlink:href=\"#ArialMT-56\"/>\r\n       <use x=\"122.283203\" xlink:href=\"#ArialMT-2d\"/>\r\n       <use x=\"155.583984\" xlink:href=\"#ArialMT-31\"/>\r\n       <use x=\"211.199219\" xlink:href=\"#ArialMT-34\"/>\r\n      </g>\r\n     </g>\r\n    </g>\r\n    <g id=\"xtick_3\">\r\n     <g id=\"text_3\">\r\n      <!-- TV-PG -->\r\n      <g style=\"fill:#262626;\" transform=\"translate(141.180625 255.534531)scale(0.1 -0.1)\">\r\n       <defs>\r\n        <path d=\"M 494 0 \r\nL 494 4581 \r\nL 2222 4581 \r\nQ 2678 4581 2919 4538 \r\nQ 3256 4481 3484 4323 \r\nQ 3713 4166 3852 3881 \r\nQ 3991 3597 3991 3256 \r\nQ 3991 2672 3619 2267 \r\nQ 3247 1863 2275 1863 \r\nL 1100 1863 \r\nL 1100 0 \r\nL 494 0 \r\nz\r\nM 1100 2403 \r\nL 2284 2403 \r\nQ 2872 2403 3119 2622 \r\nQ 3366 2841 3366 3238 \r\nQ 3366 3525 3220 3729 \r\nQ 3075 3934 2838 4000 \r\nQ 2684 4041 2272 4041 \r\nL 1100 4041 \r\nL 1100 2403 \r\nz\r\n\" id=\"ArialMT-50\" transform=\"scale(0.015625)\"/>\r\n        <path d=\"M 2638 1797 \r\nL 2638 2334 \r\nL 4578 2338 \r\nL 4578 638 \r\nQ 4131 281 3656 101 \r\nQ 3181 -78 2681 -78 \r\nQ 2006 -78 1454 211 \r\nQ 903 500 622 1047 \r\nQ 341 1594 341 2269 \r\nQ 341 2938 620 3517 \r\nQ 900 4097 1425 4378 \r\nQ 1950 4659 2634 4659 \r\nQ 3131 4659 3532 4498 \r\nQ 3934 4338 4162 4050 \r\nQ 4391 3763 4509 3300 \r\nL 3963 3150 \r\nQ 3859 3500 3706 3700 \r\nQ 3553 3900 3268 4020 \r\nQ 2984 4141 2638 4141 \r\nQ 2222 4141 1919 4014 \r\nQ 1616 3888 1430 3681 \r\nQ 1244 3475 1141 3228 \r\nQ 966 2803 966 2306 \r\nQ 966 1694 1177 1281 \r\nQ 1388 869 1791 669 \r\nQ 2194 469 2647 469 \r\nQ 3041 469 3416 620 \r\nQ 3791 772 3984 944 \r\nL 3984 1797 \r\nL 2638 1797 \r\nz\r\n\" id=\"ArialMT-47\" transform=\"scale(0.015625)\"/>\r\n       </defs>\r\n       <use xlink:href=\"#ArialMT-54\"/>\r\n       <use x=\"61.083984\" xlink:href=\"#ArialMT-56\"/>\r\n       <use x=\"122.283203\" xlink:href=\"#ArialMT-2d\"/>\r\n       <use x=\"155.583984\" xlink:href=\"#ArialMT-50\"/>\r\n       <use x=\"222.283203\" xlink:href=\"#ArialMT-47\"/>\r\n      </g>\r\n     </g>\r\n    </g>\r\n    <g id=\"xtick_4\">\r\n     <g id=\"text_4\">\r\n      <!-- R -->\r\n      <g style=\"fill:#262626;\" transform=\"translate(194.422813 255.534531)scale(0.1 -0.1)\">\r\n       <defs>\r\n        <path d=\"M 503 0 \r\nL 503 4581 \r\nL 2534 4581 \r\nQ 3147 4581 3465 4457 \r\nQ 3784 4334 3975 4021 \r\nQ 4166 3709 4166 3331 \r\nQ 4166 2844 3850 2509 \r\nQ 3534 2175 2875 2084 \r\nQ 3116 1969 3241 1856 \r\nQ 3506 1613 3744 1247 \r\nL 4541 0 \r\nL 3778 0 \r\nL 3172 953 \r\nQ 2906 1366 2734 1584 \r\nQ 2563 1803 2427 1890 \r\nQ 2291 1978 2150 2013 \r\nQ 2047 2034 1813 2034 \r\nL 1109 2034 \r\nL 1109 0 \r\nL 503 0 \r\nz\r\nM 1109 2559 \r\nL 2413 2559 \r\nQ 2828 2559 3062 2645 \r\nQ 3297 2731 3419 2920 \r\nQ 3541 3109 3541 3331 \r\nQ 3541 3656 3305 3865 \r\nQ 3069 4075 2559 4075 \r\nL 1109 4075 \r\nL 1109 2559 \r\nz\r\n\" id=\"ArialMT-52\" transform=\"scale(0.015625)\"/>\r\n       </defs>\r\n       <use xlink:href=\"#ArialMT-52\"/>\r\n      </g>\r\n     </g>\r\n    </g>\r\n    <g id=\"xtick_5\">\r\n     <g id=\"text_5\">\r\n      <!-- PG-13 -->\r\n      <g style=\"fill:#262626;\" transform=\"translate(225.43375 255.534531)scale(0.1 -0.1)\">\r\n       <defs>\r\n        <path d=\"M 269 1209 \r\nL 831 1284 \r\nQ 928 806 1161 595 \r\nQ 1394 384 1728 384 \r\nQ 2125 384 2398 659 \r\nQ 2672 934 2672 1341 \r\nQ 2672 1728 2419 1979 \r\nQ 2166 2231 1775 2231 \r\nQ 1616 2231 1378 2169 \r\nL 1441 2663 \r\nQ 1497 2656 1531 2656 \r\nQ 1891 2656 2178 2843 \r\nQ 2466 3031 2466 3422 \r\nQ 2466 3731 2256 3934 \r\nQ 2047 4138 1716 4138 \r\nQ 1388 4138 1169 3931 \r\nQ 950 3725 888 3313 \r\nL 325 3413 \r\nQ 428 3978 793 4289 \r\nQ 1159 4600 1703 4600 \r\nQ 2078 4600 2393 4439 \r\nQ 2709 4278 2876 4000 \r\nQ 3044 3722 3044 3409 \r\nQ 3044 3113 2884 2869 \r\nQ 2725 2625 2413 2481 \r\nQ 2819 2388 3044 2092 \r\nQ 3269 1797 3269 1353 \r\nQ 3269 753 2831 336 \r\nQ 2394 -81 1725 -81 \r\nQ 1122 -81 723 278 \r\nQ 325 638 269 1209 \r\nz\r\n\" id=\"ArialMT-33\" transform=\"scale(0.015625)\"/>\r\n       </defs>\r\n       <use xlink:href=\"#ArialMT-50\"/>\r\n       <use x=\"66.699219\" xlink:href=\"#ArialMT-47\"/>\r\n       <use x=\"144.482422\" xlink:href=\"#ArialMT-2d\"/>\r\n       <use x=\"177.783203\" xlink:href=\"#ArialMT-31\"/>\r\n       <use x=\"233.398438\" xlink:href=\"#ArialMT-33\"/>\r\n      </g>\r\n     </g>\r\n    </g>\r\n    <g id=\"xtick_6\">\r\n     <g id=\"text_6\">\r\n      <!-- TV-Y -->\r\n      <g style=\"fill:#262626;\" transform=\"translate(270.619688 255.534531)scale(0.1 -0.1)\">\r\n       <defs>\r\n        <path d=\"M 1784 0 \r\nL 1784 1941 \r\nL 19 4581 \r\nL 756 4581 \r\nL 1659 3200 \r\nQ 1909 2813 2125 2425 \r\nQ 2331 2784 2625 3234 \r\nL 3513 4581 \r\nL 4219 4581 \r\nL 2391 1941 \r\nL 2391 0 \r\nL 1784 0 \r\nz\r\n\" id=\"ArialMT-59\" transform=\"scale(0.015625)\"/>\r\n       </defs>\r\n       <use xlink:href=\"#ArialMT-54\"/>\r\n       <use x=\"61.083984\" xlink:href=\"#ArialMT-56\"/>\r\n       <use x=\"122.283203\" xlink:href=\"#ArialMT-2d\"/>\r\n       <use x=\"155.583984\" xlink:href=\"#ArialMT-59\"/>\r\n      </g>\r\n     </g>\r\n    </g>\r\n    <g id=\"xtick_7\">\r\n     <g id=\"text_7\">\r\n      <!-- TV-Y7 -->\r\n      <g style=\"fill:#262626;\" transform=\"translate(309.689219 255.534531)scale(0.1 -0.1)\">\r\n       <defs>\r\n        <path d=\"M 303 3981 \r\nL 303 4522 \r\nL 3269 4522 \r\nL 3269 4084 \r\nQ 2831 3619 2401 2847 \r\nQ 1972 2075 1738 1259 \r\nQ 1569 684 1522 0 \r\nL 944 0 \r\nQ 953 541 1156 1306 \r\nQ 1359 2072 1739 2783 \r\nQ 2119 3494 2547 3981 \r\nL 303 3981 \r\nz\r\n\" id=\"ArialMT-37\" transform=\"scale(0.015625)\"/>\r\n       </defs>\r\n       <use xlink:href=\"#ArialMT-54\"/>\r\n       <use x=\"61.083984\" xlink:href=\"#ArialMT-56\"/>\r\n       <use x=\"122.283203\" xlink:href=\"#ArialMT-2d\"/>\r\n       <use x=\"155.583984\" xlink:href=\"#ArialMT-59\"/>\r\n       <use x=\"222.283203\" xlink:href=\"#ArialMT-37\"/>\r\n      </g>\r\n     </g>\r\n    </g>\r\n    <g id=\"xtick_8\">\r\n     <g id=\"text_8\">\r\n      <!-- PG -->\r\n      <g style=\"fill:#262626;\" transform=\"translate(358.209531 255.534531)scale(0.1 -0.1)\">\r\n       <use xlink:href=\"#ArialMT-50\"/>\r\n       <use x=\"66.699219\" xlink:href=\"#ArialMT-47\"/>\r\n      </g>\r\n     </g>\r\n    </g>\r\n    <g id=\"text_9\">\r\n     <!-- Rating -->\r\n     <g style=\"fill:#262626;\" transform=\"translate(201.615938 270.111406)scale(0.12 -0.12)\">\r\n      <defs>\r\n       <path d=\"M 2588 409 \r\nQ 2275 144 1986 34 \r\nQ 1697 -75 1366 -75 \r\nQ 819 -75 525 192 \r\nQ 231 459 231 875 \r\nQ 231 1119 342 1320 \r\nQ 453 1522 633 1644 \r\nQ 813 1766 1038 1828 \r\nQ 1203 1872 1538 1913 \r\nQ 2219 1994 2541 2106 \r\nQ 2544 2222 2544 2253 \r\nQ 2544 2597 2384 2738 \r\nQ 2169 2928 1744 2928 \r\nQ 1347 2928 1158 2789 \r\nQ 969 2650 878 2297 \r\nL 328 2372 \r\nQ 403 2725 575 2942 \r\nQ 747 3159 1072 3276 \r\nQ 1397 3394 1825 3394 \r\nQ 2250 3394 2515 3294 \r\nQ 2781 3194 2906 3042 \r\nQ 3031 2891 3081 2659 \r\nQ 3109 2516 3109 2141 \r\nL 3109 1391 \r\nQ 3109 606 3145 398 \r\nQ 3181 191 3288 0 \r\nL 2700 0 \r\nQ 2613 175 2588 409 \r\nz\r\nM 2541 1666 \r\nQ 2234 1541 1622 1453 \r\nQ 1275 1403 1131 1340 \r\nQ 988 1278 909 1158 \r\nQ 831 1038 831 891 \r\nQ 831 666 1001 516 \r\nQ 1172 366 1500 366 \r\nQ 1825 366 2078 508 \r\nQ 2331 650 2450 897 \r\nQ 2541 1088 2541 1459 \r\nL 2541 1666 \r\nz\r\n\" id=\"ArialMT-61\" transform=\"scale(0.015625)\"/>\r\n       <path d=\"M 1650 503 \r\nL 1731 6 \r\nQ 1494 -44 1306 -44 \r\nQ 1000 -44 831 53 \r\nQ 663 150 594 308 \r\nQ 525 466 525 972 \r\nL 525 2881 \r\nL 113 2881 \r\nL 113 3319 \r\nL 525 3319 \r\nL 525 4141 \r\nL 1084 4478 \r\nL 1084 3319 \r\nL 1650 3319 \r\nL 1650 2881 \r\nL 1084 2881 \r\nL 1084 941 \r\nQ 1084 700 1114 631 \r\nQ 1144 563 1211 522 \r\nQ 1278 481 1403 481 \r\nQ 1497 481 1650 503 \r\nz\r\n\" id=\"ArialMT-74\" transform=\"scale(0.015625)\"/>\r\n       <path d=\"M 425 3934 \r\nL 425 4581 \r\nL 988 4581 \r\nL 988 3934 \r\nL 425 3934 \r\nz\r\nM 425 0 \r\nL 425 3319 \r\nL 988 3319 \r\nL 988 0 \r\nL 425 0 \r\nz\r\n\" id=\"ArialMT-69\" transform=\"scale(0.015625)\"/>\r\n       <path d=\"M 422 0 \r\nL 422 3319 \r\nL 928 3319 \r\nL 928 2847 \r\nQ 1294 3394 1984 3394 \r\nQ 2284 3394 2536 3286 \r\nQ 2788 3178 2913 3003 \r\nQ 3038 2828 3088 2588 \r\nQ 3119 2431 3119 2041 \r\nL 3119 0 \r\nL 2556 0 \r\nL 2556 2019 \r\nQ 2556 2363 2490 2533 \r\nQ 2425 2703 2258 2804 \r\nQ 2091 2906 1866 2906 \r\nQ 1506 2906 1245 2678 \r\nQ 984 2450 984 1813 \r\nL 984 0 \r\nL 422 0 \r\nz\r\n\" id=\"ArialMT-6e\" transform=\"scale(0.015625)\"/>\r\n       <path d=\"M 319 -275 \r\nL 866 -356 \r\nQ 900 -609 1056 -725 \r\nQ 1266 -881 1628 -881 \r\nQ 2019 -881 2231 -725 \r\nQ 2444 -569 2519 -288 \r\nQ 2563 -116 2559 434 \r\nQ 2191 0 1641 0 \r\nQ 956 0 581 494 \r\nQ 206 988 206 1678 \r\nQ 206 2153 378 2554 \r\nQ 550 2956 876 3175 \r\nQ 1203 3394 1644 3394 \r\nQ 2231 3394 2613 2919 \r\nL 2613 3319 \r\nL 3131 3319 \r\nL 3131 450 \r\nQ 3131 -325 2973 -648 \r\nQ 2816 -972 2473 -1159 \r\nQ 2131 -1347 1631 -1347 \r\nQ 1038 -1347 672 -1080 \r\nQ 306 -813 319 -275 \r\nz\r\nM 784 1719 \r\nQ 784 1066 1043 766 \r\nQ 1303 466 1694 466 \r\nQ 2081 466 2343 764 \r\nQ 2606 1063 2606 1700 \r\nQ 2606 2309 2336 2618 \r\nQ 2066 2928 1684 2928 \r\nQ 1309 2928 1046 2623 \r\nQ 784 2319 784 1719 \r\nz\r\n\" id=\"ArialMT-67\" transform=\"scale(0.015625)\"/>\r\n      </defs>\r\n      <use xlink:href=\"#ArialMT-52\"/>\r\n      <use x=\"72.216797\" xlink:href=\"#ArialMT-61\"/>\r\n      <use x=\"127.832031\" xlink:href=\"#ArialMT-74\"/>\r\n      <use x=\"155.615234\" xlink:href=\"#ArialMT-69\"/>\r\n      <use x=\"177.832031\" xlink:href=\"#ArialMT-6e\"/>\r\n      <use x=\"233.447266\" xlink:href=\"#ArialMT-67\"/>\r\n     </g>\r\n    </g>\r\n   </g>\r\n   <g id=\"matplotlib.axis_2\">\r\n    <g id=\"ytick_1\">\r\n     <g id=\"text_10\">\r\n      <!-- 0 -->\r\n      <g style=\"fill:#262626;\" transform=\"translate(38.997813 244.955625)scale(0.1 -0.1)\">\r\n       <defs>\r\n        <path d=\"M 266 2259 \r\nQ 266 3072 433 3567 \r\nQ 600 4063 929 4331 \r\nQ 1259 4600 1759 4600 \r\nQ 2128 4600 2406 4451 \r\nQ 2684 4303 2865 4023 \r\nQ 3047 3744 3150 3342 \r\nQ 3253 2941 3253 2259 \r\nQ 3253 1453 3087 958 \r\nQ 2922 463 2592 192 \r\nQ 2263 -78 1759 -78 \r\nQ 1097 -78 719 397 \r\nQ 266 969 266 2259 \r\nz\r\nM 844 2259 \r\nQ 844 1131 1108 757 \r\nQ 1372 384 1759 384 \r\nQ 2147 384 2411 759 \r\nQ 2675 1134 2675 2259 \r\nQ 2675 3391 2411 3762 \r\nQ 2147 4134 1753 4134 \r\nQ 1366 4134 1134 3806 \r\nQ 844 3388 844 2259 \r\nz\r\n\" id=\"ArialMT-30\" transform=\"scale(0.015625)\"/>\r\n       </defs>\r\n       <use xlink:href=\"#ArialMT-30\"/>\r\n      </g>\r\n     </g>\r\n    </g>\r\n    <g id=\"ytick_2\">\r\n     <g id=\"text_11\">\r\n      <!-- 500 -->\r\n      <g style=\"fill:#262626;\" transform=\"translate(27.875938 208.764483)scale(0.1 -0.1)\">\r\n       <defs>\r\n        <path d=\"M 266 1200 \r\nL 856 1250 \r\nQ 922 819 1161 601 \r\nQ 1400 384 1738 384 \r\nQ 2144 384 2425 690 \r\nQ 2706 997 2706 1503 \r\nQ 2706 1984 2436 2262 \r\nQ 2166 2541 1728 2541 \r\nQ 1456 2541 1237 2417 \r\nQ 1019 2294 894 2097 \r\nL 366 2166 \r\nL 809 4519 \r\nL 3088 4519 \r\nL 3088 3981 \r\nL 1259 3981 \r\nL 1013 2750 \r\nQ 1425 3038 1878 3038 \r\nQ 2478 3038 2890 2622 \r\nQ 3303 2206 3303 1553 \r\nQ 3303 931 2941 478 \r\nQ 2500 -78 1738 -78 \r\nQ 1113 -78 717 272 \r\nQ 322 622 266 1200 \r\nz\r\n\" id=\"ArialMT-35\" transform=\"scale(0.015625)\"/>\r\n       </defs>\r\n       <use xlink:href=\"#ArialMT-35\"/>\r\n       <use x=\"55.615234\" xlink:href=\"#ArialMT-30\"/>\r\n       <use x=\"111.230469\" xlink:href=\"#ArialMT-30\"/>\r\n      </g>\r\n     </g>\r\n    </g>\r\n    <g id=\"ytick_3\">\r\n     <g id=\"text_12\">\r\n      <!-- 1000 -->\r\n      <g style=\"fill:#262626;\" transform=\"translate(22.315 172.573341)scale(0.1 -0.1)\">\r\n       <use xlink:href=\"#ArialMT-31\"/>\r\n       <use x=\"55.615234\" xlink:href=\"#ArialMT-30\"/>\r\n       <use x=\"111.230469\" xlink:href=\"#ArialMT-30\"/>\r\n       <use x=\"166.845703\" xlink:href=\"#ArialMT-30\"/>\r\n      </g>\r\n     </g>\r\n    </g>\r\n    <g id=\"ytick_4\">\r\n     <g id=\"text_13\">\r\n      <!-- 1500 -->\r\n      <g style=\"fill:#262626;\" transform=\"translate(22.315 136.382199)scale(0.1 -0.1)\">\r\n       <use xlink:href=\"#ArialMT-31\"/>\r\n       <use x=\"55.615234\" xlink:href=\"#ArialMT-35\"/>\r\n       <use x=\"111.230469\" xlink:href=\"#ArialMT-30\"/>\r\n       <use x=\"166.845703\" xlink:href=\"#ArialMT-30\"/>\r\n      </g>\r\n     </g>\r\n    </g>\r\n    <g id=\"ytick_5\">\r\n     <g id=\"text_14\">\r\n      <!-- 2000 -->\r\n      <g style=\"fill:#262626;\" transform=\"translate(22.315 100.191057)scale(0.1 -0.1)\">\r\n       <defs>\r\n        <path d=\"M 3222 541 \r\nL 3222 0 \r\nL 194 0 \r\nQ 188 203 259 391 \r\nQ 375 700 629 1000 \r\nQ 884 1300 1366 1694 \r\nQ 2113 2306 2375 2664 \r\nQ 2638 3022 2638 3341 \r\nQ 2638 3675 2398 3904 \r\nQ 2159 4134 1775 4134 \r\nQ 1369 4134 1125 3890 \r\nQ 881 3647 878 3216 \r\nL 300 3275 \r\nQ 359 3922 746 4261 \r\nQ 1134 4600 1788 4600 \r\nQ 2447 4600 2831 4234 \r\nQ 3216 3869 3216 3328 \r\nQ 3216 3053 3103 2787 \r\nQ 2991 2522 2730 2228 \r\nQ 2469 1934 1863 1422 \r\nQ 1356 997 1212 845 \r\nQ 1069 694 975 541 \r\nL 3222 541 \r\nz\r\n\" id=\"ArialMT-32\" transform=\"scale(0.015625)\"/>\r\n       </defs>\r\n       <use xlink:href=\"#ArialMT-32\"/>\r\n       <use x=\"55.615234\" xlink:href=\"#ArialMT-30\"/>\r\n       <use x=\"111.230469\" xlink:href=\"#ArialMT-30\"/>\r\n       <use x=\"166.845703\" xlink:href=\"#ArialMT-30\"/>\r\n      </g>\r\n     </g>\r\n    </g>\r\n    <g id=\"ytick_6\">\r\n     <g id=\"text_15\">\r\n      <!-- 2500 -->\r\n      <g style=\"fill:#262626;\" transform=\"translate(22.315 63.999915)scale(0.1 -0.1)\">\r\n       <use xlink:href=\"#ArialMT-32\"/>\r\n       <use x=\"55.615234\" xlink:href=\"#ArialMT-35\"/>\r\n       <use x=\"111.230469\" xlink:href=\"#ArialMT-30\"/>\r\n       <use x=\"166.845703\" xlink:href=\"#ArialMT-30\"/>\r\n      </g>\r\n     </g>\r\n    </g>\r\n    <g id=\"ytick_7\">\r\n     <g id=\"text_16\">\r\n      <!-- 3000 -->\r\n      <g style=\"fill:#262626;\" transform=\"translate(22.315 27.808773)scale(0.1 -0.1)\">\r\n       <use xlink:href=\"#ArialMT-33\"/>\r\n       <use x=\"55.615234\" xlink:href=\"#ArialMT-30\"/>\r\n       <use x=\"111.230469\" xlink:href=\"#ArialMT-30\"/>\r\n       <use x=\"166.845703\" xlink:href=\"#ArialMT-30\"/>\r\n      </g>\r\n     </g>\r\n    </g>\r\n    <g id=\"text_17\">\r\n     <!-- Total per Rating -->\r\n     <g style=\"fill:#262626;\" transform=\"translate(15.789375 174.674531)rotate(-90)scale(0.12 -0.12)\">\r\n      <defs>\r\n       <path d=\"M 213 1659 \r\nQ 213 2581 725 3025 \r\nQ 1153 3394 1769 3394 \r\nQ 2453 3394 2887 2945 \r\nQ 3322 2497 3322 1706 \r\nQ 3322 1066 3130 698 \r\nQ 2938 331 2570 128 \r\nQ 2203 -75 1769 -75 \r\nQ 1072 -75 642 372 \r\nQ 213 819 213 1659 \r\nz\r\nM 791 1659 \r\nQ 791 1022 1069 705 \r\nQ 1347 388 1769 388 \r\nQ 2188 388 2466 706 \r\nQ 2744 1025 2744 1678 \r\nQ 2744 2294 2464 2611 \r\nQ 2184 2928 1769 2928 \r\nQ 1347 2928 1069 2612 \r\nQ 791 2297 791 1659 \r\nz\r\n\" id=\"ArialMT-6f\" transform=\"scale(0.015625)\"/>\r\n       <path d=\"M 409 0 \r\nL 409 4581 \r\nL 972 4581 \r\nL 972 0 \r\nL 409 0 \r\nz\r\n\" id=\"ArialMT-6c\" transform=\"scale(0.015625)\"/>\r\n       <path id=\"ArialMT-20\" transform=\"scale(0.015625)\"/>\r\n       <path d=\"M 422 -1272 \r\nL 422 3319 \r\nL 934 3319 \r\nL 934 2888 \r\nQ 1116 3141 1344 3267 \r\nQ 1572 3394 1897 3394 \r\nQ 2322 3394 2647 3175 \r\nQ 2972 2956 3137 2557 \r\nQ 3303 2159 3303 1684 \r\nQ 3303 1175 3120 767 \r\nQ 2938 359 2589 142 \r\nQ 2241 -75 1856 -75 \r\nQ 1575 -75 1351 44 \r\nQ 1128 163 984 344 \r\nL 984 -1272 \r\nL 422 -1272 \r\nz\r\nM 931 1641 \r\nQ 931 1000 1190 694 \r\nQ 1450 388 1819 388 \r\nQ 2194 388 2461 705 \r\nQ 2728 1022 2728 1688 \r\nQ 2728 2322 2467 2637 \r\nQ 2206 2953 1844 2953 \r\nQ 1484 2953 1207 2617 \r\nQ 931 2281 931 1641 \r\nz\r\n\" id=\"ArialMT-70\" transform=\"scale(0.015625)\"/>\r\n       <path d=\"M 2694 1069 \r\nL 3275 997 \r\nQ 3138 488 2766 206 \r\nQ 2394 -75 1816 -75 \r\nQ 1088 -75 661 373 \r\nQ 234 822 234 1631 \r\nQ 234 2469 665 2931 \r\nQ 1097 3394 1784 3394 \r\nQ 2450 3394 2872 2941 \r\nQ 3294 2488 3294 1666 \r\nQ 3294 1616 3291 1516 \r\nL 816 1516 \r\nQ 847 969 1125 678 \r\nQ 1403 388 1819 388 \r\nQ 2128 388 2347 550 \r\nQ 2566 713 2694 1069 \r\nz\r\nM 847 1978 \r\nL 2700 1978 \r\nQ 2663 2397 2488 2606 \r\nQ 2219 2931 1791 2931 \r\nQ 1403 2931 1139 2672 \r\nQ 875 2413 847 1978 \r\nz\r\n\" id=\"ArialMT-65\" transform=\"scale(0.015625)\"/>\r\n       <path d=\"M 416 0 \r\nL 416 3319 \r\nL 922 3319 \r\nL 922 2816 \r\nQ 1116 3169 1280 3281 \r\nQ 1444 3394 1641 3394 \r\nQ 1925 3394 2219 3213 \r\nL 2025 2691 \r\nQ 1819 2813 1613 2813 \r\nQ 1428 2813 1281 2702 \r\nQ 1134 2591 1072 2394 \r\nQ 978 2094 978 1738 \r\nL 978 0 \r\nL 416 0 \r\nz\r\n\" id=\"ArialMT-72\" transform=\"scale(0.015625)\"/>\r\n      </defs>\r\n      <use xlink:href=\"#ArialMT-54\"/>\r\n      <use x=\"49.958984\" xlink:href=\"#ArialMT-6f\"/>\r\n      <use x=\"105.574219\" xlink:href=\"#ArialMT-74\"/>\r\n      <use x=\"133.357422\" xlink:href=\"#ArialMT-61\"/>\r\n      <use x=\"188.972656\" xlink:href=\"#ArialMT-6c\"/>\r\n      <use x=\"211.189453\" xlink:href=\"#ArialMT-20\"/>\r\n      <use x=\"238.972656\" xlink:href=\"#ArialMT-70\"/>\r\n      <use x=\"294.587891\" xlink:href=\"#ArialMT-65\"/>\r\n      <use x=\"350.203125\" xlink:href=\"#ArialMT-72\"/>\r\n      <use x=\"383.503906\" xlink:href=\"#ArialMT-20\"/>\r\n      <use x=\"411.287109\" xlink:href=\"#ArialMT-52\"/>\r\n      <use x=\"483.503906\" xlink:href=\"#ArialMT-61\"/>\r\n      <use x=\"539.119141\" xlink:href=\"#ArialMT-74\"/>\r\n      <use x=\"566.902344\" xlink:href=\"#ArialMT-69\"/>\r\n      <use x=\"589.119141\" xlink:href=\"#ArialMT-6e\"/>\r\n      <use x=\"644.734375\" xlink:href=\"#ArialMT-67\"/>\r\n     </g>\r\n    </g>\r\n   </g>\r\n   <g id=\"patch_3\">\r\n    <path clip-path=\"url(#p7674ed8f17)\" d=\"M 55.74375 241.376719 \r\nL 89.22375 241.376719 \r\nL 89.22375 34.291004 \r\nL 55.74375 34.291004 \r\nz\r\n\" style=\"fill:#176d9c;stroke:#ffffff;stroke-linejoin:miter;\"/>\r\n   </g>\r\n   <g id=\"patch_4\">\r\n    <path clip-path=\"url(#p7674ed8f17)\" d=\"M 97.59375 241.376719 \r\nL 131.07375 241.376719 \r\nL 131.07375 101.823675 \r\nL 97.59375 101.823675 \r\nz\r\n\" style=\"fill:#c38820;stroke:#ffffff;stroke-linejoin:miter;\"/>\r\n   </g>\r\n   <g id=\"patch_5\">\r\n    <path clip-path=\"url(#p7674ed8f17)\" d=\"M 139.44375 241.376719 \r\nL 172.92375 241.376719 \r\nL 172.92375 183.181362 \r\nL 139.44375 183.181362 \r\nz\r\n\" style=\"fill:#158b6a;stroke:#ffffff;stroke-linejoin:miter;\"/>\r\n   </g>\r\n   <g id=\"patch_6\">\r\n    <path clip-path=\"url(#p7674ed8f17)\" d=\"M 181.29375 241.376719 \r\nL 214.77375 241.376719 \r\nL 214.77375 193.2425 \r\nL 181.29375 193.2425 \r\nz\r\n\" style=\"fill:#ba611b;stroke:#ffffff;stroke-linejoin:miter;\"/>\r\n   </g>\r\n   <g id=\"patch_7\">\r\n    <path clip-path=\"url(#p7674ed8f17)\" d=\"M 223.14375 241.376719 \r\nL 256.62375 241.376719 \r\nL 256.62375 213.437157 \r\nL 223.14375 213.437157 \r\nz\r\n\" style=\"fill:#c282b5;stroke:#ffffff;stroke-linejoin:miter;\"/>\r\n   </g>\r\n   <g id=\"patch_8\">\r\n    <path clip-path=\"url(#p7674ed8f17)\" d=\"M 264.99375 241.376719 \r\nL 298.47375 241.376719 \r\nL 298.47375 221.182062 \r\nL 264.99375 221.182062 \r\nz\r\n\" style=\"fill:#bd926e;stroke:#ffffff;stroke-linejoin:miter;\"/>\r\n   </g>\r\n   <g id=\"patch_9\">\r\n    <path clip-path=\"url(#p7674ed8f17)\" d=\"M 306.84375 241.376719 \r\nL 340.32375 241.376719 \r\nL 340.32375 221.833502 \r\nL 306.84375 221.833502 \r\nz\r\n\" style=\"fill:#f2b8e0;stroke:#ffffff;stroke-linejoin:miter;\"/>\r\n   </g>\r\n   <g id=\"patch_10\">\r\n    <path clip-path=\"url(#p7674ed8f17)\" d=\"M 348.69375 241.376719 \r\nL 382.17375 241.376719 \r\nL 382.17375 223.498295 \r\nL 348.69375 223.498295 \r\nz\r\n\" style=\"fill:#949494;stroke:#ffffff;stroke-linejoin:miter;\"/>\r\n   </g>\r\n   <g id=\"line2d_1\">\r\n    <path clip-path=\"url(#p7674ed8f17)\" style=\"fill:none;stroke:#424242;stroke-linecap:round;stroke-width:2.7;\"/>\r\n   </g>\r\n   <g id=\"line2d_2\">\r\n    <path clip-path=\"url(#p7674ed8f17)\" style=\"fill:none;stroke:#424242;stroke-linecap:round;stroke-width:2.7;\"/>\r\n   </g>\r\n   <g id=\"line2d_3\">\r\n    <path clip-path=\"url(#p7674ed8f17)\" style=\"fill:none;stroke:#424242;stroke-linecap:round;stroke-width:2.7;\"/>\r\n   </g>\r\n   <g id=\"line2d_4\">\r\n    <path clip-path=\"url(#p7674ed8f17)\" style=\"fill:none;stroke:#424242;stroke-linecap:round;stroke-width:2.7;\"/>\r\n   </g>\r\n   <g id=\"line2d_5\">\r\n    <path clip-path=\"url(#p7674ed8f17)\" style=\"fill:none;stroke:#424242;stroke-linecap:round;stroke-width:2.7;\"/>\r\n   </g>\r\n   <g id=\"line2d_6\">\r\n    <path clip-path=\"url(#p7674ed8f17)\" style=\"fill:none;stroke:#424242;stroke-linecap:round;stroke-width:2.7;\"/>\r\n   </g>\r\n   <g id=\"line2d_7\">\r\n    <path clip-path=\"url(#p7674ed8f17)\" style=\"fill:none;stroke:#424242;stroke-linecap:round;stroke-width:2.7;\"/>\r\n   </g>\r\n   <g id=\"line2d_8\">\r\n    <path clip-path=\"url(#p7674ed8f17)\" style=\"fill:none;stroke:#424242;stroke-linecap:round;stroke-width:2.7;\"/>\r\n   </g>\r\n   <g id=\"text_18\">\r\n    <!-- Movies Ratings -->\r\n    <g style=\"fill:#262626;\" transform=\"translate(167.691563 17.936719)scale(0.15 -0.15)\">\r\n     <defs>\r\n      <path d=\"M 1344 0 \r\nL 81 3319 \r\nL 675 3319 \r\nL 1388 1331 \r\nQ 1503 1009 1600 663 \r\nQ 1675 925 1809 1294 \r\nL 2547 3319 \r\nL 3125 3319 \r\nL 1869 0 \r\nL 1344 0 \r\nz\r\n\" id=\"ArialMT-76\" transform=\"scale(0.015625)\"/>\r\n      <path d=\"M 197 991 \r\nL 753 1078 \r\nQ 800 744 1014 566 \r\nQ 1228 388 1613 388 \r\nQ 2000 388 2187 545 \r\nQ 2375 703 2375 916 \r\nQ 2375 1106 2209 1216 \r\nQ 2094 1291 1634 1406 \r\nQ 1016 1563 777 1677 \r\nQ 538 1791 414 1992 \r\nQ 291 2194 291 2438 \r\nQ 291 2659 392 2848 \r\nQ 494 3038 669 3163 \r\nQ 800 3259 1026 3326 \r\nQ 1253 3394 1513 3394 \r\nQ 1903 3394 2198 3281 \r\nQ 2494 3169 2634 2976 \r\nQ 2775 2784 2828 2463 \r\nL 2278 2388 \r\nQ 2241 2644 2061 2787 \r\nQ 1881 2931 1553 2931 \r\nQ 1166 2931 1000 2803 \r\nQ 834 2675 834 2503 \r\nQ 834 2394 903 2306 \r\nQ 972 2216 1119 2156 \r\nQ 1203 2125 1616 2013 \r\nQ 2213 1853 2448 1751 \r\nQ 2684 1650 2818 1456 \r\nQ 2953 1263 2953 975 \r\nQ 2953 694 2789 445 \r\nQ 2625 197 2315 61 \r\nQ 2006 -75 1616 -75 \r\nQ 969 -75 630 194 \r\nQ 291 463 197 991 \r\nz\r\n\" id=\"ArialMT-73\" transform=\"scale(0.015625)\"/>\r\n     </defs>\r\n     <use xlink:href=\"#ArialMT-4d\"/>\r\n     <use x=\"83.300781\" xlink:href=\"#ArialMT-6f\"/>\r\n     <use x=\"138.916016\" xlink:href=\"#ArialMT-76\"/>\r\n     <use x=\"188.916016\" xlink:href=\"#ArialMT-69\"/>\r\n     <use x=\"211.132812\" xlink:href=\"#ArialMT-65\"/>\r\n     <use x=\"266.748047\" xlink:href=\"#ArialMT-73\"/>\r\n     <use x=\"316.748047\" xlink:href=\"#ArialMT-20\"/>\r\n     <use x=\"344.53125\" xlink:href=\"#ArialMT-52\"/>\r\n     <use x=\"416.748047\" xlink:href=\"#ArialMT-61\"/>\r\n     <use x=\"472.363281\" xlink:href=\"#ArialMT-74\"/>\r\n     <use x=\"500.146484\" xlink:href=\"#ArialMT-69\"/>\r\n     <use x=\"522.363281\" xlink:href=\"#ArialMT-6e\"/>\r\n     <use x=\"577.978516\" xlink:href=\"#ArialMT-67\"/>\r\n     <use x=\"633.59375\" xlink:href=\"#ArialMT-73\"/>\r\n    </g>\r\n   </g>\r\n  </g>\r\n </g>\r\n <defs>\r\n  <clipPath id=\"p7674ed8f17\">\r\n   <rect height=\"217.44\" width=\"334.8\" x=\"51.55875\" y=\"23.936719\"/>\r\n  </clipPath>\r\n </defs>\r\n</svg>\r\n",
      "image/png": "[encoded data removed]"
     },
     "metadata": {}
    }
   ],
   "source": [
    "#plot the top eight most repeated ratings\n",
    "rating=data.rating.value_counts().iloc[0:8]\n",
    "rat=sns.barplot(x=rating.index,y=rating.values,palette='colorblind')\n",
    "sns.despine(left=True,bottom=True)\n",
    "rat.set_xlabel('Rating',fontsize=12)\n",
    "rat.set_ylabel('Total per Rating',fontsize=12)\n",
    "rat.tick_params(axis='both', which='major', labelsize=10)\n",
    "rat.set_title('Movies Ratings',fontsize=15,)\n",
    "plt.show()\n"
   ]
  },
  {
   "source": [
    "As we can see the most repeated rating is TV MA. This rating says that the program is intended to be viewed by mature, adult audiences and may be unsuitable for children under 17 years old. the next one is TV 14 who states that the program may be unsuitable for children under 14 years of age"
   ],
   "cell_type": "markdown",
   "metadata": {}
  },
  {
   "cell_type": "code",
   "execution_count": null,
   "metadata": {},
   "outputs": [],
   "source": []
  }
 ]
}